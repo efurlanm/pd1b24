{
 "cells": [
  {
   "cell_type": "markdown",
   "id": "5a90ebc4-c696-4a6c-b111-414dd65930a9",
   "metadata": {},
   "source": [
    "# RRTMGP_RFMIP_LW_02\n",
    "\n",
    "*Last edited: 2024-10-18*\n",
    "\n",
    "This code is part of RRTM for GCM Applications - Parallel (RRTMGP). Please see `rrtmgp_rfmip_lw.F90` for more info.\n",
    "\n",
    "- Example program to demonstrate the calculation of longwave radiative fluxes in clear, aerosol-free skies.\n",
    "- The example files come from the Radiative Forcing MIP (https://www.earthsystemcog.org/projects/rfmip/).\n",
    "- The large problem (1800 profiles) is divided into blocks.\n",
    "- Program is invoked as rrtmgp_rfmip_lw [block_size input_file coefficient_file upflux_file downflux_file] .\n",
    "- All arguments are optional but need to be specified in order.\n",
    "\n",
    "The objective of this Notebook is to study the functioning of the example program `rrtmgp_rfmip_lw.F90`, taking advantage of Jupyter's resources for code documentation and interactive experimentation.\n",
    "\n",
    "For ease of understanding, this version does not use OpenACC, OpenMP, Timing, Papi, and other optional libraries."
   ]
  },
  {
   "cell_type": "markdown",
   "id": "d52c4256-df66-403c-b9d5-12d049e9fd25",
   "metadata": {},
   "source": [
    "## Table of Contents\n",
    "\n",
    "> (in JupyterLab, use the menu, or Ctrl+Shift+K)"
   ]
  },
  {
   "cell_type": "markdown",
   "id": "9343b794-18f7-459d-91e1-53b50e27eafe",
   "metadata": {},
   "source": [
    "## Makefile\n",
    "\n",
    "For `rrtmgp_rfmip_lw_02.f90` and `rrtmgp_rfmip_sw_02.F90`"
   ]
  },
  {
   "cell_type": "code",
   "execution_count": 242,
   "id": "f821cdb3-b81b-4cd7-850b-048f33ff09d5",
   "metadata": {},
   "outputs": [],
   "source": [
    "#23456789 123456789 123456789 123456789 123456789 123456789 123456789 12"
   ]
  },
  {
   "cell_type": "code",
   "execution_count": 243,
   "id": "cc0d8e3b-1f03-424a-b7d1-de9a95d56692",
   "metadata": {},
   "outputs": [
    {
     "name": "stdout",
     "output_type": "stream",
     "text": [
      "/home/x/git/pd1b24/rrtmgp/ukk23test01/examples/rfmip-clear-sky\n"
     ]
    }
   ],
   "source": [
    "WORKDIR = \"/home/x/git/pd1b24/rrtmgp/ukk23test01/examples/rfmip-clear-sky/\"\n",
    "%cd {WORKDIR}"
   ]
  },
  {
   "cell_type": "code",
   "execution_count": 244,
   "id": "fb9ca7d6-8941-458d-b030-0df4af19cc63",
   "metadata": {},
   "outputs": [
    {
     "name": "stdout",
     "output_type": "stream",
     "text": [
      "Overwriting Makefile\n"
     ]
    }
   ],
   "source": [
    "%%writefile Makefile\n",
    "# Set k-distribution files\n",
    "# KDIST_LW=rrtmgp-data-lw-g256-2018-12-04.nc\n",
    "# KDIST_SW=rrtmgp-data-sw-g224-2018-12-04.nc\n",
    "KDIST_LW=rrtmgp-data-lw-g128-210809.nc\n",
    "KDIST_SW=rrtmgp-data-sw-g112-210809.nc\n",
    "BLOCKSIZE = 36\n",
    "\n",
    "# Here set variables RRTMGP_BUILD, NCHOME, NFHOME, TIME_DIR (for GPTL)\n",
    "# and link against BLAS library, or have those variables set in the\n",
    "# environment\n",
    "\n",
    "RRTMGP_ROOT=../../\n",
    "$(info VAR=\"$(RRTMGP_ROOT)\")\n",
    "RRTMGP_BUILD=$(RRTMGP_ROOT)/build\n",
    "-include $(RRTMGP_BUILD)/Makefile.conf\n",
    "\n",
    "# RRTMGP library, module files\n",
    "\n",
    "LDFLAGS   += -L$(RRTMGP_BUILD)\n",
    "LIBS      += -lrrtmgp -lrte -lneural\n",
    "FCINCLUDE += -I$(RRTMGP_BUILD)\n",
    "\n",
    "# netcdf library, module files\n",
    "# C and Fortran interfaces respectively\n",
    "\n",
    "FCINCLUDE += -I$(NFHOME)/include\n",
    "LDFLAGS   += -L$(NFHOME)/lib -L$(NCHOME)/lib\n",
    "LIBS      += -lnetcdff -lnetcdf\n",
    "\n",
    "# -------- BLAS lbirary: required for RRTMGP-NN -------- \n",
    "# Choose BLAS library: e.g. \"blis\", \"openblas\", \"mkl\".\n",
    "# Here we use BLIS (https://github.com/flame/blis) which is one of the\n",
    "# fastest BLAS libraries available (on Intel platforms MKL is probably\n",
    "# faster). The flags BLAS_DIR and BLASLIB can be specified in\n",
    "# Makefile.conf or the environment Depending on your BLAS library you\n",
    "# might have to make changes below.\n",
    "\n",
    "ifeq ($(BLASLIB),blis)\n",
    "\tFCINCLUDE   += -I$(BLAS_DIR)/include/blis\n",
    "\tLIBS      \t+= $(BLAS_DIR)/lib/libblis.a -lm -lpthread \n",
    "else ifeq ($(BLASLIB),blis-amd)\n",
    "\tFCINCLUDE   += -I$(BLAS_DIR)/include/blis\n",
    "\tLIBS      \t+= $(BLAS_DIR)/lib/libblis-mt.a -lm -lpthread \n",
    "else ifeq ($(BLASLIB),openblas)\n",
    "\tLIBS \t\t+= -lopenblas \n",
    "else ifeq ($(BLASLIB),mkl)\n",
    "\tFCINCLUDE   += -I${MKLROOT}/include\n",
    "\t#LDFLAGS     += -L${MKLROOT}/lib/intel64 -lmkl_rt\n",
    "\t#LDFLAGS     += -lpthread -lm -ldl\n",
    "endif\n",
    "\n",
    "# -------- Use OpenMP? May be needed for BLAS -------\n",
    "# ifeq ($(BLASLIB),blis-amd)\n",
    "#    USE_OPENMP=1\n",
    "# endif\n",
    "#USE_OPENMP=1\n",
    "\n",
    "ifeq ($(USE_OPENMP),1)\n",
    "\t# OMPFLAG = -fopenmp\n",
    "\tFCFLAGS += -DUSE_OPENMP\n",
    "endif\n",
    "OMPFLAG = -fopenmp\n",
    "\n",
    "ifeq ($(USE_OPENACC),1)\n",
    "  FCFLAGS += -DUSE_OPENACC\n",
    "endif\n",
    "\n",
    "# -------- GPTL Timing -------\n",
    "# Use General Purpose Timing Library to profile code?\n",
    "\n",
    "ifeq ($(GPTL_TIMING),1)\n",
    "\n",
    "\t# Timing library\n",
    "\n",
    "\tFCINCLUDE += -I$(TIME_DIR)/include\n",
    "\n",
    "    # Compiler specific\n",
    "\n",
    "\tFCFLAGS += -DUSE_TIMING\n",
    "\tLDFLAGS   += -L$(TIME_DIR)/lib -Wl,-rpath=$(TIME_DIR)/lib\n",
    "\tLIBS      += -lgptl\n",
    "\n",
    "# Use GPTL together with PAPI hardware instrumentation to measure \n",
    "# computational intensity? Requires that your GPTL was compiled to PAPI \n",
    "# support\n",
    "\n",
    "else ifeq ($(GPTL_TIMING),2)\n",
    "\n",
    "\t# Timing library\n",
    "\n",
    "\tFCINCLUDE += -I$(TIME_DIR)/include\n",
    "\n",
    "\t# Compiler specific\n",
    "\n",
    "\tFCFLAGS += -DUSE_TIMING -DUSE_PAPI\n",
    "\tLDFLAGS   += -L$(TIME_DIR)/lib -Wl,-rpath=$(TIME_DIR)/lib\n",
    "\n",
    "\t# LIBS      += -lgptl  -rdynamic  -lpapi\n",
    "\n",
    "\tLIBS      += -lgptl -lpapi\n",
    "\n",
    "    ifeq ($(FC),gfortran)\n",
    "    \tLIBS      += -rdynamic\n",
    "    endif\n",
    "\n",
    "endif\n",
    "\n",
    "VPATH = ../\n",
    "\n",
    "# Compilation rules\n",
    "%.o: %.F90\n",
    "\t$(FC) $(FCFLAGS) $(FCINCLUDE) -c $< $(OMPFLAG)\n",
    "\n",
    "%: %.o\n",
    "\t$(FC) $(FCFLAGS) -o $@ $^ $(LDFLAGS) $(LIBS) $(OMPFLAG)\n",
    "\n",
    "#\n",
    "# Ancillary codes\n",
    "#\n",
    "ADDITIONS = mo_simple_netcdf.o mo_rfmip_io.o mo_load_coefficients.o\n",
    "all: rrtmgp_rfmip_lw_02 jn_rrtmgp_rfmip_sw\n",
    "rrtmgp_rfmip_lw_02:   rrtmgp_rfmip_lw_02.o   $(ADDITIONS) $(RRTMGP_BUILD)/librte.a $(RRTMGP_BUILD)/librrtmgp.a $(RRTMGP_BUILD)/libneural.a\n",
    "rrtmgp_rfmip_lw_02.o: rrtmgp_rfmip_lw_02.f90 $(ADDITIONS)\n",
    "jn_rrtmgp_rfmip_sw:   jn_rrtmgp_rfmip_sw.o   $(ADDITIONS) $(RRTMGP_BUILD)/librte.a $(RRTMGP_BUILD)/librrtmgp.a $(RRTMGP_BUILD)/libneural.a\n",
    "jn_rrtmgp_rfmip_sw.o: jn_rrtmgp_rfmip_sw.F90 $(ADDITIONS)\n",
    "mo_rfmip_io.o:          mo_rfmip_io.F90          mo_simple_netcdf.o\n",
    "mo_load_coefficients.o: mo_load_coefficients.F90 mo_simple_netcdf.o\n",
    "\n",
    "tests: multiple_input4MIPs_radiation_RFMIP_UColorado-RFMIP-1-2_none.nc # Also the template files\n",
    "\t# Files need to have been generated/downloaded before\n",
    "\t$(RUN_CMD) ./rrtmgp_rfmip_lw_02 $(BLOCKSIZE) multiple_input4MIPs_radiation_RFMIP_UColorado-RFMIP-1-2_none.nc ${RRTMGP_ROOT}/rrtmgp/data/$(KDIST_LW)\n",
    "\t$(RUN_CMD) ./jn_rrtmgp_rfmip_sw $(BLOCKSIZE) multiple_input4MIPs_radiation_RFMIP_UColorado-RFMIP-1-2_none.nc ${RRTMGP_ROOT}/rrtmgp/data/$(KDIST_SW)\n",
    "\n",
    "check:\n",
    "\tcd ${RRTMGP_ROOT}/examples/rfmip-clear-sky && python ./compare-to-reference.py --fail=7.e-4\n",
    "\n",
    "multiple_input4MIPs_radiation_RFMIP_UColorado-RFMIP-1-2_none.nc:\n",
    "\tbash ./stage_files.sh\n",
    "\n",
    "clean:\n",
    "\t-rm jn_rrtmgp_rfmip_sw rrtmgp_rfmip_lw_02 *.o *.mod *.optrpt"
   ]
  },
  {
   "cell_type": "markdown",
   "id": "117fa5eb-9d62-4dfd-a5e7-c9461bdf8454",
   "metadata": {},
   "source": [
    "## rrtmgp_rfmip_lw_02.f90"
   ]
  },
  {
   "cell_type": "markdown",
   "id": "f9e40989-6f48-413a-ac8d-8e89150b0ee8",
   "metadata": {},
   "source": [
    "All cells need to be executed in order to create the final file rrtmgp_rfmip_lw_02.f90. The code has been divided in this way, into small cells, to try to make the parts easier to understand.\n",
    "\n",
    "Start of the code\n",
    "\n",
    "- Error checking: Procedures in rte+rrtmgp return strings which are empty if no errors occured.\n",
    "- Check the incoming string, print it out and stop execution if non-empty."
   ]
  },
  {
   "cell_type": "code",
   "execution_count": 245,
   "id": "a4fd2d5c-73dc-4e8a-8cd7-2723f01fd77f",
   "metadata": {},
   "outputs": [
    {
     "name": "stdout",
     "output_type": "stream",
     "text": [
      "Overwriting jn_rrtmgp_rfmip_lw.f90\n"
     ]
    }
   ],
   "source": [
    "%%writefile rrtmgp_rfmip_lw_02.f90\n",
    "! *** rrtmgp_rfmip_lw_02.f90 ***\n",
    "! This file was generated by the Notebook `rrtmgp_rfmip_lw_02.ipynb`, \n",
    "! and it is rewritten each time the Notebook is run, losing all changes \n",
    "! made to this file. To make changes to the file, you must make them \n",
    "! directly in the Notebook, and rerun it to recreate this file with the \n",
    "! changes included."
   ]
  },
  {
   "cell_type": "markdown",
   "id": "62a2ec9d-edfd-4dce-87c5-d1f7a7d1770b",
   "metadata": {},
   "source": [
    "### Subroutines"
   ]
  },
  {
   "cell_type": "code",
   "execution_count": 246,
   "id": "95df6b66-73ba-458e-b155-b7101122c8b4",
   "metadata": {},
   "outputs": [
    {
     "name": "stdout",
     "output_type": "stream",
     "text": [
      "Appending to jn_rrtmgp_rfmip_lw.f90\n"
     ]
    }
   ],
   "source": [
    "%%writefile -a rrtmgp_rfmip_lw_02.f90\n",
    "\n",
    "subroutine stop_on_err(error_msg)\n",
    "  use iso_fortran_env, only : error_unit\n",
    "  use iso_c_binding\n",
    "  character(len=*), intent(in) :: error_msg\n",
    "\n",
    "  if(error_msg /= \"\") then\n",
    "    write (error_unit,*) trim(error_msg)\n",
    "    write (error_unit,*) \"Stopping.\"\n",
    "    stop\n",
    "  end if\n",
    "end subroutine stop_on_err"
   ]
  },
  {
   "cell_type": "markdown",
   "id": "014489e8-1951-4fd0-8195-8a873e1b1d4b",
   "metadata": {},
   "source": [
    "### Main program"
   ]
  },
  {
   "cell_type": "code",
   "execution_count": 247,
   "id": "8ce16e2e-d2c1-437e-b0c0-a8be020df142",
   "metadata": {},
   "outputs": [
    {
     "name": "stdout",
     "output_type": "stream",
     "text": [
      "Appending to jn_rrtmgp_rfmip_lw.f90\n"
     ]
    }
   ],
   "source": [
    "%%writefile -a rrtmgp_rfmip_lw_02.f90\n",
    "\n",
    "program rrtmgp_rfmip_lw_02\n",
    "implicit none"
   ]
  },
  {
   "cell_type": "markdown",
   "id": "150e16d6-e2d6-4c18-be7c-40824225de8d",
   "metadata": {},
   "source": [
    "### Modules for working with rte and rrtmgp"
   ]
  },
  {
   "cell_type": "markdown",
   "id": "09578b14-38c9-44da-a989-1ffb24d84c1c",
   "metadata": {},
   "source": [
    " Working precision for real variables:"
   ]
  },
  {
   "cell_type": "code",
   "execution_count": 248,
   "id": "da8bb4b1-1be1-4f0b-9f59-a50a7163487a",
   "metadata": {},
   "outputs": [
    {
     "name": "stdout",
     "output_type": "stream",
     "text": [
      "Appending to jn_rrtmgp_rfmip_lw.f90\n"
     ]
    }
   ],
   "source": [
    "%%writefile -a rrtmgp_rfmip_lw_02.f90\n",
    "\n",
    "use mo_rte_kind, only: wp, sp, wl, i4"
   ]
  },
  {
   "cell_type": "markdown",
   "id": "0617591b-b7ae-4e1b-8911-bc0880c7ceb2",
   "metadata": {},
   "source": [
    "- Optical properties of the atmosphere as array of values\n",
    "  - In the longwave we include only absorption optical depth (_1scl)\n",
    "  - Shortwave calculations would use optical depth, single-scattering albedo, asymmetry parameter (_2str)"
   ]
  },
  {
   "cell_type": "code",
   "execution_count": 249,
   "id": "53bf218c-a2c6-41ff-8649-15643a970028",
   "metadata": {},
   "outputs": [
    {
     "name": "stdout",
     "output_type": "stream",
     "text": [
      "Appending to jn_rrtmgp_rfmip_lw.f90\n"
     ]
    }
   ],
   "source": [
    "%%writefile -a rrtmgp_rfmip_lw_02.f90\n",
    "\n",
    "use mo_optical_props, only: ty_optical_props_1scl"
   ]
  },
  {
   "cell_type": "markdown",
   "id": "b4748a42-f18f-497b-8910-fc0500d2d983",
   "metadata": {},
   "source": [
    "- Gas optics: maps physical state of the atmosphere to optical properties"
   ]
  },
  {
   "cell_type": "code",
   "execution_count": 250,
   "id": "4567b97d-368e-4f45-8c2e-7d66c4ff1cab",
   "metadata": {},
   "outputs": [
    {
     "name": "stdout",
     "output_type": "stream",
     "text": [
      "Appending to jn_rrtmgp_rfmip_lw.f90\n"
     ]
    }
   ],
   "source": [
    "%%writefile -a rrtmgp_rfmip_lw_02.f90\n",
    "\n",
    "use mo_gas_optics_rrtmgp, only: ty_gas_optics_rrtmgp"
   ]
  },
  {
   "cell_type": "markdown",
   "id": "b46618b5-a1af-4d71-b74b-616a35052f61",
   "metadata": {},
   "source": [
    "- Gas optics uses a derived type to represent gas concentrations compactly..."
   ]
  },
  {
   "cell_type": "code",
   "execution_count": 251,
   "id": "e2a40cd8-042d-4c92-bebd-1471ce326a91",
   "metadata": {},
   "outputs": [
    {
     "name": "stdout",
     "output_type": "stream",
     "text": [
      "Appending to jn_rrtmgp_rfmip_lw.f90\n"
     ]
    }
   ],
   "source": [
    "%%writefile -a rrtmgp_rfmip_lw_02.f90\n",
    "\n",
    " use mo_gas_concentrations, only: ty_gas_concs"
   ]
  },
  {
   "cell_type": "markdown",
   "id": "68fb59f0-64cd-4bd8-a35b-6bb3ffe28a23",
   "metadata": {},
   "source": [
    "- ... and another type to encapsulate the longwave source functions."
   ]
  },
  {
   "cell_type": "code",
   "execution_count": 252,
   "id": "f316bb67-d2e9-42b2-b138-c03b165af981",
   "metadata": {},
   "outputs": [
    {
     "name": "stdout",
     "output_type": "stream",
     "text": [
      "Appending to jn_rrtmgp_rfmip_lw.f90\n"
     ]
    }
   ],
   "source": [
    "%%writefile -a rrtmgp_rfmip_lw_02.f90\n",
    "\n",
    "use mo_source_functions, only: ty_source_func_lw"
   ]
  },
  {
   "cell_type": "markdown",
   "id": "450c1404-6664-497d-90e6-805cc3455bee",
   "metadata": {},
   "source": [
    "- RTE longwave driver."
   ]
  },
  {
   "cell_type": "code",
   "execution_count": 253,
   "id": "fe840919-466f-40ab-a757-c7c97316b625",
   "metadata": {},
   "outputs": [
    {
     "name": "stdout",
     "output_type": "stream",
     "text": [
      "Appending to jn_rrtmgp_rfmip_lw.f90\n"
     ]
    }
   ],
   "source": [
    "%%writefile -a rrtmgp_rfmip_lw_02.f90\n",
    "\n",
    "use mo_rte_lw, only: rte_lw"
   ]
  },
  {
   "cell_type": "markdown",
   "id": "a2ada067-98f5-4b8b-a464-98aaf616c722",
   "metadata": {},
   "source": [
    "- RTE driver uses a derived type to reduce spectral fluxes to whatever the user wants\n",
    "  - Here we're just reporting broadband fluxes"
   ]
  },
  {
   "cell_type": "code",
   "execution_count": 254,
   "id": "63838c63-dd27-45b5-a501-eaf99d8c3b0a",
   "metadata": {},
   "outputs": [
    {
     "name": "stdout",
     "output_type": "stream",
     "text": [
      "Appending to jn_rrtmgp_rfmip_lw.f90\n"
     ]
    }
   ],
   "source": [
    "%%writefile -a rrtmgp_rfmip_lw_02.f90\n",
    "\n",
    "use mo_fluxes, only: ty_fluxes_broadband, ty_fluxes_flexible"
   ]
  },
  {
   "cell_type": "markdown",
   "id": "a422017b-09de-4282-b477-3b741d601a55",
   "metadata": {},
   "source": [
    "  - modules for reading and writing files\n",
    "  - RRTMGP's gas optics class needs to be initialized with data read from a netCDF files"
   ]
  },
  {
   "cell_type": "code",
   "execution_count": 255,
   "id": "f0639ad9-80f9-449a-8159-a98e5ca6de06",
   "metadata": {},
   "outputs": [
    {
     "name": "stdout",
     "output_type": "stream",
     "text": [
      "Appending to jn_rrtmgp_rfmip_lw.f90\n"
     ]
    }
   ],
   "source": [
    "%%writefile -a rrtmgp_rfmip_lw_02.f90\n",
    "\n",
    "use mo_load_coefficients, only: load_and_init\n",
    "use mo_rfmip_io, only: read_size, read_and_block_pt, &\n",
    "  read_and_block_gases_ty, unblock_and_write, unblock, &\n",
    "  read_and_block_lw_bc, determine_gas_names\n",
    "use mo_simple_netcdf, only: read_field, get_dim_size\n",
    "use netcdf\n",
    "use mod_network_rrtmgp"
   ]
  },
  {
   "cell_type": "markdown",
   "id": "efe97666-a210-4141-b11c-5eb93cb00c02",
   "metadata": {},
   "source": [
    "Local variables:"
   ]
  },
  {
   "cell_type": "code",
   "execution_count": 256,
   "id": "97aa274b-12f5-4471-82a1-8e3779f0e57c",
   "metadata": {},
   "outputs": [
    {
     "name": "stdout",
     "output_type": "stream",
     "text": [
      "Appending to jn_rrtmgp_rfmip_lw.f90\n"
     ]
    }
   ],
   "source": [
    "%%writefile -a rrtmgp_rfmip_lw_02.f90\n",
    "\n",
    "character(len=132) :: rfmip_file = &\n",
    "  'multiple_input4MIPs_radiation_RFMIP_UColorado-RFMIP-1-2_none.nc', &\n",
    "  kdist_file = 'coefficients_lw.nc'"
   ]
  },
  {
   "cell_type": "markdown",
   "id": "2ab797a8-2acd-4d0d-a565-5356dba54c1f",
   "metadata": {},
   "source": [
    "- Neural networks for gas optics (optional) - netCDF files which describe the models and pre-processing coefficients (The two models predict SW absorption and Rayleigh scattering, respectively)"
   ]
  },
  {
   "cell_type": "code",
   "execution_count": 257,
   "id": "6823cb26-fa6d-4217-b6f3-e5f5240e0c2f",
   "metadata": {},
   "outputs": [
    {
     "name": "stdout",
     "output_type": "stream",
     "text": [
      "Appending to jn_rrtmgp_rfmip_lw.f90\n"
     ]
    }
   ],
   "source": [
    "%%writefile -a rrtmgp_rfmip_lw_02.f90\n",
    "\n",
    "character(len=80) :: modelfile_tau = &\n",
    "  \"../../neural/data/BEST_tau-lw-18-58-58.nc\", &\n",
    "  modelfile_source = &\n",
    "  \"../../neural/data/BEST_pfrac-18-16-16.nc\""
   ]
  },
  {
   "cell_type": "code",
   "execution_count": 258,
   "id": "9443ab2a-9620-4729-ae51-547578086734",
   "metadata": {},
   "outputs": [
    {
     "name": "stdout",
     "output_type": "stream",
     "text": [
      "Appending to jn_rrtmgp_rfmip_lw.f90\n"
     ]
    }
   ],
   "source": [
    "%%writefile -a rrtmgp_rfmip_lw_02.f90\n",
    "\n",
    "character(len=132) :: flx_file, flx_file_ref, flx_file_lbl, timing_file\n",
    "integer            :: nargs, ncol, nlay, nbnd, ngpt, nexp, nblocks, &\n",
    "                      block_size, forcing_index, physics_index, &\n",
    "                      n_quad_angles = 1\n",
    "logical            :: top_at_1\n",
    "integer            :: b, icol, ilay, ibnd, igpt, count_rate, iTime1, &\n",
    "                      iTime2, iTime3, ncid, ninputs, istat, igas, ret, i\n",
    "character(len=5)   :: block_size_char, forcing_index_char = '1', &\n",
    "                      physics_index_char = '1'\n",
    "character(len=32), dimension(:), allocatable :: kdist_gas_names, &\n",
    "                      rfmip_gas_names\n",
    "! block_size, nlay, nblocks\n",
    "real(wp), dimension(:,:,:), allocatable :: p_lay, p_lev, t_lay, t_lev\n",
    "real(wp), dimension(:,:,:), target, allocatable :: flux_up, flux_dn\n",
    "real(wp), dimension(:,:,:,:), target, allocatable :: gpt_flux_up, &\n",
    "                      gpt_flux_dn\n",
    "real(wp), dimension(:,:,:), allocatable :: rlu_ref, rld_ref, rlu_nn, &\n",
    "                      rld_nn, rlu_lbl, rld_lbl, rldu_ref, rldu_nn, &\n",
    "                      rldu_lbl, col_dry\n",
    "! block_size, nblocks (emissivity is spectrally constant)\n",
    "real(wp), dimension(:,:), allocatable :: sfc_emis, sfc_t\n",
    "! nbands, block_size (spectrally-resolved emissivity)\n",
    "real(wp), dimension(:,:), allocatable :: sfc_emis_spec\n",
    "real(wp) :: bb_flux_up\n",
    "logical :: use_rrtmgp_nn, do_gpt_flux, compare_flux, save_flux"
   ]
  },
  {
   "cell_type": "markdown",
   "id": "89c40b1e-5243-41a9-8d7c-0c242a191cd3",
   "metadata": {},
   "source": [
    "Classes used by rte+rrtmgp:"
   ]
  },
  {
   "cell_type": "code",
   "execution_count": 259,
   "id": "f190e43c-3fb8-4757-8b70-5adf10de4cab",
   "metadata": {},
   "outputs": [
    {
     "name": "stdout",
     "output_type": "stream",
     "text": [
      "Appending to jn_rrtmgp_rfmip_lw.f90\n"
     ]
    }
   ],
   "source": [
    "%%writefile -a rrtmgp_rfmip_lw_02.f90\n",
    "\n",
    "type(ty_gas_optics_rrtmgp)  :: k_dist\n",
    "type(ty_source_func_lw)     :: source\n",
    "type(ty_optical_props_1scl) :: optical_props\n",
    "type(ty_fluxes_flexible)   :: fluxes\n",
    "\n",
    "! First model is for absorption, second is for Planck fraction\n",
    "type(rrtmgp_network_type), dimension(:), allocatable :: neural_nets"
   ]
  },
  {
   "cell_type": "markdown",
   "id": "1c9b65ee-3e0a-4e21-b99a-a11b0495a064",
   "metadata": {},
   "source": [
    "- `ty_gas_concentration` holds multiple columns; we make an array of these objects to leverage what we know about the input file"
   ]
  },
  {
   "cell_type": "code",
   "execution_count": 260,
   "id": "ca23941b-faac-4fbb-bc98-69461e253a93",
   "metadata": {},
   "outputs": [
    {
     "name": "stdout",
     "output_type": "stream",
     "text": [
      "Appending to jn_rrtmgp_rfmip_lw.f90\n"
     ]
    }
   ],
   "source": [
    "%%writefile -a rrtmgp_rfmip_lw_02.f90\n",
    "\n",
    "type(ty_gas_concs), dimension(:), allocatable  :: gas_conc_array"
   ]
  },
  {
   "cell_type": "markdown",
   "id": "ddfa4f63-129f-444b-a4d5-68013c583cb6",
   "metadata": {},
   "source": [
    "### Code starts\n",
    "\n",
    "All arguments are optional\n",
    "\n",
    "### I/O and settings\n",
    "\n",
    "Use neural networks for gas optics?  if NN models provided, set to true, but can also be overriden:"
   ]
  },
  {
   "cell_type": "code",
   "execution_count": 261,
   "id": "c794a878-0919-4d73-976a-c4530ec71876",
   "metadata": {},
   "outputs": [
    {
     "name": "stdout",
     "output_type": "stream",
     "text": [
      "Appending to jn_rrtmgp_rfmip_lw.f90\n"
     ]
    }
   ],
   "source": [
    "%%writefile -a rrtmgp_rfmip_lw_02.f90\n",
    "\n",
    "use_rrtmgp_nn      = .false."
   ]
  },
  {
   "cell_type": "markdown",
   "id": "c70a251c-4a2c-4731-9c74-afd6294c19f5",
   "metadata": {},
   "source": [
    "Save fluxes:"
   ]
  },
  {
   "cell_type": "code",
   "execution_count": 262,
   "id": "e4e7ea55-65af-4430-95bb-a47506bcb191",
   "metadata": {},
   "outputs": [
    {
     "name": "stdout",
     "output_type": "stream",
     "text": [
      "Appending to jn_rrtmgp_rfmip_lw.f90\n"
     ]
    }
   ],
   "source": [
    "%%writefile -a rrtmgp_rfmip_lw_02.f90\n",
    "\n",
    "save_flux    = .false."
   ]
  },
  {
   "cell_type": "markdown",
   "id": "6288f651-c689-491f-8419-5060946a56f3",
   "metadata": {},
   "source": [
    "Compare fluxes to reference code as well as line-by-line (RFMIP only):"
   ]
  },
  {
   "cell_type": "code",
   "execution_count": 263,
   "id": "ae6e1c86-30de-45b3-b450-c6fb41dcd6f2",
   "metadata": {},
   "outputs": [
    {
     "name": "stdout",
     "output_type": "stream",
     "text": [
      "Appending to jn_rrtmgp_rfmip_lw.f90\n"
     ]
    }
   ],
   "source": [
    "%%writefile -a rrtmgp_rfmip_lw_02.f90\n",
    "\n",
    "compare_flux = .false."
   ]
  },
  {
   "cell_type": "markdown",
   "id": "181a1f84-f088-4a53-ab8f-296fa3dcaaa4",
   "metadata": {},
   "source": [
    "Compute fluxes per g-point? :"
   ]
  },
  {
   "cell_type": "code",
   "execution_count": 264,
   "id": "dcb52ac1-4ec7-42ec-86d7-5aa072f468a1",
   "metadata": {},
   "outputs": [
    {
     "name": "stdout",
     "output_type": "stream",
     "text": [
      "Appending to jn_rrtmgp_rfmip_lw.f90\n"
     ]
    }
   ],
   "source": [
    "%%writefile -a rrtmgp_rfmip_lw_02.f90\n",
    "\n",
    "do_gpt_flux = .false."
   ]
  },
  {
   "cell_type": "code",
   "execution_count": 265,
   "id": "123e3b84-40bc-4566-964d-fc960b351432",
   "metadata": {},
   "outputs": [],
   "source": [
    "# 3456789 123456789 123456789 123456789 123456789 123456789 123456789"
   ]
  },
  {
   "cell_type": "code",
   "execution_count": 266,
   "id": "f2b799bd-f5a8-402c-97d8-898da5ed20a1",
   "metadata": {},
   "outputs": [
    {
     "name": "stdout",
     "output_type": "stream",
     "text": [
      "Appending to jn_rrtmgp_rfmip_lw.f90\n"
     ]
    }
   ],
   "source": [
    "%%writefile -a rrtmgp_rfmip_lw_02.f90\n",
    "\n",
    "print *, \"Usage: \"\n",
    "print *, \"rrtmgp_rfmip_lw_02 \\\"\n",
    "print *, \"    [block_size] \\\"\n",
    "print *, \"    [rfmip_file] \\\"\n",
    "print *, \"    [k-distribution_file] \\\"\n",
    "print *, \"    [forcing_index (1,2,3)] \\\"\n",
    "print *, \"    [physics_index (1,2)]  \\\"\n",
    "print *, \"    [input_output file]\"\n",
    "print *, \"OR:\"\n",
    "print *, \"rrtmgp_rfmip_lw_02 \"\n",
    "print *, \"    [block_size] \\\"\n",
    "print *, \"    [rfmip_file] \\\"\n",
    "print *, \"    [k-distribution_file] \\\"\n",
    "print *, \"    [forcing_index] \\\"\n",
    "print *, \"    [physics_index] \\\"\n",
    "print *, \"    [NN_lw_abs_file] \\\"\n",
    "print *, \"    [NN_lw_planck_file]\""
   ]
  },
  {
   "cell_type": "code",
   "execution_count": 267,
   "id": "e582cf14-fc75-4d1f-8d88-7d336a6c4830",
   "metadata": {},
   "outputs": [
    {
     "name": "stdout",
     "output_type": "stream",
     "text": [
      "Appending to jn_rrtmgp_rfmip_lw.f90\n"
     ]
    }
   ],
   "source": [
    "%%writefile -a rrtmgp_rfmip_lw_02.f90\n",
    "\n",
    "nargs = command_argument_count()\n",
    "call get_command_argument(1, block_size_char)\n",
    "read(block_size_char, '(i5)') block_size\n",
    "if(nargs >= 2) call get_command_argument(2, rfmip_file)\n",
    "if(nargs >= 3) call get_command_argument(3, kdist_file)\n",
    "if(nargs >= 4) call get_command_argument(4, forcing_index_char)\n",
    "if(nargs >= 5) call get_command_argument(5, physics_index_char)\n",
    "if(nargs >= 6) then\n",
    "  use_rrtmgp_nn = .true.\n",
    "  call get_command_argument(6, modelfile_tau)\n",
    "  if (nargs >= 7) then\n",
    "    allocate(neural_nets(2))\n",
    "    call get_command_argument(7, modelfile_source)\n",
    "  else \n",
    "    allocate(neural_nets(1))\n",
    "  end if\n",
    "end if"
   ]
  },
  {
   "cell_type": "code",
   "execution_count": 268,
   "id": "6e9d50ef-0a3b-4e25-8f88-2be4aaa63638",
   "metadata": {},
   "outputs": [
    {
     "name": "stdout",
     "output_type": "stream",
     "text": [
      "Appending to jn_rrtmgp_rfmip_lw.f90\n"
     ]
    }
   ],
   "source": [
    "%%writefile -a rrtmgp_rfmip_lw_02.f90\n",
    "\n",
    "call read_size(rfmip_file, ncol, nlay, nexp)"
   ]
  },
  {
   "cell_type": "code",
   "execution_count": 269,
   "id": "3b51ca97-061b-4066-bf05-8bb998abd5be",
   "metadata": {},
   "outputs": [
    {
     "name": "stdout",
     "output_type": "stream",
     "text": [
      "Appending to jn_rrtmgp_rfmip_lw.f90\n"
     ]
    }
   ],
   "source": [
    "%%writefile -a rrtmgp_rfmip_lw_02.f90\n",
    "\n",
    "if (nexp==18) compare_flux=.true.\n",
    "\n",
    "print *, \"input file:\", rfmip_file\n",
    "print *, \"nexp:\", nexp, \"ncol:\", ncol, \"nlay:\", nlay, &\n",
    "  \"block_size:\", block_size\n",
    "\n",
    "if(mod(ncol*nexp, block_size) /= 0 ) &\n",
    "  call stop_on_err(\"rrtmgp_rfmip_lw: number of columns doesn't fit &\n",
    "    evenly into blocks.\")\n",
    "nblocks = (ncol*nexp)/block_size\n",
    "print *, \"Doing \",  nblocks, \"blocks of size \", block_size\n",
    "\n",
    "read(forcing_index_char, '(i4)') forcing_index\n",
    "if(forcing_index < 1 .or. forcing_index > 4) &\n",
    "  stop \"Forcing index is invalid (must be 1, 2 ou 3)\"\n",
    "\n",
    "read(physics_index_char, '(i4)') physics_index\n",
    "if(physics_index < 1 .or. physics_index > 2) &\n",
    "  stop \"Physics index is invalid (must be 1 ou 2)\"\n",
    "\n",
    "if(physics_index == 2) n_quad_angles = 3"
   ]
  },
  {
   "cell_type": "markdown",
   "id": "4d7554f8-48be-41da-a986-e94b947fec25",
   "metadata": {},
   "source": [
    "Save upwelling and downwelling fluxes in the same file:"
   ]
  },
  {
   "cell_type": "code",
   "execution_count": 270,
   "id": "7a3987e0-038b-4576-82b8-b5173bbbf629",
   "metadata": {},
   "outputs": [
    {
     "name": "stdout",
     "output_type": "stream",
     "text": [
      "Appending to jn_rrtmgp_rfmip_lw.f90\n"
     ]
    }
   ],
   "source": [
    "%%writefile -a rrtmgp_rfmip_lw_02.f90\n",
    "\n",
    "if (use_rrtmgp_nn) then\n",
    "  flx_file = 'output_fluxes/rlud_Efx_RTE-RRTMGP-NN-181204_rad-irf_' // &\n",
    "             'r1i1p1f' // trim(forcing_index_char) // '_gn.nc'\n",
    "else\n",
    "  flx_file = 'output_fluxes/rlud_Efx_RTE-RRTMGP-181204_rad-irf_' // &\n",
    "             'r1i1p1f' // trim(forcing_index_char) // '_gn.nc'\n",
    "end if"
   ]
  },
  {
   "cell_type": "markdown",
   "id": "c17b855a-6a3d-47e5-8c6f-1aa58916d608",
   "metadata": {},
   "source": [
    "Identify the set of gases used in the calculation based on the forcing index\n",
    "\n",
    "A gas might have a different name in the k-distribution than in the files provided by RFMIP (e.g. 'co2' and 'carbon_dioxide')"
   ]
  },
  {
   "cell_type": "code",
   "execution_count": 271,
   "id": "73975c02-8633-4319-b799-f789b760050f",
   "metadata": {},
   "outputs": [
    {
     "name": "stdout",
     "output_type": "stream",
     "text": [
      "Appending to jn_rrtmgp_rfmip_lw.f90\n"
     ]
    }
   ],
   "source": [
    "%%writefile -a rrtmgp_rfmip_lw_02.f90\n",
    "\n",
    "call determine_gas_names(rfmip_file, kdist_file, forcing_index, &\n",
    "  kdist_gas_names, rfmip_gas_names)\n",
    "\n",
    "print *, \"Calculation uses RFMIP gases: \", &\n",
    "  (trim(kdist_gas_names(b)) // \" \", b = 1, size(kdist_gas_names))"
   ]
  },
  {
   "cell_type": "markdown",
   "id": "4808c36d-4f79-4cf9-b94c-fbf867cd2490",
   "metadata": {},
   "source": [
    "### Load Neural Network models"
   ]
  },
  {
   "cell_type": "code",
   "execution_count": 272,
   "id": "00090ff8-e2e0-45b1-9097-401f0681c4d4",
   "metadata": {},
   "outputs": [
    {
     "name": "stdout",
     "output_type": "stream",
     "text": [
      "Appending to jn_rrtmgp_rfmip_lw.f90\n"
     ]
    }
   ],
   "source": [
    "%%writefile -a rrtmgp_rfmip_lw_02.f90\n",
    "\n",
    "if (use_rrtmgp_nn) then\n",
    "  print *, 'loading longwave absorption model from ', modelfile_tau\n",
    "  call neural_nets(1) % load_netcdf(modelfile_tau)\n",
    "  if (nargs >= 7) then \n",
    "    print *, 'loading Planck fraction model from ', modelfile_source\n",
    "    call neural_nets(2) % load_netcdf(modelfile_source)\n",
    "  end if\n",
    "  ninputs = size(neural_nets(1) % layers(1) % w_transposed, 2)\n",
    "  print *, \"NN supports gases: \", &\n",
    "    (trim(neural_nets(1) % input_names(b)) // \" \", b = 3, &\n",
    "    size(neural_nets(1) % input_names))\n",
    "end if"
   ]
  },
  {
   "cell_type": "markdown",
   "id": "147a3af1-4d58-40be-97fb-67151e3a95b2",
   "metadata": {},
   "source": [
    "### Prepare data for use in rte+rrtmgp\n",
    "\n",
    "Allocation on assignment within reading routines"
   ]
  },
  {
   "cell_type": "code",
   "execution_count": 273,
   "id": "1f97c189-4807-480a-9552-0bfdd654873a",
   "metadata": {},
   "outputs": [
    {
     "name": "stdout",
     "output_type": "stream",
     "text": [
      "Appending to jn_rrtmgp_rfmip_lw.f90\n"
     ]
    }
   ],
   "source": [
    "%%writefile -a rrtmgp_rfmip_lw_02.f90\n",
    "\n",
    "call read_and_block_pt(rfmip_file, block_size, p_lay, p_lev, t_lay, &\n",
    "  t_lev)\n",
    "! print *, \"shape t_lay, min, max\", shape(t_lay), maxval(t_lay), &\n",
    "  minval(t_lay)"
   ]
  },
  {
   "cell_type": "markdown",
   "id": "58d1426c-74d3-4087-9bf1-c91730ac9bab",
   "metadata": {},
   "source": [
    "Are the arrays ordered in the vertical with 1 at the top or the bottom of the domain?"
   ]
  },
  {
   "cell_type": "code",
   "execution_count": 274,
   "id": "575c40dd-2194-4000-b063-b1e917e249bc",
   "metadata": {},
   "outputs": [
    {
     "name": "stdout",
     "output_type": "stream",
     "text": [
      "Appending to jn_rrtmgp_rfmip_lw.f90\n"
     ]
    }
   ],
   "source": [
    "%%writefile -a rrtmgp_rfmip_lw_02.f90\n",
    "\n",
    "top_at_1 = p_lay(1, 1, 1) < p_lay(nlay, 1, 1)"
   ]
  },
  {
   "cell_type": "markdown",
   "id": "8ea2cc39-d456-4296-a0a8-ed5fddfaa5e5",
   "metadata": {},
   "source": [
    "Read the gas concentrations and surface properties"
   ]
  },
  {
   "cell_type": "code",
   "execution_count": 275,
   "id": "fc663059-56af-4b3f-bf19-d5f6dbe97f75",
   "metadata": {},
   "outputs": [
    {
     "name": "stdout",
     "output_type": "stream",
     "text": [
      "Appending to jn_rrtmgp_rfmip_lw.f90\n"
     ]
    }
   ],
   "source": [
    "%%writefile -a rrtmgp_rfmip_lw_02.f90\n",
    "\n",
    "call read_and_block_gases_ty(rfmip_file, block_size, kdist_gas_names, &\n",
    "  rfmip_gas_names, gas_conc_array)\n",
    "! do b = 1, size(gas_conc_array(1)%concs)\n",
    "!  print *, \"max of gas \", gas_conc_array(1)%gas_name(b), \":\", &\n",
    "!    maxval(gas_conc_array(1)%concs(b)%conc)\n",
    "! end do\n",
    "call read_and_block_lw_bc(rfmip_file, block_size, sfc_emis, sfc_t)"
   ]
  },
  {
   "cell_type": "markdown",
   "id": "561842b1-da74-4905-96ec-a43750c72438",
   "metadata": {},
   "source": [
    "Read k-distribution information. load_and_init() reads data from netCDF and calls k_dist%init(); users might want to use their own reading methods"
   ]
  },
  {
   "cell_type": "code",
   "execution_count": 276,
   "id": "20a18607-9ba2-4619-b834-04e7d9f8526b",
   "metadata": {},
   "outputs": [
    {
     "name": "stdout",
     "output_type": "stream",
     "text": [
      "Appending to jn_rrtmgp_rfmip_lw.f90\n"
     ]
    }
   ],
   "source": [
    "%%writefile -a rrtmgp_rfmip_lw_02.f90\n",
    "\n",
    "call load_and_init(k_dist, trim(kdist_file), gas_conc_array(1))\n",
    "\n",
    "! print *, \"min of play\", minval(p_lay), &\n",
    "!  \"p_lay = k_dist%get_press_min()\", k_dist%get_press_min()\n",
    "! print *,\" press min max\", k_dist%get_press_min(), k_dist%get_press_max()\n",
    "! print *,\" temp min max\", k_dist%get_temp_min(), k_dist%get_temp_max()\n",
    "\n",
    "where(p_lay < k_dist%get_press_min()) &\n",
    "  p_lay = k_dist%get_press_min() + spacing(k_dist%get_press_min())\n",
    "\n",
    "if(.not. k_dist%source_is_internal()) &\n",
    "  stop \"rrtmgp_rfmip_lw: k-distribution file isn't LW\"\n",
    "\n",
    "nbnd = k_dist%get_nband()\n",
    "ngpt = k_dist%get_ngpt()"
   ]
  },
  {
   "cell_type": "markdown",
   "id": "3600e0a2-6c2c-4026-a461-e310cfff415a",
   "metadata": {},
   "source": [
    "RRTMGP won't run with pressure less than its minimum. The top level in the RFMIP file is set to 10^-3 Pa. Here we pretend the layer is just a bit less deep. This introduces an error but shows input sanitizing."
   ]
  },
  {
   "cell_type": "code",
   "execution_count": 277,
   "id": "57d44d34-c6cd-448a-b8f3-eefc9bc1e45d",
   "metadata": {},
   "outputs": [
    {
     "name": "stdout",
     "output_type": "stream",
     "text": [
      "Appending to jn_rrtmgp_rfmip_lw.f90\n"
     ]
    }
   ],
   "source": [
    "%%writefile -a rrtmgp_rfmip_lw_02.f90\n",
    "\n",
    "if (top_at_1) then\n",
    "  p_lev(1,:,:) = k_dist%get_press_min() + epsilon(k_dist%get_press_min())\n",
    "else\n",
    "  p_lev(nlay+1,:,:) = k_dist%get_press_min() + &\n",
    "    epsilon(k_dist%get_press_min())\n",
    "end if\n",
    "! print *,\" shape play\", shape(p_lay)\n",
    "! print *, \"play sfc\", maxval(p_lay(nlay,:,:)), \"tlay sfc\", &\n",
    "!  maxval(t_lay(nlay,:,:))"
   ]
  },
  {
   "cell_type": "markdown",
   "id": "eaeebfe0-600a-4c4b-a136-f1734f0e53ae",
   "metadata": {},
   "source": [
    "Allocate space for output fluxes (accessed via pointers in ty_fluxes_broadband), gas optical properties, and source functions. The %alloc() routines carry along the spectral discretization from the k-distribution."
   ]
  },
  {
   "cell_type": "code",
   "execution_count": 278,
   "id": "34d07130-f556-4a14-8d84-273dd8dc8b31",
   "metadata": {},
   "outputs": [
    {
     "name": "stdout",
     "output_type": "stream",
     "text": [
      "Appending to jn_rrtmgp_rfmip_lw.f90\n"
     ]
    }
   ],
   "source": [
    "%%writefile -a rrtmgp_rfmip_lw_02.f90\n",
    "\n",
    "allocate(flux_up(nlay+1, block_size, nblocks), &\n",
    "         flux_dn(nlay+1, block_size, nblocks))\n",
    "\n",
    "! Allocate g-point fluxes if desired\n",
    "if (do_gpt_flux) then\n",
    "  allocate(gpt_flux_up(ngpt, nlay+1, block_size, nblocks), &\n",
    "           gpt_flux_dn(ngpt, nlay+1, block_size, nblocks))\n",
    "end if\n",
    "\n",
    "allocate(sfc_emis_spec(nbnd, block_size))\n",
    "!$acc enter data create(sfc_emis_spec) copyin(sfc_emis)\n",
    "\n",
    "! OpenACC: Arrays are allocated on device inside constructor\n",
    "call stop_on_err(source%alloc(block_size, nlay, k_dist))\n",
    "call stop_on_err(optical_props%alloc_1scl(block_size, nlay, k_dist))"
   ]
  },
  {
   "cell_type": "code",
   "execution_count": 279,
   "id": "fdf70808-ac0d-42c5-8835-b83da18e708e",
   "metadata": {},
   "outputs": [
    {
     "name": "stdout",
     "output_type": "stream",
     "text": [
      "Appending to jn_rrtmgp_rfmip_lw.f90\n"
     ]
    }
   ],
   "source": [
    "%%writefile -a rrtmgp_rfmip_lw_02.f90\n",
    "\n",
    "if (use_rrtmgp_nn) then\n",
    "  print *, \"starting clear-sky LW computations, using neural &\n",
    "           networks as RRTMGP kernel\"\n",
    "else\n",
    "  print *, \"starting clear-sky LW computations, using &\n",
    "           lookup-table as RRTMGP kernel\"\n",
    "end if\n",
    "call system_clock(count_rate=count_rate)\n",
    "call system_clock(iTime1)"
   ]
  },
  {
   "cell_type": "markdown",
   "id": "b14e46d6-d703-4a64-b484-d91820d40017",
   "metadata": {},
   "source": [
    "---\n",
    "\n",
    "### Loop over blocks"
   ]
  },
  {
   "cell_type": "code",
   "execution_count": 280,
   "id": "0c9aaf20-0764-4325-895a-3605a4459f06",
   "metadata": {},
   "outputs": [
    {
     "name": "stdout",
     "output_type": "stream",
     "text": [
      "Appending to jn_rrtmgp_rfmip_lw.f90\n"
     ]
    }
   ],
   "source": [
    "%%writefile -a rrtmgp_rfmip_lw_02.f90\n",
    "\n",
    "do b = 1, nblocks\n",
    "  fluxes%flux_up => flux_up(:,:,b)\n",
    "  fluxes%flux_dn => flux_dn(:,:,b)    \n",
    "  if (do_gpt_flux) then\n",
    "    fluxes%gpt_flux_up => gpt_flux_up(:,:,:,b)\n",
    "    fluxes%gpt_flux_dn => gpt_flux_dn(:,:,:,b)\n",
    "  end if"
   ]
  },
  {
   "cell_type": "markdown",
   "id": "a5a43d00-e455-4197-96aa-bedb46d1f05d",
   "metadata": {},
   "source": [
    "Expand the spectrally-constant surface emissivity to a per-band emissivity for each column "
   ]
  },
  {
   "cell_type": "code",
   "execution_count": 281,
   "id": "cc22982d-5a70-4f5f-a346-4f20e433cd0e",
   "metadata": {},
   "outputs": [
    {
     "name": "stdout",
     "output_type": "stream",
     "text": [
      "Appending to jn_rrtmgp_rfmip_lw.f90\n"
     ]
    }
   ],
   "source": [
    "%%writefile -a rrtmgp_rfmip_lw_02.f90\n",
    "\n",
    "do icol = 1, block_size\n",
    "  do ibnd = 1, nbnd\n",
    "    sfc_emis_spec(ibnd,icol) = sfc_emis(icol,b)\n",
    "  end do\n",
    "end do"
   ]
  },
  {
   "cell_type": "markdown",
   "id": "817bfb73-25cd-4ee2-b573-c4618d8392e8",
   "metadata": {},
   "source": [
    "Compute the optical properties of the atmosphere and the Planck source functions from pressures, temperatures, and gas concentrations..."
   ]
  },
  {
   "cell_type": "code",
   "execution_count": 282,
   "id": "e56b7815-595a-4cfe-b838-dbaf3cd8e53e",
   "metadata": {},
   "outputs": [
    {
     "name": "stdout",
     "output_type": "stream",
     "text": [
      "Appending to jn_rrtmgp_rfmip_lw.f90\n"
     ]
    }
   ],
   "source": [
    "%%writefile -a rrtmgp_rfmip_lw_02.f90\n",
    "\n",
    "if (use_rrtmgp_nn) then\n",
    "  call stop_on_err(k_dist%gas_optics(p_lay(:,:,b),      &\n",
    "                                    p_lev(:,:,b),       &\n",
    "                                    t_lay(:,:,b),       &\n",
    "                                    sfc_t(:,b),         &\n",
    "                                    gas_conc_array(b),  &\n",
    "                                    optical_props,      &\n",
    "                                    source,             &\n",
    "                                    tlev = t_lev(:,:,b),&\n",
    "                                    neural_nets = neural_nets))\n",
    "else\n",
    "  call stop_on_err(k_dist%gas_optics(p_lay(:,:,b),      &\n",
    "                                    p_lev(:,:,b),       &\n",
    "                                    t_lay(:,:,b),       &\n",
    "                                    sfc_t(:,b),         &\n",
    "                                    gas_conc_array(b),  &\n",
    "                                    optical_props,      &\n",
    "                                    source,             &\n",
    "                                    tlev = t_lev(:,:,b)))\n",
    "end if\n",
    "\n",
    "! print *, \"mean of pfrac is:\", mean_3d(planck_frac(:,:,:,b))\n",
    "! print *, \"mean of tau is:\", mean_3d(optical_props%tau)\n",
    "! print *, \"mean of lay_source is:\", mean_3d(source%lay_source)\n",
    "! print *, \"mean of lev_source is:\", mean_3d(source%lev_source)"
   ]
  },
  {
   "cell_type": "code",
   "execution_count": 283,
   "id": "248991fc-9bf9-4d48-a5fd-b24cd0d5f6a3",
   "metadata": {},
   "outputs": [
    {
     "name": "stdout",
     "output_type": "stream",
     "text": [
      "Appending to jn_rrtmgp_rfmip_lw.f90\n"
     ]
    }
   ],
   "source": [
    "%%writefile -a rrtmgp_rfmip_lw_02.f90\n",
    "\n",
    "call system_clock(iTime2)"
   ]
  },
  {
   "cell_type": "markdown",
   "id": "a099e172-c0ed-4899-83cf-adb0a2c94604",
   "metadata": {},
   "source": [
    "... and compute the spectrally-resolved fluxes, providing reduced values via ty_fluxes_broadband"
   ]
  },
  {
   "cell_type": "code",
   "execution_count": 284,
   "id": "243c5481-2480-498a-96e3-64b85b3b5ea1",
   "metadata": {},
   "outputs": [
    {
     "name": "stdout",
     "output_type": "stream",
     "text": [
      "Appending to jn_rrtmgp_rfmip_lw.f90\n"
     ]
    }
   ],
   "source": [
    "%%writefile -a rrtmgp_rfmip_lw_02.f90\n",
    "\n",
    "call stop_on_err(rte_lw(optical_props, & \n",
    "                        top_at_1, & \n",
    "                        source, & \n",
    "                        sfc_emis_spec, & \n",
    "                        fluxes, & \n",
    "                        n_gauss_angles = n_quad_angles, & \n",
    "                        use_2stream = .false.))\n"
   ]
  },
  {
   "cell_type": "code",
   "execution_count": 285,
   "id": "5fd28fbc-8bd0-4e94-8cc2-edac059dccae",
   "metadata": {},
   "outputs": [
    {
     "name": "stdout",
     "output_type": "stream",
     "text": [
      "Appending to jn_rrtmgp_rfmip_lw.f90\n"
     ]
    }
   ],
   "source": [
    "%%writefile -a rrtmgp_rfmip_lw_02.f90\n",
    "\n",
    "end do ! blocks"
   ]
  },
  {
   "cell_type": "markdown",
   "id": "1d45ae5a-4f8f-4e72-9eb1-90d9596ba3a2",
   "metadata": {},
   "source": [
    "**End of block**\n",
    "\n",
    "---"
   ]
  },
  {
   "cell_type": "code",
   "execution_count": 286,
   "id": "109b7b87-c37b-4d62-af51-ca7fd667bf41",
   "metadata": {},
   "outputs": [
    {
     "name": "stdout",
     "output_type": "stream",
     "text": [
      "Appending to jn_rrtmgp_rfmip_lw.f90\n"
     ]
    }
   ],
   "source": [
    "%%writefile -a rrtmgp_rfmip_lw_02.f90\n",
    "\n",
    "call system_clock(iTime3)"
   ]
  },
  {
   "cell_type": "code",
   "execution_count": 287,
   "id": "d2c13c1f-350c-4045-914e-bdc7e1cefc72",
   "metadata": {},
   "outputs": [],
   "source": [
    "#23456789 123456789 123456789 123456789 123456789 123456789 123456789 12"
   ]
  },
  {
   "cell_type": "code",
   "execution_count": 288,
   "id": "9464e2fd-cdac-4079-b322-8f11cc050e06",
   "metadata": {},
   "outputs": [
    {
     "name": "stdout",
     "output_type": "stream",
     "text": [
      "Appending to jn_rrtmgp_rfmip_lw.f90\n"
     ]
    }
   ],
   "source": [
    "%%writefile -a rrtmgp_rfmip_lw_02.f90\n",
    "\n",
    "if (nblocks==1) then\n",
    "  print *, \"-----------------------------------------------------------\"\n",
    "  print '(a,f11.4,/,a,f11.4,/,a,f11.4,a)', &\n",
    "    ' Time elapsed in gas optics:', &\n",
    "    real(iTime2-iTime1) / real(count_rate), &\n",
    "    ' Time elapsed in solver:    ', &\n",
    "    real(iTime3-iTime2) / real(count_rate), &\n",
    "    ' Time elapsed in total:     ', &\n",
    "    real(iTime3-iTime1) / real(count_rate)\n",
    "  print *, \"-----------------------------------------------------------\"\n",
    "else\n",
    "  print *,'Elapsed time on everything ', &\n",
    "    real(iTime3-iTime1) / real(count_rate)\n",
    "end if"
   ]
  },
  {
   "cell_type": "code",
   "execution_count": 289,
   "id": "83382ae6-f750-407f-88be-8db602af1967",
   "metadata": {},
   "outputs": [
    {
     "name": "stdout",
     "output_type": "stream",
     "text": [
      "Appending to jn_rrtmgp_rfmip_lw.f90\n"
     ]
    }
   ],
   "source": [
    "%%writefile -a rrtmgp_rfmip_lw_02.f90\n",
    "\n",
    "! Also deallocates arrays on device\n",
    "call optical_props%finalize()\n",
    "\n",
    "! Also deallocates arrays on device\n",
    "call source%finalize()\n",
    "\n",
    "print*,\"-----------------------------------------------------------\"//&\n",
    "       \"-----------------------------------------------------------\"\n",
    "\n",
    "! mean of flux_down is: 103.2458\n",
    "print *, \"mean of flux_down is:\", mean_3d(flux_dn)\n",
    "\n",
    "print *, \"mean of flux_up is:\", mean_3d(flux_up)\n"
   ]
  },
  {
   "cell_type": "markdown",
   "id": "583ca464-c6b0-4e6a-b702-5ff54e3853d3",
   "metadata": {},
   "source": [
    "Save fluxes?"
   ]
  },
  {
   "cell_type": "code",
   "execution_count": 290,
   "id": "0c56f1f7-a21f-4bcd-9b01-a7aaebba4f7d",
   "metadata": {},
   "outputs": [
    {
     "name": "stdout",
     "output_type": "stream",
     "text": [
      "Appending to jn_rrtmgp_rfmip_lw.f90\n"
     ]
    }
   ],
   "source": [
    "%%writefile -a rrtmgp_rfmip_lw_02.f90\n",
    "\n",
    "if (save_flux) then\n",
    "  print *, \"Attempting to save fluxes to \", flx_file\n",
    "  call unblock_and_write(trim(flx_file), 'rlu', flux_up)\n",
    "  call unblock_and_write(trim(flx_file), 'rld', flux_dn)\n",
    "  print *, \"Fluxes saved to \", flx_file\n",
    "end if "
   ]
  },
  {
   "cell_type": "markdown",
   "id": "874632bd-d1fd-47c7-b21c-55e399528e3f",
   "metadata": {},
   "source": [
    "Compare fluxes to benchmark line-by-line results, alongside reference RTE+RRTMGP computations?"
   ]
  },
  {
   "cell_type": "code",
   "execution_count": 291,
   "id": "335ed138-76dc-4a0a-8da0-0e47088cc637",
   "metadata": {},
   "outputs": [
    {
     "name": "stdout",
     "output_type": "stream",
     "text": [
      "Appending to jn_rrtmgp_rfmip_lw.f90\n"
     ]
    }
   ],
   "source": [
    "%%writefile -a rrtmgp_rfmip_lw_02.f90\n",
    "\n",
    "if (compare_flux) then\n",
    "  print *, \"------------------------------------------------------\" //&\n",
    "          \"------------------------------------------------------\"\n",
    "  print *, \"-----COMPARING ERRORS (W.R.T. LINE-BY-LINE) OF NEW \" //&\n",
    "          \"RESULTS AND RRTMGP-256  -------\"\n",
    "  print *, \"------------------------------------------------------\" //&\n",
    "          \"------------------------------------------------------\"\n",
    "\n",
    "  allocate(rld_ref(nlay+1, ncol, nexp))\n",
    "  allocate(rlu_ref(nlay+1, ncol, nexp))\n",
    "  allocate(rldu_ref(nlay+1, ncol, nexp))\n",
    "  allocate(rld_nn(nlay+1, ncol, nexp))\n",
    "  allocate(rlu_nn(nlay+1, ncol, nexp))\n",
    "  allocate(rldu_nn(nlay+1, ncol, nexp))\n",
    "  allocate(rld_lbl(nlay+1, ncol, nexp))\n",
    "  allocate(rlu_lbl(nlay+1, ncol, nexp))\n",
    "  allocate(rldu_lbl(nlay+1, ncol, nexp))\n",
    "\n",
    "  flx_file_ref = 'output_fluxes/rlud_Efx_RTE-RRTMGP-181204_rad-' //&\n",
    "                 'irf_r1i1p1f1_gn_REF-DP.nc'\n",
    "  flx_file_lbl = 'output_fluxes/rlud_Efx_LBLRTM-12-8_rad-irf_' //&\n",
    "                 'r1i1p1f1_gn.nc'\n",
    "\n",
    "  call unblock(flux_up, rlu_nn)\n",
    "  call unblock(flux_dn, rld_nn)\n",
    "  rldu_nn = rld_nn - rlu_nn\n",
    "\n",
    "  if(nf90_open(trim(flx_file_ref), NF90_NOWRITE, ncid) /= NF90_NOERR) &\n",
    "    call stop_on_err(\"read_and_block_gases_ty: can't find file \" //&\n",
    "                     trim(flx_file_ref))\n",
    "  rlu_ref = read_field(ncid, \"rlu\", nlay+1, ncol, nexp)\n",
    "  rld_ref = read_field(ncid, \"rld\", nlay+1, ncol, nexp)\n",
    "  rldu_ref = rld_ref - rlu_ref\n",
    "\n",
    "  if(nf90_open(trim(flx_file_lbl), NF90_NOWRITE, ncid) /= NF90_NOERR) &\n",
    "    call stop_on_err(\"read_and_block_gases_ty: can't find file \" //&\n",
    "                     trim(flx_file_lbl))\n",
    "  rlu_lbl = read_field(ncid, \"rlu\", nlay+1, ncol, nexp)\n",
    "  rld_lbl = read_field(ncid, \"rld\", nlay+1, ncol, nexp)\n",
    "  rldu_lbl = rld_lbl - rlu_lbl\n"
   ]
  },
  {
   "cell_type": "code",
   "execution_count": 292,
   "id": "09597305-0fce-486e-989b-069049722733",
   "metadata": {},
   "outputs": [
    {
     "ename": "SyntaxError",
     "evalue": "invalid syntax (2058159830.py, line 1)",
     "output_type": "error",
     "traceback": [
      "\u001b[0;36m  Cell \u001b[0;32mIn[292], line 1\u001b[0;36m\u001b[0m\n\u001b[0;31m    print *, \"------------- UPWELLING --------------\"\u001b[0m\n\u001b[0m           ^\u001b[0m\n\u001b[0;31mSyntaxError\u001b[0m\u001b[0;31m:\u001b[0m invalid syntax\n"
     ]
    }
   ],
   "source": [
    "%%writefile -a rrtmgp_rfmip_lw_02.f90\n",
    "\n",
    "print *, \"------------- UPWELLING --------------\"\n",
    "\n",
    "print *, \"MAE in upwelling fluxes of new result and RRTMGP, \" //&\n",
    "         \"present-day:\", &\n",
    "         mae(reshape(rlu_lbl(:,:,1), shape = [1*ncol*(nlay+1)]), &\n",
    "         reshape(rlu_nn(:,:,1), shape = [1*ncol*(nlay+1)])), &\n",
    "         mae(reshape(rlu_lbl(:,:,1), shape = [1*ncol*(nlay+1)]), &\n",
    "         reshape(rlu_ref(:,:,1), shape = [1*ncol*(nlay+1)]))\n",
    "\n",
    "print *, \"MAE in upwelling fluxes of new result and RRTMGP, \" //&\n",
    "         \"future:\", &\n",
    "         mae(reshape(rlu_lbl(:,:,4), shape = [1*ncol*(nlay+1)]), &\n",
    "         reshape(rlu_nn(:,:,4), shape = [1*ncol*(nlay+1)])), &\n",
    "         mae(reshape(rlu_lbl(:,:,4), shape = [1*ncol*(nlay+1)]), &\n",
    "         reshape(rlu_ref(:,:,4), shape = [1*ncol*(nlay+1)]))\n",
    "\n",
    "! bias in upwelling flux of new result and RRTMGP,\n",
    "! present-day, top-of-atm.\n",
    "print *, \"bias in upwelling flux of new result and RRTMGP, \" //&\n",
    "         \"present-day, top-of-atm.:\", &\n",
    "         bias(reshape(rlu_lbl(1,:,1), shape = [1*ncol]), &\n",
    "         reshape(rlu_nn(1,:,1), shape = [1*ncol])), &\n",
    "         bias(reshape(rlu_lbl(1,:,1), shape = [1*ncol]), &\n",
    "         reshape(rlu_ref(1,:,1), shape = [1*ncol]))\n",
    "\n",
    "! bias in upwelling flux of new result and RRTMGP,\n",
    "! future, top-of-atm.\n",
    "print *, \"bias in upwelling flux of new result and RRTMGP, \" //&\n",
    "         \"future, top-of-atm.:\", &\n",
    "         bias(reshape(rlu_lbl(1,:,4), shape = [1*ncol]), &\n",
    "         reshape(rlu_nn(1,:,4), shape = [1*ncol])), &\n",
    "         bias(reshape(rlu_lbl(1,:,4), shape = [1*ncol]), &\n",
    "         reshape(rlu_ref(1,:,4), shape = [1*ncol]))\n",
    "\n",
    "! bias in upwelling flux of new result and RRTMGP,\n",
    "! ALL EXPS, top-of-atm.\n",
    "print *, \"bias in upwelling flux of new result and RRTMGP, \" //&\n",
    "         \"ALL EXPS, top-of-atm.:\", &\n",
    "         bias(reshape(rlu_lbl(1,:,:), shape = [nexp*ncol]), &\n",
    "         reshape(rlu_nn(1,:,:), shape = [nexp*ncol])), &\n",
    "         bias(reshape(rlu_lbl(1,:,:), shape = [nexp*ncol]), &\n",
    "         reshape(rlu_ref(1,:,:), shape = [nexp*ncol]))\n"
   ]
  },
  {
   "cell_type": "code",
   "execution_count": null,
   "id": "84725655-1a35-4e1b-a26f-336a188aeb41",
   "metadata": {},
   "outputs": [],
   "source": [
    "%%writefile -a rrtmgp_rfmip_lw_02.f90\n",
    "\n",
    "print *, \"-------------- DOWNWELLING --------------\"\n",
    "\n",
    "print *, \"MAE in downwelling fluxes of new result and RRTMGP, \" //&\n",
    "         \"present-day:\", &\n",
    "         mae(reshape(rld_lbl(:,:,1), shape = [1*ncol*(nlay+1)]), &\n",
    "         reshape(rld_nn(:,:,1), shape = [1*ncol*(nlay+1)])), &\n",
    "         mae(reshape(rld_lbl(:,:,1), shape = [1*ncol*(nlay+1)]), &\n",
    "         reshape(rld_ref(:,:,1), shape = [1*ncol*(nlay+1)]))\n",
    "\n",
    "! print *, \"MAE in downwelling fluxes of new result and RRTMGP, \" //&\n",
    "!          \"future:\", &\n",
    "!          mae(reshape(rld_lbl(:,:,4), shape = [1*ncol*(nlay+1)]), &\n",
    "!          reshape(rld_nn(:,:,4), shape = [1*ncol*(nlay+1)])), &\n",
    "!          mae(reshape(rld_lbl(:,:,4), shape = [1*ncol*(nlay+1)]), &\n",
    "!          reshape(rld_ref(:,:,4), shape = [1*ncol*(nlay+1)]))\n",
    "\n",
    "print *, \"-------------- NET FLUX --------------\"\n",
    "\n",
    "print *, \"Max-vertical-error in net fluxes of new result and RRTMGP, \" //&\n",
    "         \"pres.day:\", &\n",
    "         maxval(abs(rldu_lbl(:,:,1) - rldu_nn(:,:,1))), &\n",
    "         maxval(abs(rldu_lbl(:,:,1) - rldu_ref(:,:,1)))\n",
    "\n",
    "! print *, \"Max-vertical-error in net fluxes of new result and RRTMGP, \" //&\n",
    "!          \"future:\", &\n",
    "!          maxval(abs(rldu_lbl(:,:,4) - rldu_nn(:,:,4))), &\n",
    "!          maxval(abs(rldu_lbl(:,:,4) - rldu_ref(:,:,4)))\n",
    "\n",
    "print *, \"Max-vertical-error in net fluxes of new result and RRTMGP, \" //&\n",
    "         \"future-all:\", &\n",
    "         maxval(abs(rldu_lbl(:,:,17) - rldu_nn(:,:,17))), &\n",
    "         maxval(abs(rldu_lbl(:,:,17) - rldu_ref(:,:,17)))\n"
   ]
  },
  {
   "cell_type": "code",
   "execution_count": null,
   "id": "bd783227-a46a-4b74-92e5-9d581421e3ca",
   "metadata": {},
   "outputs": [],
   "source": [
    "%%writefile -a rrtmgp_rfmip_lw_02.f90\n",
    "\n",
    "! Print header\n",
    "print *, \"---------\"\n",
    "! Print MAE for present-day net fluxes\n",
    "print *, \"MAE in net fluxes of new result and RRTMGP, present-day: \", &\n",
    "        mae(reshape(rldu_lbl(:,:,1), shape = [1*ncol*(nlay+1)]), &\n",
    "        reshape(rldu_nn(:,:,1), shape = [1*ncol*(nlay+1)])), &\n",
    "        mae(reshape(rldu_lbl(:,:,1), shape = [1*ncol*(nlay+1)]), &\n",
    "        reshape(rldu_ref(:,:,1), shape = [1*ncol*(nlay+1)]))\n",
    "! Print MAE for future net fluxes\n",
    "!print *, \"#MAE in net fluxes of new result and RRTMGP, future: \", &\n",
    "!        mae(reshape(rldu_lbl(:,:,4), shape = [1*ncol*(nlay+1)]), &\n",
    "!        reshape(rldu_nn(:,:,4), shape = [1*ncol*(nlay+1)])), &\n",
    "!        mae(reshape(rldu_lbl(:,:,4), shape = [1*ncol*(nlay+1)]), &\n",
    "!        reshape(rldu_ref(:,:,4), shape = [1*ncol*(nlay+1)]))\n",
    "! Print MAE for future-all net fluxes\n",
    "print *, \"MAE in net fluxes of new result and RRTMGP, future-all: \", &\n",
    "        mae(reshape(rldu_lbl(:,:,17), shape = [1*ncol*(nlay+1)]), &\n",
    "        reshape(rldu_nn(:,:,17), shape = [1*ncol*(nlay+1)])), &\n",
    "        mae(reshape(rldu_lbl(:,:,17), shape = [1*ncol*(nlay+1)]), &\n",
    "        reshape(rldu_ref(:,:,17), shape = [1*ncol*(nlay+1)]))\n",
    "! Print MAE for all experiments\n",
    "print *, \"MAE in net fluxes of new result and RRTMGP, ALL EXPS: \", &\n",
    "        mae(reshape(rldu_lbl(:,:,:), shape = [nexp*ncol*(nlay+1)]), &\n",
    "        reshape(rldu_nn(:,:,:), shape = [nexp*ncol*(nlay+1)])), &\n",
    "        mae(reshape(rldu_lbl(:,:,:), shape = [nexp*ncol*(nlay+1)]), &\n",
    "        reshape(rldu_ref(:,:,:), shape = [nexp*ncol*(nlay+1)]))\n",
    "\n",
    "print *, \"---------\"\n",
    "\n",
    "! Print RMSE for present-day net fluxes\n",
    "!print *, \"#RMSE in net fluxes of new result and RRTMGP, present-day: \", &\n",
    "!        rmse(reshape(rldu_lbl(:,:,1), shape = [1*ncol*(nlay+1)]), &\n",
    "!        reshape(rldu_nn(:,:,1), shape = [1*ncol*(nlay+1)])), &\n",
    "!        rmse(reshape(rldu_lbl(:,:,1), shape = [1*ncol*(nlay+1)]), &\n",
    "!        reshape(rldu_ref(:,:,1), shape = [1*ncol*(nlay+1)]))\n",
    "\n",
    "! Print RMSE for present-day net fluxes, surface\n",
    "!print *, \"RMSE in net fluxes of new result and RRTMGP, present-day, SURFACE: \", &\n",
    "!        rmse(reshape(rldu_lbl(nlay+1,:,1), shape = [1*ncol]), &\n",
    "!        reshape(rldu_nn(nlay+1,:,1), shape = [1*ncol])), &\n",
    "!        rmse(reshape(rldu_lbl(nlay+1,:,1), shape = [1*ncol]), &\n",
    "!        reshape(rldu_ref(nlay+1,:,1), shape = [1*ncol]))\n",
    "\n",
    "! Print RMSE for present-day net fluxes, TOA\n",
    "!print *, \"#RMSE in net fluxes of new result and RRTMGP, present-day, TOA: \", &\n",
    "!        rmse(reshape(rldu_lbl(1,:,1), shape = [1*ncol]), &\n",
    "!        reshape(rldu_nn(1,:,1), shape = [1*ncol])), &\n",
    "!        rmse(reshape(rldu_lbl(1,:,1), shape = [1*ncol]), &\n",
    "!        reshape(rldu_ref(1,:,1), shape = [1*ncol]))\n",
    "\n",
    "! Print RMSE for future-all net fluxes, surface\n",
    "!print *, \"#RMSE in net fluxes of new result and RRTMGP, future-all, SURFACE: \", &\n",
    "!        rmse(reshape(rldu_lbl(nlay+1,:,17), shape = [1*ncol]), &\n",
    "!        reshape(rldu_nn(nlay+1,:,17), shape = [1*ncol])), &\n",
    "!        rmse(reshape(rldu_lbl(nlay+1,:,17), shape = [1*ncol]), &\n",
    "!        reshape(rldu_ref(nlay+1,:,17), shape = [1*ncol]))\n",
    "\n",
    "! Print RMSE for pre-industrial net fluxes, surface\n",
    "!print *, \"#RMSE in net fluxes of new result and RRTMGP, pre-industrial, SURFACE: \", &\n",
    "!        rmse(reshape(rldu_lbl(nlay+1,:,2), shape = [1*ncol]), &\n",
    "!        reshape(rldu_nn(nlay+1,:,2), shape = [1*ncol])), &\n",
    "!        rmse(reshape(rldu_lbl(nlay+1,:,2), shape = [1*ncol]), &\n",
    "!        reshape(rldu_ref(nlay+1,:,2), shape = [1*ncol]))\n"
   ]
  },
  {
   "cell_type": "code",
   "execution_count": null,
   "id": "aee11031-943a-4916-b630-21e69e251f5d",
   "metadata": {},
   "outputs": [],
   "source": [
    "%%writefile -a rrtmgp_rfmip_lw_02.f90\n",
    "\n",
    "print *, \"---------\"\n",
    "! Bias in net fluxes of new result and RRTMGP, present-day\n",
    "!print *, \"#bias in net fluxes of new result and RRTMGP, \", &\n",
    "!        \"present-day: \", &\n",
    "!        bias(reshape(rldu_lbl(:,:,1), shape = [1*ncol*(nlay+1)]), &\n",
    "!        reshape(rldu_nn(:,:,1), shape = [1*ncol*(nlay+1)])), &\n",
    "!        bias(reshape(rldu_lbl(:,:,1), shape = [1*ncol*(nlay+1)]), &\n",
    "!        reshape(rldu_ref(:,:,1), shape = [1*ncol*(nlay+1)]))\n",
    "! Bias in net fluxes of new result and RRTMGP, SURFACE\n",
    "!print *, \"#bias in net fluxes of new result and RRTMGP, \", &\n",
    "!        \"present-day, SURFACE: \", &\n",
    "!        bias(reshape(rldu_lbl(nlay+1,:,1), shape = [1*ncol]), &\n",
    "!        reshape(rldu_nn(nlay+1,:,1), shape = [1*ncol])), &\n",
    "!        bias(reshape(rldu_lbl(nlay+1,:,1), shape = [1*ncol]), &\n",
    "!        reshape(rldu_ref(nlay+1,:,1), shape = [1*ncol]))\n",
    "! Bias in net fluxes of new result and RRTMGP, future\n",
    "!print *, \"#bias in net fluxes of new result and RRTMGP, \", &\n",
    "!        \"future: \", &\n",
    "!        bias(reshape(rldu_lbl(:,:,4), shape = [1*ncol*(nlay+1)]), &\n",
    "!        reshape(rldu_nn(:,:,4), shape = [1*ncol*(nlay+1)])), &\n",
    "!        bias(reshape(rldu_lbl(:,:,4), shape = [1*ncol*(nlay+1)]), &\n",
    "!        reshape(rldu_ref(:,:,4), shape = [1*ncol*(nlay+1)]))\n",
    "! Bias in net fluxes of new result and RRTMGP, future-all\n",
    "!print *, \"#bias in net fluxes of new result and RRTMGP, \", &\n",
    "!        \"future-all: \", &\n",
    "!        bias(reshape(rldu_lbl(:,:,17), shape = [1*ncol*(nlay+1)]), &\n",
    "!        reshape(rldu_nn(:,:,17), shape = [1*ncol*(nlay+1)])), &\n",
    "!        bias(reshape(rldu_lbl(:,:,17), shape = [1*ncol*(nlay+1)]), &\n",
    "!        reshape(rldu_ref(:,:,17), shape = [1*ncol*(nlay+1)]))\n",
    "! Bias in net fluxes of new result and RRTMGP, SURFACE, future-all\n",
    "print *, \"bias in net fluxes of new result and RRTMGP, \", &\n",
    "        \"future-all, SURFACE: \", &\n",
    "        bias(reshape(rldu_lbl(nlay+1,:,17), shape = [1*ncol]), &\n",
    "        reshape(rldu_nn(nlay+1,:,17), shape = [1*ncol])), &\n",
    "        bias(reshape(rldu_lbl(nlay+1,:,17), shape = [1*ncol]), &\n",
    "        reshape(rldu_ref(nlay+1,:,17), shape = [1*ncol]))\n",
    "print *, \"---------\"\n",
    "! Radiative forcing error at surface, pre-industrial N2O to present-day\n",
    "print *, \"radiative forcing error at surface, \", &\n",
    "        \"pre-industrial N2O to present-day: \", &\n",
    "        mean(rld_lbl(nlay+1,:,11) - rld_lbl(nlay+1,:,1)) - &\n",
    "        mean(rld_nn(nlay+1,:,11) - rld_nn(nlay+1,:,1)), &\n",
    "        mean(rld_lbl(nlay+1,:,11) - rld_lbl(nlay+1,:,1)) - &\n",
    "        mean(rld_ref(nlay+1,:,11) - rld_ref(nlay+1,:,1))\n",
    "! Radiative forcing error at TOA, pre-industrial N2O to present-day\n",
    "print *, \"radiative forcing error at TOA, \", &\n",
    "        \"pre-industrial N2O to present-day: \", &\n",
    "        mean(rlu_lbl(1,:,11) - rlu_lbl(1,:,1)) - &\n",
    "        mean(rlu_nn(1,:,11) - rlu_nn(1,:,1)), &\n",
    "        mean(rlu_lbl(1,:,11) - rlu_lbl(1,:,1)) - &\n",
    "        mean(rlu_ref(1,:,11) - rlu_ref(1,:,1))\n",
    "! MAE in upwelling fluxes of new result w.r.t RRTMGP, present-day\n",
    "!print *, \"#MAE in upwelling fluxes of new result w.r.t RRTMGP, \", &\n",
    "!        \"present-day: \", &\n",
    "!        mae(reshape(rlu_ref(:,:,1), shape = [1*ncol*(nlay+1)]), &\n",
    "!        reshape(rlu_nn(:,:,1), shape = [1*ncol*(nlay+1)]))\n",
    "! MAE in upwelling fluxes of new result w.r.t RRTMGP, present-day, SFC\n",
    "!print *, \"#MAE in upwelling fluxes of new result w.r.t RRTMGP, \", &\n",
    "!        \"present-day, SFC: \", &\n",
    "!        mae(reshape(rlu_ref(nlay+1,:,1), shape = [1*ncol]), &\n",
    "!        reshape(rlu_nn(nlay+1,:,1), shape = [1*ncol]))\n",
    "! MAE in downwelling fluxes of new result w.r.t RRTMGP, present-day, SFC\n",
    "!print *, \"#MAE in downwelling fluxes of new result w.r.t RRTMGP, \", &\n",
    "!        \"present-day, SFC: \", &\n",
    "!        mae(reshape(rld_ref(nlay+1,:,1), shape = [1*ncol]), &\n",
    "!        reshape(rld_nn(nlay+1,:,1), shape = [1*ncol]))\n",
    "! MAE in downwelling fluxes of new result w.r.t RRTMGP, present-day\n",
    "!print *, \"#MAE in downwelling fluxes of new result w.r.t RRTMGP, \", &\n",
    "!        \"present-day: \", &\n",
    "!        mae(reshape(rld_ref(:,:,1), shape = [1*ncol*(nlay+1)]), &\n",
    "!        reshape(rld_nn(:,:,1), shape = [1*ncol*(nlay+1)]))"
   ]
  },
  {
   "cell_type": "code",
   "execution_count": null,
   "id": "effe5d44-f037-471a-9577-ad1be6293957",
   "metadata": {},
   "outputs": [],
   "source": [
    "%%writefile -a rrtmgp_rfmip_lw_02.f90\n",
    "\n",
    "print *, \"---------\"\n",
    "\n",
    "! Print MAE for net fluxes with respect to RRTMGP\n",
    "print *, \"MAE in net flux w.r.t RRTMGP \", &\n",
    "        mae(reshape(rldu_ref(:,:,:), shape = [nexp*ncol*(nlay+1)]), &\n",
    "        reshape(rldu_nn(:,:,:), shape = [nexp*ncol*(nlay+1)]))\n",
    "\n",
    "! Print max difference in downward flux with respect to RRTMGP\n",
    "print *, \"Max-diff in d.w. flux w.r.t RRTMGP \", &\n",
    "        maxval(abs(rld_ref(:,:,:)-rld_nn(:,:,:)))\n",
    "\n",
    "! Print max difference in upward flux with respect to RRTMGP\n",
    "print *, \"Max-diff in u.w. flux w.r.t RRTMGP \", &\n",
    "        maxval(abs(rlu_ref(:,:,:)-rlu_nn(:,:,:)))\n",
    "\n",
    "! Print max difference in net flux with respect to RRTMGP\n",
    "print *, \"Max-diff in net flux w.r.t RRTMGP \", &\n",
    "        maxval(abs(rldu_ref(:,:,:)-rldu_nn(:,:,:)))\n",
    "\n",
    "! Deallocate arrays\n",
    "deallocate(rld_ref, rlu_ref, rld_nn, rlu_nn, rld_lbl, rlu_lbl, &\n",
    "           rldu_ref, rldu_nn, rldu_lbl)\n",
    "\n",
    "end if"
   ]
  },
  {
   "cell_type": "code",
   "execution_count": null,
   "id": "b19f3d39-5ebf-488c-be33-dad8d5cc634c",
   "metadata": {},
   "outputs": [],
   "source": [
    "%%writefile -a rrtmgp_rfmip_lw_02.f90\n",
    "\n",
    "deallocate(flux_up, flux_dn)\n",
    "print *, \"SUCCESS!\""
   ]
  },
  {
   "cell_type": "markdown",
   "id": "6f4231bd-2f72-4075-bcaa-6666ae7e83ca",
   "metadata": {},
   "source": [
    "### Functions declaration part"
   ]
  },
  {
   "cell_type": "code",
   "execution_count": null,
   "id": "5a148c12-1fdf-428e-b09f-1ce7769760ad",
   "metadata": {},
   "outputs": [],
   "source": [
    "%%writefile -a rrtmgp_rfmip_lw_02.f90\n",
    "\n",
    "contains\n",
    "\n",
    "function rmse(x1,x2) result(res)\n",
    "  implicit none \n",
    "  real(wp), dimension(:), intent(in) :: x1,x2\n",
    "  real(wp) :: res\n",
    "  real(wp), dimension(size(x1)) :: diff \n",
    "  \n",
    "  diff = x1 - x2\n",
    "  res = sqrt( sum(diff**2)/size(diff) )\n",
    "end function rmse\n",
    "\n",
    "function mae(x1,x2) result(res)\n",
    "  implicit none \n",
    "  real(wp), dimension(:), intent(in) :: x1,x2\n",
    "  real(wp) :: res\n",
    "  real(wp), dimension(size(x1)) :: diff \n",
    "  \n",
    "  diff = abs(x1 - x2)\n",
    "  res = sum(diff, dim=1)/size(diff, dim=1)\n",
    "end function mae\n",
    "\n",
    "function bias(x1,x2) result(res)\n",
    "  implicit none \n",
    "  real(wp), dimension(:), intent(in) :: x1,x2\n",
    "  real(wp) :: mean1,mean2, res\n",
    "  \n",
    "  mean1 = sum(x1, dim=1)/size(x1, dim=1)\n",
    "  mean2 = sum(x2, dim=1)/size(x2, dim=1)\n",
    "  res = mean1 - mean2\n",
    "\n",
    "end function bias\n",
    "\n",
    "function mean(x) result(mean1)\n",
    "  implicit none \n",
    "  real(wp), dimension(:), intent(in) :: x\n",
    "  real(wp) :: mean1\n",
    "  mean1 = sum(x) / size(x)\n",
    "end function mean\n",
    "\n",
    "function mean_2d(x) result(mean2)\n",
    "  implicit none \n",
    "  real(wp), dimension(:,:), intent(in) :: x\n",
    "  real(wp) :: mean2\n",
    "  mean2 = sum(x) / size(x)\n",
    "end function mean_2d\n",
    "\n",
    "function mean_3d(x) result(mean3)\n",
    "  implicit none \n",
    "  real(wp), dimension(:,:,:), intent(in) :: x\n",
    "  real(wp) :: mean3\n",
    "  mean3 = sum(x) / size(x)\n",
    "end function mean_3d"
   ]
  },
  {
   "cell_type": "code",
   "execution_count": null,
   "id": "05f4d41e-27cb-49c4-8ebc-76ea1b742b67",
   "metadata": {},
   "outputs": [],
   "source": [
    "%%writefile -a rrtmgp_rfmip_lw_02.f90\n",
    "\n",
    "end program rrtmgp_rfmip_lw"
   ]
  },
  {
   "cell_type": "markdown",
   "id": "b8753890-9bf7-4e09-b44f-866bdfd3a312",
   "metadata": {},
   "source": [
    "#### End of program"
   ]
  },
  {
   "cell_type": "markdown",
   "id": "3eca1c39-ae73-4d35-a3e4-f9dbc5fc8415",
   "metadata": {},
   "source": [
    "---"
   ]
  },
  {
   "cell_type": "markdown",
   "id": "2fe68603-5aa4-45bc-8533-f915c6aa1108",
   "metadata": {},
   "source": [
    "Most of the cells below are based on the Notebook `ukk23test01-rfmip-clear-sky.ipynb`."
   ]
  },
  {
   "cell_type": "code",
   "execution_count": null,
   "id": "61b2f855-534f-4d7c-ad2b-bb49cde8f92a",
   "metadata": {},
   "outputs": [],
   "source": []
  },
  {
   "cell_type": "code",
   "execution_count": null,
   "id": "0d7980e2-5016-4dca-b391-aaed231fc453",
   "metadata": {},
   "outputs": [],
   "source": []
  },
  {
   "cell_type": "code",
   "execution_count": null,
   "id": "49072480-2224-45fa-b50d-e2b37aabbd2f",
   "metadata": {},
   "outputs": [],
   "source": []
  },
  {
   "cell_type": "code",
   "execution_count": null,
   "id": "9076a29e-4c8c-4124-9fc8-bdc10dbbc8a9",
   "metadata": {},
   "outputs": [],
   "source": []
  },
  {
   "cell_type": "code",
   "execution_count": null,
   "id": "583f75f4-032c-4da7-8dc0-e67dfea60877",
   "metadata": {},
   "outputs": [],
   "source": [
    "# %%writefile -a rrtmgp_rfmip_lw_02.f90"
   ]
  },
  {
   "cell_type": "code",
   "execution_count": null,
   "id": "380794a1-03c0-4520-86e5-61b21ee0fe58",
   "metadata": {},
   "outputs": [],
   "source": [
    "# %%writefile -a rrtmgp_rfmip_lw_02.f90"
   ]
  },
  {
   "cell_type": "code",
   "execution_count": null,
   "id": "7fe7d7ad-17e2-4686-b2da-85918d3797fc",
   "metadata": {},
   "outputs": [],
   "source": [
    "# %%writefile test01.f90\n",
    "# program test01\n",
    "# implicit none\n",
    "#   print *, \"starting clear-sky LW computations, using neural &\n",
    "#             networks as RRTMGP kernel\"\n",
    "# end program"
   ]
  },
  {
   "cell_type": "code",
   "execution_count": null,
   "id": "182f6913-b607-4e57-8505-353e17942c5a",
   "metadata": {},
   "outputs": [],
   "source": [
    "# ! gfortran test01.f90"
   ]
  },
  {
   "cell_type": "code",
   "execution_count": null,
   "id": "c1013efa-6563-4081-9cc8-e1de78ff9dac",
   "metadata": {},
   "outputs": [],
   "source": [
    "# ! ./a.out"
   ]
  },
  {
   "cell_type": "code",
   "execution_count": null,
   "id": "f0c8632a-8761-45eb-8ea4-ed007abcae6a",
   "metadata": {},
   "outputs": [],
   "source": []
  }
 ],
 "metadata": {
  "kernelspec": {
   "display_name": "tf2",
   "language": "python",
   "name": "tf2"
  },
  "language_info": {
   "codemirror_mode": {
    "name": "ipython",
    "version": 3
   },
   "file_extension": ".py",
   "mimetype": "text/x-python",
   "name": "python",
   "nbconvert_exporter": "python",
   "pygments_lexer": "ipython3",
   "version": "3.12.6"
  }
 },
 "nbformat": 4,
 "nbformat_minor": 5
}
