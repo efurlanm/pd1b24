{
 "cells": [
  {
   "cell_type": "markdown",
   "id": "5a90ebc4-c696-4a6c-b111-414dd65930a9",
   "metadata": {},
   "source": [
    "# RRTMGP_RFMIP_LW\n",
    "\n",
    "*Last edited: 2024-10-18*\n",
    "\n",
    "This code is part of RRTM for GCM Applications - Parallel (RRTMGP). Please see `rrtmgp_rfmip_lw.F90` for more info."
   ]
  },
  {
   "cell_type": "markdown",
   "id": "9c01cf64-a262-42ff-ac2d-e15a4e4c516d",
   "metadata": {},
   "source": [
    "- Example program to demonstrate the calculation of longwave radiative fluxes in clear, aerosol-free skies.\n",
    "- The example files come from the Radiative Forcing MIP (https://www.earthsystemcog.org/projects/rfmip/).\n",
    "- The large problem (1800 profiles) is divided into blocks.\n",
    "- Program is invoked as rrtmgp_rfmip_lw [block_size input_file coefficient_file upflux_file downflux_file] .\n",
    "- All arguments are optional but need to be specified in order."
   ]
  },
  {
   "cell_type": "code",
   "execution_count": 2,
   "id": "cc0d8e3b-1f03-424a-b7d1-de9a95d56692",
   "metadata": {},
   "outputs": [
    {
     "name": "stdout",
     "output_type": "stream",
     "text": [
      "/home/x/git/pd1b24/rrtmgp/ukk23test01/examples/rfmip-clear-sky\n"
     ]
    }
   ],
   "source": [
    "WORKDIR = \"/home/x/git/pd1b24/rrtmgp/ukk23test01/examples/rfmip-clear-sky/\"\n",
    "%cd {WORKDIR}"
   ]
  },
  {
   "cell_type": "markdown",
   "id": "9343b794-18f7-459d-91e1-53b50e27eafe",
   "metadata": {},
   "source": [
    "## Makefile\n",
    "\n",
    "For `rrtmgp_rfmip_lw.F90` and `rrtmgp_rfmip_sw.F90`"
   ]
  },
  {
   "cell_type": "code",
   "execution_count": 8,
   "id": "fb9ca7d6-8941-458d-b030-0df4af19cc63",
   "metadata": {},
   "outputs": [
    {
     "name": "stdout",
     "output_type": "stream",
     "text": [
      "Writing Makefile\n"
     ]
    }
   ],
   "source": [
    "%%writefile Makefile\n",
    "# Set k-distribution files\n",
    "# KDIST_LW=rrtmgp-data-lw-g256-2018-12-04.nc\n",
    "# KDIST_SW=rrtmgp-data-sw-g224-2018-12-04.nc\n",
    "KDIST_LW=rrtmgp-data-lw-g128-210809.nc\n",
    "KDIST_SW=rrtmgp-data-sw-g112-210809.nc\n",
    "BLOCKSIZE = 36\n",
    "\n",
    "# Here set variables RRTMGP_BUILD, NCHOME, NFHOME, TIME_DIR (for GPTL)\n",
    "# and link against BLAS library, or have those variables set in the\n",
    "# environment\n",
    "\n",
    "RRTMGP_ROOT=../../\n",
    "$(info VAR=\"$(RRTMGP_ROOT)\")\n",
    "RRTMGP_BUILD=$(RRTMGP_ROOT)/build\n",
    "-include $(RRTMGP_BUILD)/Makefile.conf\n",
    "\n",
    "# RRTMGP library, module files\n",
    "\n",
    "LDFLAGS   += -L$(RRTMGP_BUILD)\n",
    "LIBS      += -lrrtmgp -lrte -lneural\n",
    "FCINCLUDE += -I$(RRTMGP_BUILD)\n",
    "\n",
    "# netcdf library, module files\n",
    "# C and Fortran interfaces respectively\n",
    "\n",
    "FCINCLUDE += -I$(NFHOME)/include\n",
    "LDFLAGS   += -L$(NFHOME)/lib -L$(NCHOME)/lib\n",
    "LIBS      += -lnetcdff -lnetcdf\n",
    "\n",
    "# -------- BLAS lbirary: required for RRTMGP-NN -------- \n",
    "# Choose BLAS library: e.g. \"blis\", \"openblas\", \"mkl\".\n",
    "# Here we use BLIS (https://github.com/flame/blis) which is one of the\n",
    "# fastest BLAS libraries available (on Intel platforms MKL is probably\n",
    "# faster). The flags BLAS_DIR and BLASLIB can be specified in\n",
    "# Makefile.conf or the environment Depending on your BLAS library you\n",
    "# might have to make changes below.\n",
    "\n",
    "ifeq ($(BLASLIB),blis)\n",
    "\tFCINCLUDE   += -I$(BLAS_DIR)/include/blis\n",
    "\tLIBS      \t+= $(BLAS_DIR)/lib/libblis.a -lm -lpthread \n",
    "else ifeq ($(BLASLIB),blis-amd)\n",
    "\tFCINCLUDE   += -I$(BLAS_DIR)/include/blis\n",
    "\tLIBS      \t+= $(BLAS_DIR)/lib/libblis-mt.a -lm -lpthread \n",
    "else ifeq ($(BLASLIB),openblas)\n",
    "\tLIBS \t\t+= -lopenblas \n",
    "else ifeq ($(BLASLIB),mkl)\n",
    "\tFCINCLUDE   += -I${MKLROOT}/include\n",
    "\t#LDFLAGS     += -L${MKLROOT}/lib/intel64 -lmkl_rt\n",
    "\t#LDFLAGS     += -lpthread -lm -ldl\n",
    "endif\n",
    "\n",
    "# -------- Use OpenMP? May be needed for BLAS -------\n",
    "# ifeq ($(BLASLIB),blis-amd)\n",
    "#    USE_OPENMP=1\n",
    "# endif\n",
    "#USE_OPENMP=1\n",
    "\n",
    "ifeq ($(USE_OPENMP),1)\n",
    "\t# OMPFLAG = -fopenmp\n",
    "\tFCFLAGS += -DUSE_OPENMP\n",
    "endif\n",
    "OMPFLAG = -fopenmp\n",
    "\n",
    "ifeq ($(USE_OPENACC),1)\n",
    "  FCFLAGS += -DUSE_OPENACC\n",
    "endif\n",
    "\n",
    "# -------- GPTL Timing -------\n",
    "# Use General Purpose Timing Library to profile code?\n",
    "\n",
    "ifeq ($(GPTL_TIMING),1)\n",
    "\n",
    "\t# Timing library\n",
    "\n",
    "\tFCINCLUDE += -I$(TIME_DIR)/include\n",
    "\n",
    "    # Compiler specific\n",
    "\n",
    "\tFCFLAGS += -DUSE_TIMING\n",
    "\tLDFLAGS   += -L$(TIME_DIR)/lib -Wl,-rpath=$(TIME_DIR)/lib\n",
    "\tLIBS      += -lgptl\n",
    "\n",
    "# Use GPTL together with PAPI hardware instrumentation to measure \n",
    "# computational intensity? Requires that your GPTL was compiled to PAPI \n",
    "# support\n",
    "\n",
    "else ifeq ($(GPTL_TIMING),2)\n",
    "\n",
    "\t# Timing library\n",
    "\n",
    "\tFCINCLUDE += -I$(TIME_DIR)/include\n",
    "\n",
    "\t# Compiler specific\n",
    "\n",
    "\tFCFLAGS += -DUSE_TIMING -DUSE_PAPI\n",
    "\tLDFLAGS   += -L$(TIME_DIR)/lib -Wl,-rpath=$(TIME_DIR)/lib\n",
    "\n",
    "\t# LIBS      += -lgptl  -rdynamic  -lpapi\n",
    "\n",
    "\tLIBS      += -lgptl -lpapi\n",
    "\n",
    "    ifeq ($(FC),gfortran)\n",
    "    \tLIBS      += -rdynamic\n",
    "    endif\n",
    "\n",
    "endif\n",
    "\n",
    "VPATH = ../\n",
    "\n",
    "# Compilation rules\n",
    "%.o: %.F90\n",
    "\t$(FC) $(FCFLAGS) $(FCINCLUDE) -c $< $(OMPFLAG)\n",
    "\n",
    "%: %.o\n",
    "\t$(FC) $(FCFLAGS) -o $@ $^ $(LDFLAGS) $(LIBS) $(OMPFLAG)\n",
    "\n",
    "#\n",
    "# Ancillary codes\n",
    "#\n",
    "ADDITIONS = mo_simple_netcdf.o mo_rfmip_io.o mo_load_coefficients.o\n",
    "all: rrtmgp_rfmip_lw rrtmgp_rfmip_sw\n",
    "rrtmgp_rfmip_lw:   rrtmgp_rfmip_lw.o   $(ADDITIONS) $(RRTMGP_BUILD)/librte.a $(RRTMGP_BUILD)/librrtmgp.a $(RRTMGP_BUILD)/libneural.a\n",
    "rrtmgp_rfmip_lw.o: rrtmgp_rfmip_lw.F90 $(ADDITIONS)\n",
    "rrtmgp_rfmip_sw:   rrtmgp_rfmip_sw.o   $(ADDITIONS) $(RRTMGP_BUILD)/librte.a $(RRTMGP_BUILD)/librrtmgp.a $(RRTMGP_BUILD)/libneural.a\n",
    "rrtmgp_rfmip_sw.o: rrtmgp_rfmip_sw.F90 $(ADDITIONS)\n",
    "mo_rfmip_io.o:          mo_rfmip_io.F90          mo_simple_netcdf.o\n",
    "mo_load_coefficients.o: mo_load_coefficients.F90 mo_simple_netcdf.o\n",
    "\n",
    "tests: multiple_input4MIPs_radiation_RFMIP_UColorado-RFMIP-1-2_none.nc # Also the template files\n",
    "\t# Files need to have been generated/downloaded before\n",
    "\t$(RUN_CMD) ./rrtmgp_rfmip_lw $(BLOCKSIZE) multiple_input4MIPs_radiation_RFMIP_UColorado-RFMIP-1-2_none.nc ${RRTMGP_ROOT}/rrtmgp/data/$(KDIST_LW)\n",
    "\t$(RUN_CMD) ./rrtmgp_rfmip_sw $(BLOCKSIZE) multiple_input4MIPs_radiation_RFMIP_UColorado-RFMIP-1-2_none.nc ${RRTMGP_ROOT}/rrtmgp/data/$(KDIST_SW)\n",
    "\n",
    "check:\n",
    "\tcd ${RRTMGP_ROOT}/examples/rfmip-clear-sky && python ./compare-to-reference.py --fail=7.e-4\n",
    "\n",
    "multiple_input4MIPs_radiation_RFMIP_UColorado-RFMIP-1-2_none.nc:\n",
    "\tbash ./stage_files.sh\n",
    "\n",
    "clean:\n",
    "\t-rm rrtmgp_rfmip_sw rrtmgp_rfmip_lw *.o *.mod *.optrpt"
   ]
  },
  {
   "cell_type": "markdown",
   "id": "117fa5eb-9d62-4dfd-a5e7-c9461bdf8454",
   "metadata": {},
   "source": [
    "## rrtmgp_rfmip_lw.F90\n",
    "\n",
    "- Notes:\n",
    "    - OpenMP and OpenACC will not be used in this version, and have been removed from the code to simplify and facilitate understanding."
   ]
  },
  {
   "cell_type": "markdown",
   "id": "f9e40989-6f48-413a-ac8d-8e89150b0ee8",
   "metadata": {},
   "source": [
    "Start of the code\n",
    "\n",
    "- Error checking: Procedures in rte+rrtmgp return strings which are empty if no errors occured.\n",
    "- Check the incoming string, print it out and stop execution if non-empty."
   ]
  },
  {
   "cell_type": "code",
   "execution_count": 8,
   "id": "95df6b66-73ba-458e-b155-b7101122c8b4",
   "metadata": {},
   "outputs": [
    {
     "name": "stdout",
     "output_type": "stream",
     "text": [
      "Overwriting helloworld.f90\n"
     ]
    }
   ],
   "source": [
    "%%writefile rrtmgp_rfmip_lw.F90\n",
    "\n",
    "subroutine stop_on_err(error_msg)\n",
    "  use iso_fortran_env, only : error_unit\n",
    "  use iso_c_binding\n",
    "  character(len=*), intent(in) :: error_msg\n",
    "\n",
    "  if(error_msg /= \"\") then\n",
    "    write (error_unit,*) trim(error_msg)\n",
    "    write (error_unit,*) \"rrtmgp_rfmip_lw stopping\"\n",
    "    stop\n",
    "  end if\n",
    "end subroutine stop_on_err"
   ]
  },
  {
   "cell_type": "markdown",
   "id": "014489e8-1951-4fd0-8195-8a873e1b1d4b",
   "metadata": {},
   "source": [
    "### Main program"
   ]
  },
  {
   "cell_type": "code",
   "execution_count": null,
   "id": "8ce16e2e-d2c1-437e-b0c0-a8be020df142",
   "metadata": {},
   "outputs": [],
   "source": [
    "%%writefile -a rrtmgp_rfmip_lw.F90\n",
    "\n",
    "program rrtmgp_rfmip_lw"
   ]
  },
  {
   "cell_type": "markdown",
   "id": "150e16d6-e2d6-4c18-be7c-40824225de8d",
   "metadata": {},
   "source": [
    "### Modules for working with rte and rrtmgp"
   ]
  },
  {
   "cell_type": "markdown",
   "id": "09578b14-38c9-44da-a989-1ffb24d84c1c",
   "metadata": {},
   "source": [
    " Working precision for real variables:"
   ]
  },
  {
   "cell_type": "code",
   "execution_count": null,
   "id": "da8bb4b1-1be1-4f0b-9f59-a50a7163487a",
   "metadata": {},
   "outputs": [],
   "source": [
    "%%writefile -a rrtmgp_rfmip_lw.F90\n",
    "\n",
    "use mo_rte_kind, only: wp, sp, wl, i4"
   ]
  },
  {
   "cell_type": "markdown",
   "id": "0617591b-b7ae-4e1b-8911-bc0880c7ceb2",
   "metadata": {},
   "source": [
    "- Optical properties of the atmosphere as array of values\n",
    "  - In the longwave we include only absorption optical depth (_1scl)\n",
    "  - Shortwave calculations would use optical depth, single-scattering albedo, asymmetry parameter (_2str)"
   ]
  },
  {
   "cell_type": "code",
   "execution_count": null,
   "id": "53bf218c-a2c6-41ff-8649-15643a970028",
   "metadata": {},
   "outputs": [],
   "source": [
    "%%writefile -a rrtmgp_rfmip_lw.F90\n",
    "\n",
    "use mo_optical_props, only: ty_optical_props_1scl"
   ]
  },
  {
   "cell_type": "markdown",
   "id": "b4748a42-f18f-497b-8910-fc0500d2d983",
   "metadata": {},
   "source": [
    "- Gas optics: maps physical state of the atmosphere to optical properties"
   ]
  },
  {
   "cell_type": "code",
   "execution_count": null,
   "id": "4567b97d-368e-4f45-8c2e-7d66c4ff1cab",
   "metadata": {},
   "outputs": [],
   "source": [
    "%%writefile -a rrtmgp_rfmip_lw.F90\n",
    "\n",
    "use mo_gas_optics_rrtmgp, only: ty_gas_optics_rrtmgp"
   ]
  },
  {
   "cell_type": "markdown",
   "id": "b46618b5-a1af-4d71-b74b-616a35052f61",
   "metadata": {},
   "source": [
    "- Gas optics uses a derived type to represent gas concentrations compactly..."
   ]
  },
  {
   "cell_type": "code",
   "execution_count": null,
   "id": "e2a40cd8-042d-4c92-bebd-1471ce326a91",
   "metadata": {},
   "outputs": [],
   "source": [
    "%%writefile -a rrtmgp_rfmip_lw.F90\n",
    "\n",
    " use mo_gas_concentrations, only: ty_gas_concs"
   ]
  },
  {
   "cell_type": "markdown",
   "id": "68fb59f0-64cd-4bd8-a35b-6bb3ffe28a23",
   "metadata": {},
   "source": [
    "- ... and another type to encapsulate the longwave source functions."
   ]
  },
  {
   "cell_type": "code",
   "execution_count": null,
   "id": "f316bb67-d2e9-42b2-b138-c03b165af981",
   "metadata": {},
   "outputs": [],
   "source": [
    "%%writefile -a rrtmgp_rfmip_lw.F90\n",
    "\n",
    "use mo_source_functions, only: ty_source_func_lw"
   ]
  },
  {
   "cell_type": "markdown",
   "id": "450c1404-6664-497d-90e6-805cc3455bee",
   "metadata": {},
   "source": [
    "- RTE longwave driver."
   ]
  },
  {
   "cell_type": "code",
   "execution_count": null,
   "id": "fe840919-466f-40ab-a757-c7c97316b625",
   "metadata": {},
   "outputs": [],
   "source": [
    "%%writefile -a rrtmgp_rfmip_lw.F90\n",
    "\n",
    "use mo_rte_lw, only: rte_lw"
   ]
  },
  {
   "cell_type": "markdown",
   "id": "a2ada067-98f5-4b8b-a464-98aaf616c722",
   "metadata": {},
   "source": [
    "- RTE driver uses a derived type to reduce spectral fluxes to whatever the user wants\n",
    "  - Here we're just reporting broadband fluxes"
   ]
  },
  {
   "cell_type": "code",
   "execution_count": null,
   "id": "63838c63-dd27-45b5-a501-eaf99d8c3b0a",
   "metadata": {},
   "outputs": [],
   "source": [
    "%%writefile -a rrtmgp_rfmip_lw.F90\n",
    "\n",
    "use mo_fluxes, only: ty_fluxes_broadband, ty_fluxes_flexible"
   ]
  },
  {
   "cell_type": "markdown",
   "id": "a422017b-09de-4282-b477-3b741d601a55",
   "metadata": {},
   "source": [
    "  - modules for reading and writing files\n",
    "  - RRTMGP's gas optics class needs to be initialized with data read from a netCDF files"
   ]
  },
  {
   "cell_type": "code",
   "execution_count": null,
   "id": "f0639ad9-80f9-449a-8159-a98e5ca6de06",
   "metadata": {},
   "outputs": [],
   "source": [
    "%%writefile -a rrtmgp_rfmip_lw.F90\n",
    "\n",
    "use mo_load_coefficients, only: load_and_init\n",
    "use mo_rfmip_io,          only: read_size, read_and_block_pt, read_and_block_gases_ty,  &\n",
    "                                unblock_and_write, unblock, read_and_block_lw_bc, determine_gas_names\n",
    "use mo_simple_netcdf,     only: read_field, get_dim_size\n",
    "use netcdf\n",
    "use mod_network_rrtmgp"
   ]
  },
  {
   "cell_type": "code",
   "execution_count": null,
   "id": "97aa274b-12f5-4471-82a1-8e3779f0e57c",
   "metadata": {},
   "outputs": [],
   "source": [
    "%%writefile -a rrtmgp_rfmip_lw.F90"
   ]
  },
  {
   "cell_type": "code",
   "execution_count": null,
   "id": "6823cb26-fa6d-4217-b6f3-e5f5240e0c2f",
   "metadata": {},
   "outputs": [],
   "source": [
    "%%writefile -a rrtmgp_rfmip_lw.F90"
   ]
  },
  {
   "cell_type": "code",
   "execution_count": null,
   "id": "9443ab2a-9620-4729-ae51-547578086734",
   "metadata": {},
   "outputs": [],
   "source": [
    "%%writefile -a rrtmgp_rfmip_lw.F90"
   ]
  },
  {
   "cell_type": "code",
   "execution_count": null,
   "id": "f190e43c-3fb8-4757-8b70-5adf10de4cab",
   "metadata": {},
   "outputs": [],
   "source": [
    "%%writefile -a rrtmgp_rfmip_lw.F90"
   ]
  },
  {
   "cell_type": "code",
   "execution_count": null,
   "id": "e582cf14-fc75-4d1f-8d88-7d336a6c4830",
   "metadata": {},
   "outputs": [],
   "source": [
    "%%writefile -a rrtmgp_rfmip_lw.F90"
   ]
  },
  {
   "cell_type": "code",
   "execution_count": null,
   "id": "6e9d50ef-0a3b-4e25-8f88-2be4aaa63638",
   "metadata": {},
   "outputs": [],
   "source": [
    "%%writefile -a rrtmgp_rfmip_lw.F90"
   ]
  },
  {
   "cell_type": "code",
   "execution_count": 11,
   "id": "182f6913-b607-4e57-8505-353e17942c5a",
   "metadata": {},
   "outputs": [],
   "source": [
    "! gfortran helloworld.f90"
   ]
  },
  {
   "cell_type": "code",
   "execution_count": 12,
   "id": "c1013efa-6563-4081-9cc8-e1de78ff9dac",
   "metadata": {},
   "outputs": [
    {
     "name": "stdout",
     "output_type": "stream",
     "text": [
      " Hello, world!\n"
     ]
    }
   ],
   "source": [
    "! ./a.out"
   ]
  },
  {
   "cell_type": "code",
   "execution_count": null,
   "id": "f0c8632a-8761-45eb-8ea4-ed007abcae6a",
   "metadata": {},
   "outputs": [],
   "source": []
  }
 ],
 "metadata": {
  "kernelspec": {
   "display_name": "tf2",
   "language": "python",
   "name": "tf2"
  },
  "language_info": {
   "codemirror_mode": {
    "name": "ipython",
    "version": 3
   },
   "file_extension": ".py",
   "mimetype": "text/x-python",
   "name": "python",
   "nbconvert_exporter": "python",
   "pygments_lexer": "ipython3",
   "version": "3.12.6"
  }
 },
 "nbformat": 4,
 "nbformat_minor": 5
}
