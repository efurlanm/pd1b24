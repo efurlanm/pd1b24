{
 "cells": [
  {
   "cell_type": "markdown",
   "id": "f1c7506c-6d94-4e57-a197-16d55e0fa61c",
   "metadata": {},
   "source": [
    "# RRTMGP-NN training\n",
    "\n",
    "*Last edited: 2024-10-04*\n",
    "\n",
    "The goal of this Notebook is to generate only the trained neural network (NN) model, which will later be used in the RRTMGP-NN model to simulate the optical scheme, as described by Ukkonen & Hoggan (2023). The training implementation uses TensorFlow/Python and, in addition, Fortran routines are used to generate the training dataset. The trained model is saved to disk, for future use, using two file formats, HDF5 and netCDF.\n",
    "\n",
    "## Based on\n",
    "\n",
    "- [U&K23] Ukkonen, P., & Hogan, R. J. (2023). Implementation of a machine-learned gas optics parameterization in the ECMWF Integrated Forecasting System: RRTMGP-NN 2.0. Geoscientific Model Development, 16(11), 3241–3261. <https://doi.org/10.5194/gmd-16-3241-2023>\n",
    "- Sources: <https://github.com/peterukk/rte-rrtmgp-nn>\n",
    "\n",
    "## Data and code sources\n",
    "\n",
    "- Ukkonen, P. (2024). \"peterukk/rte-rrtmgp-nn\". <https://github.com/peterukk/rte-rrtmgp-nn>\n",
    "- Ukkonen, P., Pincus, R., Hillman, B. R., Norman, M., fomics, & Heerwaarden, C. van. (2022). \"peterukk/rte-rrtmgp-nn: 2.0\" (Version 2.0). <https://doi.org/10.5281/zenodo.7413935>\n",
    "- Ukkonen, P. (2022). Code and extensive data for training neural networks for radiation, used in “Implementation of a machine-learned gas optics parameterization in the ECMWF Integrated Forecasting System: RRTMGP-NN 2.0”\". Dataset. <https://doi.org/10.5281/zenodo.7413952>\n",
    "- Ukkonen, P. (2022). Optimized version of the ecRad radiation scheme with new RRTMGP-NN gas optics. <https://doi.org/10.5281/zenodo.7852526>\n",
    "\n",
    "## Documentation\n",
    "\n",
    "- ECMWF Radiation Scheme Home. <https://confluence.ecmwf.int/display/ECRAD>\n",
    "    - User Guide. <https://confluence.ecmwf.int/download/attachments/70945505/ecrad_documentation.pdf?version=5&modificationDate=1655480733414&api=v2>\n",
    "- Documentation described in the work of U&H23 (see above)\n",
    "\n",
    "## Notes\n",
    "\n",
    "- The training, which uses TensorFlow, is located in the `examples/rrtmgp-nn-training/` directory.\n",
    "- To perform the prediction, \"g-point\" vectors are used, containing:\n",
    "    - LW: Planck fraction, absorption cross-section, or both\n",
    "    - SW: Absorption cross-section, or Rayleigh cross-section\n",
    "- Models are saved to `data/` directory with a file name containing the custom radiation scores."
   ]
  },
  {
   "cell_type": "markdown",
   "id": "858de0d7-e756-4792-9557-96286b26a2b0",
   "metadata": {},
   "source": [
    "Dataset:\n",
    "\n",
    "Due to Github space constraints, the datasets are not hosted in this GitHub repository and need to be downloaded from the links mentioned above. Additionally, some data files are created during the execution of the routines, such as the NN training dataset. The data directories are:\n",
    "\n",
    "- neural/data\n",
    "- rrtmgp/data\n",
    "- examples/rfmip-clear-sky/data\n",
    "- examples/rfmip-clear-sky/output_fluxes\n",
    "- examples/rrtmgp-nn-training/data\n",
    "- examples/rrtmgp-nn-training/inputs_to_RRTMGP"
   ]
  },
  {
   "cell_type": "markdown",
   "id": "c47a2866-8f8b-4ee0-bc08-d3dedb81d68a",
   "metadata": {},
   "source": [
    "Fortran and dependencies:\n",
    "\n",
    "```bash\n",
    "apt install gfortran libopenblas-dev libnetcdf-dev libnetcdff-dev\n",
    "```"
   ]
  },
  {
   "cell_type": "markdown",
   "id": "94c1c7e9-bbf8-410a-b166-f38d183913e4",
   "metadata": {},
   "source": [
    "## Creating the training dataset\n",
    "\n",
    "Based on: <https://github.com/peterukk/rte-rrtmgp-nn/blob/main/examples/rrtmgp-nn-training/Readme.md>\n",
    "\n",
    "The `rrtmgp_lw_gendata_rfmipstyle.F90` program is used to generate training data to be used in the RRTMGP-LW emulator neural network.\n",
    "\n",
    "The RRTMGP inputs, used as NN inputs, are layer-wise RRTMGP input variables (T, p, gas concentrations). The final RRTMGP outputs are optical depth **tau** and single-scattering **albedo ssa**.\n",
    "\n",
    "These may be utilized as NN outputs, but to complement Ukkonen's (2020) methodology, which uses two different NNs to forecast the absorption cross section and Planck fractions, the number of dry air molecule layers (N) is additionally recorded on disk."
   ]
  },
  {
   "cell_type": "markdown",
   "id": "e64309ba-f34e-484d-95a7-77213a286e17",
   "metadata": {},
   "source": [
    "## Go to rrtmgp-nn-training dir"
   ]
  },
  {
   "cell_type": "code",
   "execution_count": 5,
   "id": "07e1d7ac-1a6d-4adf-b07d-f6d851a47ae6",
   "metadata": {
    "scrolled": true
   },
   "outputs": [
    {
     "name": "stdout",
     "output_type": "stream",
     "text": [
      "/home/x/git/pd1b24/ukk23/ukk23test01/examples/rrtmgp-nn-training\n"
     ]
    }
   ],
   "source": [
    "%cd /home/x/git/pd1b24/ukk23/ukk23test01/examples/rrtmgp-nn-training/"
   ]
  },
  {
   "cell_type": "markdown",
   "id": "4cf825da-0a01-4ce1-855e-e178127a4dd6",
   "metadata": {},
   "source": [
    "## Build the Fortran code"
   ]
  },
  {
   "cell_type": "markdown",
   "id": "12f42ed7-b10d-47bf-a51b-166c3413bece",
   "metadata": {},
   "source": [
    "Environment variables configuration:"
   ]
  },
  {
   "cell_type": "code",
   "execution_count": 2,
   "id": "3a6d026e-4887-4821-9b79-b8e7c0707bda",
   "metadata": {},
   "outputs": [
    {
     "name": "stdout",
     "output_type": "stream",
     "text": [
      "env: FC=gfortran\n",
      "env: FCFLAGS=-ffree-line-length-none -m64 -march=native -O3 -lcurl\n",
      "env: NCHOME=/usr\n",
      "env: NFHOME=/usr\n",
      "env: BLASLIB=openblas\n"
     ]
    }
   ],
   "source": [
    "%env FC=gfortran\n",
    "%env FCFLAGS=-ffree-line-length-none -m64 -march=native -O3 -lcurl\n",
    "%env NCHOME=/usr\n",
    "%env NFHOME=/usr\n",
    "%env BLASLIB=openblas"
   ]
  },
  {
   "cell_type": "code",
   "execution_count": 3,
   "id": "5eb645ef-4d58-4061-b4a4-73cbdabab874",
   "metadata": {},
   "outputs": [
    {
     "name": "stdout",
     "output_type": "stream",
     "text": [
      "VAR=\"../../\"\n",
      "rm rrtmgp_lw_gendata_rfmipstyle rrtmgp_sw_gendata_rfmipstyle *.o *.mod *.optrpt\n",
      "rm: cannot remove '*.optrpt': No such file or directory\n",
      "make: [Makefile:151: clean] Error 1 (ignored)\n"
     ]
    }
   ],
   "source": [
    "! make clean"
   ]
  },
  {
   "cell_type": "code",
   "execution_count": 4,
   "id": "0a9df88f-ab49-484a-b7a4-bb85f9a3247d",
   "metadata": {
    "scrolled": true
   },
   "outputs": [
    {
     "name": "stdout",
     "output_type": "stream",
     "text": [
      "VAR=\"../../\"\n",
      "gfortran -ffree-line-length-none -m64 -march=native -O3 -lcurl -DNC_NETCDF4 -I../..//build -I/usr/include -c ../mo_simple_netcdf.F90 -fopenmp\n",
      "gfortran -ffree-line-length-none -m64 -march=native -O3 -lcurl -DNC_NETCDF4 -I../..//build -I/usr/include -c easy_netcdf.F90 -fopenmp\n",
      "gfortran -ffree-line-length-none -m64 -march=native -O3 -lcurl -DNC_NETCDF4 -I../..//build -I/usr/include -c mo_io_rfmipstyle_generic.F90 -fopenmp\n",
      "gfortran -ffree-line-length-none -m64 -march=native -O3 -lcurl -DNC_NETCDF4 -I../..//build -I/usr/include -c ../mo_load_coefficients.F90 -fopenmp\n",
      "gfortran -ffree-line-length-none -m64 -march=native -O3 -lcurl -DNC_NETCDF4 -I../..//build -I/usr/include -c rrtmgp_sw_gendata_rfmipstyle.F90 -fopenmp\n",
      "gfortran -ffree-line-length-none -m64 -march=native -O3 -lcurl -DNC_NETCDF4 -o rrtmgp_sw_gendata_rfmipstyle rrtmgp_sw_gendata_rfmipstyle.o mo_simple_netcdf.o easy_netcdf.o mo_io_rfmipstyle_generic.o mo_load_coefficients.o ../..//build/librte.a ../..//build/librrtmgp.a ../..//build/libneural.a -L../..//build -L/usr/lib -L/usr/lib -lrrtmgp -lrte -lneural -lnetcdff -lnetcdf -lopenblas  -fopenmp\n",
      "gfortran -ffree-line-length-none -m64 -march=native -O3 -lcurl -DNC_NETCDF4 -I../..//build -I/usr/include -c rrtmgp_lw_gendata_rfmipstyle.F90 -fopenmp\n",
      "gfortran -ffree-line-length-none -m64 -march=native -O3 -lcurl -DNC_NETCDF4 -o rrtmgp_lw_gendata_rfmipstyle rrtmgp_lw_gendata_rfmipstyle.o mo_simple_netcdf.o easy_netcdf.o mo_io_rfmipstyle_generic.o mo_load_coefficients.o ../..//build/librte.a ../..//build/librrtmgp.a ../..//build/libneural.a -L../..//build -L/usr/lib -L/usr/lib -lrrtmgp -lrte -lneural -lnetcdff -lnetcdf -lopenblas  -fopenmp\n",
      "gfortran -ffree-line-length-none -m64 -march=native -O3 -lcurl -DNC_NETCDF4 -I../..//build -I/usr/include -c rrtmgp_sw_eval_nn_rfmip.F90 -fopenmp\n",
      "\u001b[01m\u001b[Krrtmgp_sw_eval_nn_rfmip.F90:571:47:\u001b[m\u001b[K\n",
      "\n",
      "  571 |   val = -mean(diff(rsu_lbl,1,iref,iexp)) -   -mean(diff(rsu_new,1,iref,iexp))\n",
      "      |                                               \u001b[01;35m\u001b[K1\u001b[m\u001b[K\n",
      "\u001b[01;35m\u001b[KWarning:\u001b[m\u001b[K Extension: Unary operator following arithmetic operator (use parentheses) at \u001b[01;35m\u001b[K(1)\u001b[m\u001b[K\n",
      "\u001b[01m\u001b[Krrtmgp_sw_eval_nn_rfmip.F90:577:47:\u001b[m\u001b[K\n",
      "\n",
      "  577 |   val = -mean(diff(rsu_lbl,1,iref,iexp)) -   -mean(diff(rsu_new,1,iref,iexp))\n",
      "      |                                               \u001b[01;35m\u001b[K1\u001b[m\u001b[K\n",
      "\u001b[01;35m\u001b[KWarning:\u001b[m\u001b[K Extension: Unary operator following arithmetic operator (use parentheses) at \u001b[01;35m\u001b[K(1)\u001b[m\u001b[K\n",
      "\u001b[01m\u001b[Krrtmgp_sw_eval_nn_rfmip.F90:603:49:\u001b[m\u001b[K\n",
      "\n",
      "  603 |   val =   -mean(diff(rsu_lbl,1,iref,iexp)) -   -mean(diff(rsu_new,1,iref,iexp))\n",
      "      |                                                 \u001b[01;35m\u001b[K1\u001b[m\u001b[K\n",
      "\u001b[01;35m\u001b[KWarning:\u001b[m\u001b[K Extension: Unary operator following arithmetic operator (use parentheses) at \u001b[01;35m\u001b[K(1)\u001b[m\u001b[K\n",
      "\u001b[01m\u001b[Krrtmgp_sw_eval_nn_rfmip.F90:611:49:\u001b[m\u001b[K\n",
      "\n",
      "  611 |   val =   -mean(diff(rsu_lbl,1,iref,iexp)) -   -mean(diff(rsu_new,1,iref,iexp))\n",
      "      |                                                 \u001b[01;35m\u001b[K1\u001b[m\u001b[K\n",
      "\u001b[01;35m\u001b[KWarning:\u001b[m\u001b[K Extension: Unary operator following arithmetic operator (use parentheses) at \u001b[01;35m\u001b[K(1)\u001b[m\u001b[K\n",
      "\u001b[01m\u001b[Krrtmgp_sw_eval_nn_rfmip.F90:620:47:\u001b[m\u001b[K\n",
      "\n",
      "  620 |   val = -mean(diff(rsu_lbl,1,iref,iexp)) -   -mean(diff(rsu_new,1,iref,iexp))\n",
      "      |                                               \u001b[01;35m\u001b[K1\u001b[m\u001b[K\n",
      "\u001b[01;35m\u001b[KWarning:\u001b[m\u001b[K Extension: Unary operator following arithmetic operator (use parentheses) at \u001b[01;35m\u001b[K(1)\u001b[m\u001b[K\n",
      "gfortran -ffree-line-length-none -m64 -march=native -O3 -lcurl -DNC_NETCDF4 -o rrtmgp_sw_eval_nn_rfmip rrtmgp_sw_eval_nn_rfmip.o mo_simple_netcdf.o easy_netcdf.o mo_io_rfmipstyle_generic.o mo_load_coefficients.o ../..//build/librte.a ../..//build/librrtmgp.a ../..//build/libneural.a -L../..//build -L/usr/lib -L/usr/lib -lrrtmgp -lrte -lneural -lnetcdff -lnetcdf -lopenblas  -fopenmp\n",
      "gfortran -ffree-line-length-none -m64 -march=native -O3 -lcurl -DNC_NETCDF4 -I../..//build -I/usr/include -c rrtmgp_lw_eval_nn_rfmip.F90 -fopenmp\n",
      "\u001b[01m\u001b[Krrtmgp_lw_eval_nn_rfmip.F90:527:47:\u001b[m\u001b[K\n",
      "\n",
      "  527 |   val = -mean(diff(rlu_lbl,1,iref,iexp)) -   -mean(diff(rlu_new,1,iref,iexp))\n",
      "      |                                               \u001b[01;35m\u001b[K1\u001b[m\u001b[K\n",
      "\u001b[01;35m\u001b[KWarning:\u001b[m\u001b[K Extension: Unary operator following arithmetic operator (use parentheses) at \u001b[01;35m\u001b[K(1)\u001b[m\u001b[K\n",
      "\u001b[01m\u001b[Krrtmgp_lw_eval_nn_rfmip.F90:535:47:\u001b[m\u001b[K\n",
      "\n",
      "  535 |   val = -mean(diff(rlu_lbl,1,iref,iexp)) -   -mean(diff(rlu_new,1,iref,iexp))\n",
      "      |                                               \u001b[01;35m\u001b[K1\u001b[m\u001b[K\n",
      "\u001b[01;35m\u001b[KWarning:\u001b[m\u001b[K Extension: Unary operator following arithmetic operator (use parentheses) at \u001b[01;35m\u001b[K(1)\u001b[m\u001b[K\n",
      "\u001b[01m\u001b[Krrtmgp_lw_eval_nn_rfmip.F90:551:47:\u001b[m\u001b[K\n",
      "\n",
      "  551 |   val = -mean(diff(rlu_lbl,1,iref,iexp)) -   -mean(diff(rlu_new,1,iref,iexp))\n",
      "      |                                               \u001b[01;35m\u001b[K1\u001b[m\u001b[K\n",
      "\u001b[01;35m\u001b[KWarning:\u001b[m\u001b[K Extension: Unary operator following arithmetic operator (use parentheses) at \u001b[01;35m\u001b[K(1)\u001b[m\u001b[K\n",
      "\u001b[01m\u001b[Krrtmgp_lw_eval_nn_rfmip.F90:559:49:\u001b[m\u001b[K\n",
      "\n",
      "  559 |   val =   -mean(diff(rlu_lbl,1,iref,iexp)) -   -mean(diff(rlu_new,1,iref,iexp))\n",
      "      |                                                 \u001b[01;35m\u001b[K1\u001b[m\u001b[K\n",
      "\u001b[01;35m\u001b[KWarning:\u001b[m\u001b[K Extension: Unary operator following arithmetic operator (use parentheses) at \u001b[01;35m\u001b[K(1)\u001b[m\u001b[K\n",
      "\u001b[01m\u001b[Krrtmgp_lw_eval_nn_rfmip.F90:569:49:\u001b[m\u001b[K\n",
      "\n",
      "  569 |   val =   -mean(diff(rlu_lbl,1,iref,iexp)) -   -mean(diff(rlu_new,1,iref,iexp))\n",
      "      |                                                 \u001b[01;35m\u001b[K1\u001b[m\u001b[K\n",
      "\u001b[01;35m\u001b[KWarning:\u001b[m\u001b[K Extension: Unary operator following arithmetic operator (use parentheses) at \u001b[01;35m\u001b[K(1)\u001b[m\u001b[K\n",
      "\u001b[01m\u001b[Krrtmgp_lw_eval_nn_rfmip.F90:578:47:\u001b[m\u001b[K\n",
      "\n",
      "  578 |   val = -mean(diff(rlu_lbl,1,iref,iexp)) -   -mean(diff(rlu_new,1,iref,iexp))\n",
      "      |                                               \u001b[01;35m\u001b[K1\u001b[m\u001b[K\n",
      "\u001b[01;35m\u001b[KWarning:\u001b[m\u001b[K Extension: Unary operator following arithmetic operator (use parentheses) at \u001b[01;35m\u001b[K(1)\u001b[m\u001b[K\n",
      "gfortran -ffree-line-length-none -m64 -march=native -O3 -lcurl -DNC_NETCDF4 -o rrtmgp_lw_eval_nn_rfmip rrtmgp_lw_eval_nn_rfmip.o mo_simple_netcdf.o easy_netcdf.o mo_io_rfmipstyle_generic.o mo_load_coefficients.o ../..//build/librte.a ../..//build/librrtmgp.a ../..//build/libneural.a -L../..//build -L/usr/lib -L/usr/lib -lrrtmgp -lrte -lneural -lnetcdff -lnetcdf -lopenblas  -fopenmp\n"
     ]
    }
   ],
   "source": [
    "! make"
   ]
  },
  {
   "cell_type": "markdown",
   "id": "189f35a0-5726-442b-9c48-9394e64c11bf",
   "metadata": {},
   "source": [
    "Usage:\n",
    "\n",
    "```bash\n",
    "$ ./rrtmgp_lw_gendata_rfmipstyle \\\n",
    "        [block_size] \\\n",
    "        [rfmip input file] \\\n",
    "        [k-distribution file] \\\n",
    "        [file to save NN inputs/output]\n",
    "```"
   ]
  },
  {
   "cell_type": "markdown",
   "id": "9a7a7e69-423d-45c2-8942-35da6cda1404",
   "metadata": {},
   "source": [
    "- Once built, the next step is to generate the training data.\n",
    "- The block size is the number of columns to be computed at a time, and must be an integer such that the remainder of dividing ncol*nexp by block_size is zero (block_size = 3 worked in all cases)."
   ]
  },
  {
   "cell_type": "code",
   "execution_count": 5,
   "id": "fdd61611-29e5-40c5-bf3a-75333628d272",
   "metadata": {},
   "outputs": [
    {
     "name": "stdout",
     "output_type": "stream",
     "text": [
      "env: BLOCK_SIZE=3\n"
     ]
    }
   ],
   "source": [
    "%env BLOCK_SIZE = 3"
   ]
  },
  {
   "cell_type": "markdown",
   "id": "03b51d32-1d9d-478e-b6ee-b468c93680d9",
   "metadata": {},
   "source": [
    "## Training data generation\n",
    "\n",
    "Using Fortran executables\n",
    "\n",
    "/home/x/git/pd1b24/ukk23/ukk23test01/examples/rrtmgp-nn-training"
   ]
  },
  {
   "cell_type": "code",
   "execution_count": 7,
   "id": "dcf930c3-d1cc-485a-8a43-e14bfe0bae40",
   "metadata": {
    "scrolled": true
   },
   "outputs": [
    {
     "name": "stdout",
     "output_type": "stream",
     "text": [
      " Usage: rrtmgp_rfmip_lw [block_size] [rfmip_file] [k-distribution_file] input_output file]\n",
      " input fileinputs_to_RRTMGP/inputs_Garand_BIG.nc                                                                                               \n",
      " ncol:          42 nexp:         322 nlay:          42\n",
      " Doing         4508 blocks of size            3\n",
      " Calculation uses gases: water_vapor ozone carbon_dioxide methane nitrous_oxide oxygen nitrogen cfc11 cfc12 carbon_monoxide carbon_tetrachloride hcfc22 hfc143a hfc125 hfc23 hfc32 hfc134a cf4 \n",
      " min of play   19.2751713     k_dist%get_press_min()   1.00518358    \n",
      " -------------------------------------------------------------------------\n",
      " starting clear-sky longwave computations\n",
      " Finished with computations!\n",
      " mean of flux_down is:   84.6862488    \n",
      " mean of flux_up is:   277.106110    \n",
      " -------------------------------------------------------------------------\n",
      " Attempting to save RRTMGP input/output to data/ml_training_lw_g128_Garand_BIG.nc                                                                                              \n",
      "*** create_netcdf_file: data/ml_training_lw_g128_Garand_BIG.nc - File already exists, stopping program to be safe (please remove existing file)\n"
     ]
    },
    {
     "name": "stderr",
     "output_type": "stream",
     "text": [
      "Note: The following floating-point exceptions are signalling: IEEE_UNDERFLOW_FLAG IEEE_DENORMAL\n"
     ]
    }
   ],
   "source": [
    "%%bash\n",
    "./rrtmgp_lw_gendata_rfmipstyle \\\n",
    "    $BLOCK_SIZE \\\n",
    "    inputs_to_RRTMGP/inputs_Garand_BIG.nc \\\n",
    "    ../../rrtmgp/data/rrtmgp-data-lw-g128-210809.nc \\\n",
    "    data/ml_training_lw_g128_Garand_BIG.nc"
   ]
  },
  {
   "cell_type": "code",
   "execution_count": 8,
   "id": "c6d6978b-7510-421d-b57d-ff304bff89b1",
   "metadata": {
    "scrolled": true
   },
   "outputs": [
    {
     "name": "stdout",
     "output_type": "stream",
     "text": [
      " Usage: rrtmgp_rfmip_lw [block_size] [rfmip_file] [k-distribution_file] input_output file]\n",
      " input fileinputs_to_RRTMGP/inputs_AMON_ssp245_ssp585_2054_2100.nc                                                                             \n",
      " ncol:         420 nexp:         200 nlay:          19\n",
      " Doing        28000 blocks of size            3\n",
      " Calculation uses gases: water_vapor ozone carbon_dioxide methane nitrous_oxide oxygen nitrogen cfc11 cfc12 carbon_monoxide carbon_tetrachloride hcfc22 hfc143a hfc125 hfc23 hfc32 hfc134a cf4 \n",
      " min of play   100.000000     k_dist%get_press_min()   1.00518358    \n",
      " -------------------------------------------------------------------------\n",
      " starting clear-sky longwave computations\n",
      " Finished with computations!\n",
      " mean of flux_down is:   83.7984009    \n",
      " mean of flux_up is:   279.662506    \n",
      " -------------------------------------------------------------------------\n",
      " Attempting to save RRTMGP input/output to data/ml_training_lw_g128_AMON_ssp245_ssp585_2054_2100.nc                                                                            \n",
      "*** create_netcdf_file: data/ml_training_lw_g128_AMON_ssp245_ssp585_2054_2100.nc - File already exists, stopping program to be safe (please remove existing file)\n"
     ]
    },
    {
     "name": "stderr",
     "output_type": "stream",
     "text": [
      "Note: The following floating-point exceptions are signalling: IEEE_UNDERFLOW_FLAG IEEE_DENORMAL\n"
     ]
    }
   ],
   "source": [
    "%%bash\n",
    "./rrtmgp_lw_gendata_rfmipstyle \\\n",
    "    $BLOCK_SIZE \\\n",
    "    inputs_to_RRTMGP/inputs_AMON_ssp245_ssp585_2054_2100.nc \\\n",
    "    ../../rrtmgp/data/rrtmgp-data-lw-g128-210809.nc \\\n",
    "    data/ml_training_lw_g128_AMON_ssp245_ssp585_2054_2100.nc"
   ]
  },
  {
   "cell_type": "code",
   "execution_count": 9,
   "id": "f60b4f93-65f8-4ea8-898d-5d393e7282e8",
   "metadata": {
    "scrolled": true
   },
   "outputs": [
    {
     "name": "stdout",
     "output_type": "stream",
     "text": [
      " Usage: rrtmgp_rfmip_lw [block_size] [rfmip_file] [k-distribution_file] input_output file]\n",
      " input fileinputs_to_RRTMGP/inputs_CAMS_new_CKDMIPstyle.nc                                                                                     \n",
      " ncol:        1000 nexp:          42 nlay:          60\n",
      " Doing        14000 blocks of size            3\n",
      " Calculation uses gases: water_vapor ozone carbon_dioxide methane nitrous_oxide oxygen nitrogen cfc11 cfc12 carbon_monoxide carbon_tetrachloride hcfc22 hfc143a hfc125 hfc23 hfc32 hfc134a cf4 \n",
      " min of play   10.0000000     k_dist%get_press_min()   1.00518358    \n",
      " -------------------------------------------------------------------------\n",
      " starting clear-sky longwave computations\n",
      " Finished with computations!\n",
      " mean of flux_down is:   94.9205475    \n",
      " mean of flux_up is:   257.382263    \n",
      " -------------------------------------------------------------------------\n",
      " Attempting to save RRTMGP input/output to data/ml_training_lw_g128_CAMS_new_CKDMIPstyle.nc                                                                                    \n",
      "*** create_netcdf_file: data/ml_training_lw_g128_CAMS_new_CKDMIPstyle.nc - File already exists, stopping program to be safe (please remove existing file)\n"
     ]
    },
    {
     "name": "stderr",
     "output_type": "stream",
     "text": [
      "Note: The following floating-point exceptions are signalling: IEEE_UNDERFLOW_FLAG IEEE_DENORMAL\n"
     ]
    }
   ],
   "source": [
    "%%bash\n",
    "./rrtmgp_lw_gendata_rfmipstyle \\\n",
    "    $BLOCK_SIZE \\\n",
    "    inputs_to_RRTMGP/inputs_CAMS_new_CKDMIPstyle.nc \\\n",
    "    ../../rrtmgp/data/rrtmgp-data-lw-g128-210809.nc \\\n",
    "    data/ml_training_lw_g128_CAMS_new_CKDMIPstyle.nc"
   ]
  },
  {
   "cell_type": "code",
   "execution_count": 10,
   "id": "bcd96a42-7dcb-44a1-a656-02cca5974e47",
   "metadata": {
    "scrolled": true
   },
   "outputs": [
    {
     "name": "stdout",
     "output_type": "stream",
     "text": [
      " Usage: rrtmgp_rfmip_lw [block_size] [rfmip_file] [k-distribution_file] input_output file]\n",
      " input fileinputs_to_RRTMGP/inputs_CKDMIP-MM-Big.nc                                                                                            \n",
      " ncol:         243 nexp:          58 nlay:          52\n",
      " Doing         4698 blocks of size            3\n",
      " Calculation uses gases: water_vapor ozone carbon_dioxide methane nitrous_oxide oxygen nitrogen cfc11 cfc12 carbon_monoxide carbon_tetrachloride hcfc22 hfc143a hfc125 hfc23 hfc32 hfc134a cf4 \n",
      " min of play  0.504999995     k_dist%get_press_min()   1.00518358    \n",
      " -------------------------------------------------------------------------\n",
      " starting clear-sky longwave computations\n",
      " Finished with computations!\n",
      " mean of flux_down is:   39.1128159    \n",
      " mean of flux_up is:   281.537994    \n",
      " -------------------------------------------------------------------------\n",
      " Attempting to save RRTMGP input/output to data/ml_training_lw_g128_CKDMIP-MMM-Big.nc                                                                                          \n",
      "*** create_netcdf_file: data/ml_training_lw_g128_CKDMIP-MMM-Big.nc - File already exists, stopping program to be safe (please remove existing file)\n"
     ]
    },
    {
     "name": "stderr",
     "output_type": "stream",
     "text": [
      "Note: The following floating-point exceptions are signalling: IEEE_UNDERFLOW_FLAG IEEE_DENORMAL\n"
     ]
    }
   ],
   "source": [
    "%%bash\n",
    "./rrtmgp_lw_gendata_rfmipstyle \\\n",
    "    $BLOCK_SIZE \\\n",
    "    inputs_to_RRTMGP/inputs_CKDMIP-MM-Big.nc \\\n",
    "    ../../rrtmgp/data/rrtmgp-data-lw-g128-210809.nc \\\n",
    "    data/ml_training_lw_g128_CKDMIP-MMM-Big.nc"
   ]
  },
  {
   "cell_type": "markdown",
   "id": "efd9f0f1-286a-4121-9b0f-411de89e58b3",
   "metadata": {},
   "source": [
    "These generated files will be used for training the NN:\n",
    "\n",
    "- ml_training_lw_g128_Garand_BIG.nc\n",
    "- ml_training_lw_g128_AMON_ssp245_ssp585_2054_2100.nc\n",
    "- ml_training_lw_g128_CAMS_new_CKDMIPstyle.nc\n",
    "- ml_training_lw_g128_CKDMIP-MMM-Big.nc"
   ]
  },
  {
   "cell_type": "markdown",
   "id": "6d064d9f-1163-446f-bfab-554578ff4895",
   "metadata": {},
   "source": [
    "## NN training using TensorFlow\n",
    "\n",
    "Based on: <https://github.com/peterukk/rte-rrtmgp-nn/blob/main/examples/rrtmgp-nn-training/ml_train.py>"
   ]
  },
  {
   "cell_type": "code",
   "execution_count": 6,
   "id": "a2748217-a943-4f8b-929e-e822d51e9406",
   "metadata": {
    "scrolled": true
   },
   "outputs": [
    {
     "name": "stdout",
     "output_type": "stream",
     "text": [
      "/home/x/git/pd1b24/ukk23/ukk23test01/examples/rrtmgp-nn-training\n"
     ]
    }
   ],
   "source": [
    "%cd /home/x/git/pd1b24/ukk23/ukk23test01/examples/rrtmgp-nn-training/"
   ]
  },
  {
   "cell_type": "code",
   "execution_count": 7,
   "id": "8984bd9e-c028-4cd9-be92-827d093f0bc5",
   "metadata": {},
   "outputs": [
    {
     "name": "stdout",
     "output_type": "stream",
     "text": [
      "# conda environments:\n",
      "#\n",
      "base                     /home/x/conda\n",
      "tf2                   *  /home/x/conda/envs/tf2\n",
      "\n"
     ]
    }
   ],
   "source": [
    "! conda env list"
   ]
  },
  {
   "cell_type": "code",
   "execution_count": 8,
   "id": "fa113cf1-e556-469a-ad92-fcbc17ae9daf",
   "metadata": {},
   "outputs": [],
   "source": [
    "import os\n",
    "import sys\n",
    "from sys import getsizeof as sizeof\n",
    "import numpy as np\n",
    "import tensorflow as tf\n",
    "from tensorflow.keras import losses, optimizers\n",
    "from tensorflow.keras.utils import Sequence"
   ]
  },
  {
   "cell_type": "markdown",
   "id": "fc7f1fab-0933-4f25-954d-000b254fdb75",
   "metadata": {},
   "source": [
    "Check GPU availability:"
   ]
  },
  {
   "cell_type": "code",
   "execution_count": 9,
   "id": "871db00b-e405-42b9-a666-f5383ab938d1",
   "metadata": {},
   "outputs": [
    {
     "name": "stdout",
     "output_type": "stream",
     "text": [
      "[PhysicalDevice(name='/physical_device:GPU:0', device_type='GPU')]\n"
     ]
    }
   ],
   "source": [
    "print(tf.config.list_physical_devices(\"GPU\"))"
   ]
  },
  {
   "cell_type": "markdown",
   "id": "ee60a8c6-1d59-41be-86be-8f12cfe3203a",
   "metadata": {},
   "source": [
    "Load routines contained in code files in the working directory:"
   ]
  },
  {
   "cell_type": "code",
   "execution_count": 10,
   "id": "147feb06-e00d-444a-864a-883d3238a477",
   "metadata": {},
   "outputs": [],
   "source": [
    "from ml_load_save_preproc import (save_model_netcdf, load_rrtmgp,\n",
    "                                  scale_outputs_wrapper,\n",
    "                                  preproc_pow_standardization_reverse,\n",
    "                                  preproc_tau_to_crossection,\n",
    "                                  preproc_minmax_inputs_rrtmgp)"
   ]
  },
  {
   "cell_type": "code",
   "execution_count": 11,
   "id": "d5ba5329-09e8-4f19-b9bf-a850a2c56402",
   "metadata": {},
   "outputs": [],
   "source": [
    "from ml_scaling_coefficients import xcoeffs_all, input_names_all"
   ]
  },
  {
   "cell_type": "code",
   "execution_count": 12,
   "id": "1ad673d7-b02e-4237-80db-c0952c081f00",
   "metadata": {},
   "outputs": [],
   "source": [
    "from ml_trainfuncs_keras import (create_model_mlp, expdiff, hybrid_loss_wrapper)"
   ]
  },
  {
   "cell_type": "markdown",
   "id": "93a00505-88c1-467c-84f2-2cb36a4537e8",
   "metadata": {},
   "source": [
    "## Configure predictand, NN complexity, etc"
   ]
  },
  {
   "cell_type": "code",
   "execution_count": 13,
   "id": "5004c372-7a79-4ae9-9b7d-dabe0bc7b24f",
   "metadata": {},
   "outputs": [],
   "source": [
    "predictand = \"lw_both\""
   ]
  },
  {
   "cell_type": "code",
   "execution_count": 14,
   "id": "a6726cf6-7566-48b6-a48b-4b8958ffb8eb",
   "metadata": {},
   "outputs": [],
   "source": [
    "scaling_method = \"Ukkonen2020\"  # only option currently"
   ]
  },
  {
   "cell_type": "markdown",
   "id": "1bcd2e09-2f91-406d-9a84-55a78374bf5b",
   "metadata": {},
   "source": [
    "For `use_existing_input_scaling_coefficients` True is generally a safe choice, min max coefficients have been computed using a large dataset spanning both LGM (Last Glacial Maximum) and high future emissions scenarios. However, check that your scaled inputs fall somewhere in the 0-1 range. Negative values in particular might cause problems:"
   ]
  },
  {
   "cell_type": "code",
   "execution_count": 15,
   "id": "76e3cafe-24c6-453a-8383-1516ceb99ac1",
   "metadata": {},
   "outputs": [],
   "source": [
    "use_existing_input_scaling_coefficients = True"
   ]
  },
  {
   "cell_type": "markdown",
   "id": "e9f9bd90-7724-4c38-8877-7b66b97c11ad",
   "metadata": {},
   "source": [
    "## Loss function, metrics"
   ]
  },
  {
   "cell_type": "code",
   "execution_count": 16,
   "id": "035260ff-4a00-4883-8467-7f40cf832d48",
   "metadata": {},
   "outputs": [],
   "source": [
    "patience = 70\n",
    "epochs = 200    # without early_stop_on_rfmip_fluxes"
   ]
  },
  {
   "cell_type": "code",
   "execution_count": 17,
   "id": "dd9e1e2d-f689-4131-bc2a-9c8dfb0000f7",
   "metadata": {},
   "outputs": [],
   "source": [
    "lossfunc = losses.MeanSquaredError\n",
    "mymetrics = [\"mean_absolute_error\"]\n",
    "expfirst = False"
   ]
  },
  {
   "cell_type": "markdown",
   "id": "7f934a9a-dae0-424b-beee-6e8f566ee156",
   "metadata": {},
   "source": [
    "## Batch size and learning rate"
   ]
  },
  {
   "cell_type": "code",
   "execution_count": 128,
   "id": "cac4ed6c-f2fe-44fb-8c24-e69f624b1fba",
   "metadata": {},
   "outputs": [],
   "source": [
    "lr = 0.001\n",
    "batch_size = 2048"
   ]
  },
  {
   "cell_type": "markdown",
   "id": "c4cba823-a25c-41e3-a8de-44dbeef1627e",
   "metadata": {},
   "source": [
    "## NN Hyperparameters"
   ]
  },
  {
   "cell_type": "markdown",
   "id": "268d0766-9834-45f0-91a1-d7c59ffff63b",
   "metadata": {},
   "source": [
    "Number of neurons in each hidden layer:"
   ]
  },
  {
   "cell_type": "code",
   "execution_count": 80,
   "id": "29c2738b-dd68-4960-aac6-45ad3f49b067",
   "metadata": {},
   "outputs": [],
   "source": [
    "neurons = [72, 72]"
   ]
  },
  {
   "cell_type": "markdown",
   "id": "84d971ce-d371-4dca-9f93-17b30a631d23",
   "metadata": {},
   "source": [
    "Activation functions used after each layer: first the input layer, and then the hidden layers:"
   ]
  },
  {
   "cell_type": "code",
   "execution_count": 81,
   "id": "0e382ac8-751a-4046-8e40-c05308688f4d",
   "metadata": {},
   "outputs": [],
   "source": [
    "activ = [\"softsign\", \"softsign\", \"linear\"]"
   ]
  },
  {
   "cell_type": "code",
   "execution_count": 82,
   "id": "74ed57aa-cb2a-432a-8f6a-98fc083edcb6",
   "metadata": {},
   "outputs": [],
   "source": [
    "if np.size(activ) != np.size(neurons) + 1:\n",
    "    print(\"Number of activations must be number of hidden layers + 1!\")"
   ]
  },
  {
   "cell_type": "markdown",
   "id": "b3d5a5fd-1669-4113-b61d-0bf41ab888c1",
   "metadata": {},
   "source": [
    "Weight initializer: the default is probably an OK choice  (glorot):"
   ]
  },
  {
   "cell_type": "code",
   "execution_count": 83,
   "id": "023c7f05-81a9-4ba5-9d61-4c211b87ac37",
   "metadata": {},
   "outputs": [],
   "source": [
    "initializer = \"glorot_uniform\""
   ]
  },
  {
   "cell_type": "markdown",
   "id": "5f9ce323-0c2d-4847-bab0-3f931adbcdba",
   "metadata": {},
   "source": [
    "## Routine for concatenating existing datasets containing raw inputs and outputs"
   ]
  },
  {
   "cell_type": "code",
   "execution_count": 84,
   "id": "f1a52f67-dbd6-4447-8877-1fac25b3e28f",
   "metadata": {},
   "outputs": [],
   "source": [
    "def add_dataset(fpath, predictand, expfirst, x, y, col_dry, input_names, kdist,\n",
    "                data_str):\n",
    "    x_new, y_new, col_dry_new, input_names_new, kdist_new = load_rrtmgp(\n",
    "        fpath, predictand, expfirst=expfirst)\n",
    "    if not (kdist == kdist_new):\n",
    "        print(\"Kdist does not match previous dataset!\")\n",
    "        return None\n",
    "    if not (input_names == input_names_new):\n",
    "        print(\"Input_names does not match previous dataset!\")\n",
    "        return None\n",
    "    ns = x.shape[0]\n",
    "    x = np.concatenate((x, x_new), axis=0)\n",
    "    y = np.concatenate((y, y_new), axis=0)\n",
    "    col_dry = np.concatenate((col_dry, col_dry_new), axis=0)\n",
    "    print(\"{:.2e} samples previously, {:.2e} after adding data from: {}\".format(\n",
    "        ns, x.shape[0],\n",
    "        fpath.split(\"/\")[-1]))\n",
    "    data_str = data_str + \" , \" + fpath.split(\"/\")[-1]\n",
    "    return x, y, col_dry, data_str"
   ]
  },
  {
   "cell_type": "markdown",
   "id": "572d997d-6ffa-412f-a34b-93e45a306414",
   "metadata": {},
   "source": [
    "## Provide data containing inputs and outputs"
   ]
  },
  {
   "cell_type": "markdown",
   "id": "d7418f9f-9e27-46c2-8365-3ade1ef39c06",
   "metadata": {},
   "source": [
    "- Profiles used:\n",
    "    - Expanded Garand\n",
    "    - GCM data (AMON_...)\n",
    "    - CAMS data\n",
    "    - Extended CKDMIP-Average-Maximum-Minimum profiles\n",
    "- RFMIP ised used for validation."
   ]
  },
  {
   "cell_type": "markdown",
   "id": "a04f5a86-29c6-4af6-aa29-ac2d4cfdc737",
   "metadata": {},
   "source": [
    "The full dataset consumes a lot of RAM and VRAM"
   ]
  },
  {
   "cell_type": "code",
   "execution_count": 85,
   "id": "72827141-0cd2-4fa6-acd9-949a5ccacc0d",
   "metadata": {},
   "outputs": [],
   "source": [
    "datadir = \"/home/x/data/7413952-ukk23-code-data/examples/rrtmgp-nn-training/data/\"\n",
    "fpath = datadir + \"ml_training_lw_g128_Garand_BIG.nc\"  # 0.6 GB\n",
    "fpath2 = datadir + \"ml_training_lw_g128_AMON_ssp245_ssp585_2054_2100.nc\"  # 1.7 GB\n",
    "fpath3 = datadir + \"ml_training_lw_g128_CAMS_new_CKDMIPstyle.nc\"  # 2.6 GB\n",
    "fpath4 = datadir + \"ml_training_lw_g128_CKDMIP-MMM-Big.nc\"  # 0.8 GB"
   ]
  },
  {
   "cell_type": "markdown",
   "id": "e90cbea4-c910-4a53-a6fb-8cfca8e8d3b8",
   "metadata": {},
   "source": [
    "Training using the full dataset requires a lot of RAM/VRAM:"
   ]
  },
  {
   "cell_type": "code",
   "execution_count": 86,
   "id": "77de03ef-dc8d-40d5-af2f-e3043ce7d1bc",
   "metadata": {},
   "outputs": [],
   "source": [
    "fpaths = [fpath, fpath2, fpath3, fpath4]"
   ]
  },
  {
   "cell_type": "markdown",
   "id": "8a9a4d73-cd66-4045-a104-44e4a07e4e18",
   "metadata": {},
   "source": [
    "## Load data "
   ]
  },
  {
   "cell_type": "markdown",
   "id": "12f64d95-a6e3-408f-807d-a52102275125",
   "metadata": {},
   "source": [
    "Load training data"
   ]
  },
  {
   "cell_type": "code",
   "execution_count": 87,
   "id": "466c44e9-5092-4b9f-ae4a-f7c0d3c118ac",
   "metadata": {},
   "outputs": [
    {
     "name": "stdout",
     "output_type": "stream",
     "text": [
      "input_names found in file\n",
      "there are 13524 profiles in this dataset (322 experiments, 42 columns)\n"
     ]
    }
   ],
   "source": [
    "x_tr_raw, y_tr_raw, col_dry_tr, input_names, kdist = load_rrtmgp(\n",
    "    fpaths[0], predictand, expfirst=expfirst)"
   ]
  },
  {
   "cell_type": "code",
   "execution_count": 88,
   "id": "38134e14-e192-4bcd-a2ee-149df27da73f",
   "metadata": {},
   "outputs": [],
   "source": [
    "data_str = fpath.split(\"/\")[-1]"
   ]
  },
  {
   "cell_type": "markdown",
   "id": "779afc8b-b83b-457c-b903-6ff8d339c7c0",
   "metadata": {},
   "source": [
    "The full training dataset is split into multiple files:"
   ]
  },
  {
   "cell_type": "code",
   "execution_count": 89,
   "id": "46d5ca99-74e3-4e75-a30c-994d542130fa",
   "metadata": {
    "jp-MarkdownHeadingCollapsed": true
   },
   "outputs": [
    {
     "name": "stdout",
     "output_type": "stream",
     "text": [
      "input_names found in file\n",
      "there are 84000 profiles in this dataset (200 experiments, 420 columns)\n",
      "5.68e+05 samples previously, 2.16e+06 after adding data from: ml_training_lw_g128_AMON_ssp245_ssp585_2054_2100.nc\n",
      "input_names found in file\n",
      "there are 42000 profiles in this dataset (42 experiments, 1000 columns)\n",
      "2.16e+06 samples previously, 4.68e+06 after adding data from: ml_training_lw_g128_CAMS_new_CKDMIPstyle.nc\n",
      "input_names found in file\n",
      "there are 14094 profiles in this dataset (58 experiments, 243 columns)\n",
      "4.68e+06 samples previously, 5.42e+06 after adding data from: ml_training_lw_g128_CKDMIP-MMM-Big.nc\n",
      "CPU times: user 3.58 s, sys: 5.44 s, total: 9.02 s\n",
      "Wall time: 9.04 s\n"
     ]
    }
   ],
   "source": [
    "%%time\n",
    "# We can have different datasets that we merge\n",
    "for fpath in fpaths[1:]:\n",
    "    x_tr_raw, y_tr_raw, col_dry_tr, data_str = add_dataset(\n",
    "        fpath,\n",
    "        predictand,\n",
    "        expfirst,\n",
    "        x_tr_raw,\n",
    "        y_tr_raw,\n",
    "        col_dry_tr,\n",
    "        input_names,\n",
    "        kdist,\n",
    "        data_str,\n",
    "    )"
   ]
  },
  {
   "cell_type": "code",
   "execution_count": 90,
   "id": "a770f366-6be2-4bd9-8e63-8ec3c9d9bedb",
   "metadata": {},
   "outputs": [],
   "source": [
    "nx = x_tr_raw.shape[1]  # temperature + pressure + gases\n",
    "ny = y_tr_raw.shape[1]  # number of g-points"
   ]
  },
  {
   "cell_type": "code",
   "execution_count": 91,
   "id": "dadbe734-3848-47b5-9c00-0063e56e7040",
   "metadata": {},
   "outputs": [],
   "source": [
    "shuffle = True"
   ]
  },
  {
   "cell_type": "markdown",
   "id": "b30b1057-1e50-4cd9-9397-f2075707e849",
   "metadata": {},
   "source": [
    "It can be a cell that consumes a lot of time and memory, depending on the dataset:"
   ]
  },
  {
   "cell_type": "markdown",
   "id": "0ead75e2-1651-4ace-8a05-49cf64791187",
   "metadata": {},
   "source": [
    "## Input and output scaling"
   ]
  },
  {
   "cell_type": "code",
   "execution_count": 92,
   "id": "e2efafe3-f7b3-4ff7-95f6-a0ab8ede0142",
   "metadata": {},
   "outputs": [
    {
     "name": "stdout",
     "output_type": "stream",
     "text": [
      "CPU times: user 2min 4s, sys: 14.1 s, total: 2min 18s\n",
      "Wall time: 1min 11s\n"
     ]
    }
   ],
   "source": [
    "%%time\n",
    "if scaling_method != \"Ukkonen2020\":\n",
    "    print(\"Only one type of pre-processing currently supported!\")\n",
    "else:\n",
    "    # Input scaling - min-max\n",
    "    if use_existing_input_scaling_coefficients:\n",
    "        if xcoeffs_all == None:\n",
    "            sys.exit(\"Input scaling coefficients (xcoeffs) missing!\")\n",
    "        (xmin_all, xmax_all) = xcoeffs_all\n",
    "        # input_names loaded from file, describes inputs in order of x_tr_raw\n",
    "        # input_names_all corresponds to xmin_all and xmax_all\n",
    "        # Order of inputs may be different than in the existing coefficients,\n",
    "        # account for that by indexing\n",
    "        a = np.array(input_names_all)\n",
    "        b = np.array(input_names)\n",
    "        indices = np.where(b[:, None] == a[None, :])[1]\n",
    "        xmin = xmin_all[indices]\n",
    "        xmax = xmax_all[indices]\n",
    "        x_tr = preproc_minmax_inputs_rrtmgp(x_tr_raw, (xmin, xmax))\n",
    "    else:\n",
    "        x_tr, xmin, xmax = preproc_minmax_inputs_rrtmgp(x_tr_raw)\n",
    "        # Output scaling\n",
    "        # first, do y = y / N if y is optical depth, to get cross-sections\n",
    "        # then, square root scaling y: y=y**(1/nfac); cheaper and weaker version of\n",
    "        # log scaling. nfac = 8 for cross-sections, 2 for Planck fraction\n",
    "        # After this, use standard-scaling (not for Planck fraction)\n",
    "\n",
    "    y_tr, ymean, ystd = scale_outputs_wrapper(y_tr_raw, col_dry_tr, predictand)"
   ]
  },
  {
   "cell_type": "markdown",
   "id": "723e1c98-0c6d-49b1-9914-059771e3e17d",
   "metadata": {},
   "source": [
    "## I/O\n",
    "\n",
    "RRTMGP-NN models are saved as NetCDF files which contain metadata describing how to obtain the physical outputs, as well as the training data"
   ]
  },
  {
   "cell_type": "code",
   "execution_count": 93,
   "id": "58e02e44-d16c-4c61-9f96-fa033653e17b",
   "metadata": {},
   "outputs": [],
   "source": [
    "x_scaling_str = (\n",
    "    \"To get the required NN inputs, do the following: \"\n",
    "    \"x(i) = log(x(i)) for i=pressure; \"\n",
    "    \"x(i) = x(i)**(1/4) for i=H2O and O3; \"\n",
    "    \"x(i) = (x(i) - xmin(i)) / (xmax(i) - xmin(i)) for all inputs\"\n",
    ")\n",
    "y_scaling_str = (\n",
    "    \"Model predicts scaled cross-sections. Given the raw NN output y,\"\n",
    "    \" do the following to obtain optical depth: \"\n",
    "    \"y(igpt,j) = ystd(igpt)*y(igpt,j) + ymean(igpt); y(igpt,j) \"\n",
    "    \"= y(igpt,j)**8; y(igpt,j) = y(igpt,j) * layer_dry_air_molecules(j)\"\n",
    ")"
   ]
  },
  {
   "cell_type": "code",
   "execution_count": 94,
   "id": "85432a67-06c0-4225-955a-ad19bebbebdf",
   "metadata": {},
   "outputs": [],
   "source": [
    "model_str = \"\""
   ]
  },
  {
   "cell_type": "markdown",
   "id": "6d3ec315-72f1-4b0a-8031-d80809489b83",
   "metadata": {},
   "source": [
    "Try to reduce memory consumption:"
   ]
  },
  {
   "cell_type": "code",
   "execution_count": null,
   "id": "0425a08a-15dc-4aab-a18f-3acf7c6f0e30",
   "metadata": {},
   "outputs": [],
   "source": [
    "import gc\n",
    "gc.collect()"
   ]
  },
  {
   "cell_type": "markdown",
   "id": "655fa5c5-dd83-487d-a78b-b1738095b086",
   "metadata": {},
   "source": [
    "## TensorFlow Training\n",
    "\n",
    "Create and compile model"
   ]
  },
  {
   "cell_type": "code",
   "execution_count": 130,
   "id": "b9b5332f-7b32-4154-828f-6e2897e9ea06",
   "metadata": {},
   "outputs": [],
   "source": [
    "devstr = \"/gpu:0\"\n",
    "os.environ[\"CUDA_VISIBLE_DEVICES\"] = \"0\"\n",
    "\n",
    "optim = optimizers.Adam(learning_rate=lr)\n",
    "\n",
    "model = create_model_mlp(nx=nx,\n",
    "                         ny=ny,\n",
    "                         neurons=neurons,\n",
    "                         activ=activ,\n",
    "                         kernel_init=initializer)\n",
    "\n",
    "model.compile(loss=lossfunc, optimizer=optim, metrics=mymetrics)"
   ]
  },
  {
   "cell_type": "code",
   "execution_count": 136,
   "id": "2342359e-2afe-4ce6-b83d-8ff97608e1cc",
   "metadata": {},
   "outputs": [
    {
     "name": "stdout",
     "output_type": "stream",
     "text": [
      "0.0 GB\n",
      "5.2 GB\n"
     ]
    }
   ],
   "source": [
    "print(f\"{sizeof(x_tr)/1024**3:.1f} GB\")\n",
    "print(f\"{sizeof(y_tr)/1024**3:.1f} GB\")"
   ]
  },
  {
   "cell_type": "code",
   "execution_count": 132,
   "id": "d8298f30-0c24-433b-aefe-ba3780fe1c1e",
   "metadata": {},
   "outputs": [],
   "source": [
    "class DataGenerator(Sequence):\n",
    "\n",
    "    def __init__(self, x_set, y_set, batch_size):\n",
    "        self.x, self.y = x_set, y_set\n",
    "        self.batch_size = batch_size\n",
    "\n",
    "    def __len__(self):\n",
    "        return int(np.ceil(len(self.x) / float(self.batch_size)))\n",
    "\n",
    "    def __getitem__(self, idx):\n",
    "        batch_x = self.x[idx * self.batch_size:(idx + 1) * self.batch_size]\n",
    "        batch_y = self.y[idx * self.batch_size:(idx + 1) * self.batch_size]\n",
    "        return batch_x, batch_y\n",
    "\n",
    "\n",
    "train_gen = DataGenerator(x_tr, y_tr, batch_size)"
   ]
  },
  {
   "cell_type": "markdown",
   "id": "ddd35f22-a38a-4886-865e-9324feb49157",
   "metadata": {},
   "source": [
    "Ref.: https://stackoverflow.com/questions/62916904/failed-copying-input-tensor-from-cpu-to-gpu-in-order-to-run-gatherve-dst-tensor"
   ]
  },
  {
   "cell_type": "markdown",
   "id": "46f09ef5-01cc-4d70-ac2f-b540ab4f0ce5",
   "metadata": {},
   "source": [
    "## NN training"
   ]
  },
  {
   "cell_type": "markdown",
   "id": "fe49a42d-4892-4c11-894e-737b371db17e",
   "metadata": {},
   "source": [
    "Time consuming part:"
   ]
  },
  {
   "cell_type": "code",
   "execution_count": 134,
   "id": "804f9b3a-6e4f-4c95-8c56-945048405733",
   "metadata": {
    "scrolled": true
   },
   "outputs": [
    {
     "name": "stdout",
     "output_type": "stream",
     "text": [
      "Epoch 1/200\n"
     ]
    },
    {
     "name": "stderr",
     "output_type": "stream",
     "text": [
      "/home/x/conda/envs/tf2/lib/python3.12/site-packages/keras/src/trainers/data_adapters/py_dataset_adapter.py:122: UserWarning: Your `PyDataset` class should call `super().__init__(**kwargs)` in its constructor. `**kwargs` can include `workers`, `use_multiprocessing`, `max_queue_size`. Do not pass these arguments to `fit()`, as they will be ignored.\n",
      "  self._warn_if_super_not_called()\n"
     ]
    },
    {
     "name": "stdout",
     "output_type": "stream",
     "text": [
      "\u001b[1m2645/2645\u001b[0m \u001b[32m━━━━━━━━━━━━━━━━━━━━\u001b[0m\u001b[37m\u001b[0m \u001b[1m16s\u001b[0m 5ms/step - loss: 0.1036 - mean_absolute_error: 0.1594\n",
      "Epoch 2/200\n",
      "\u001b[1m2645/2645\u001b[0m \u001b[32m━━━━━━━━━━━━━━━━━━━━\u001b[0m\u001b[37m\u001b[0m \u001b[1m11s\u001b[0m 4ms/step - loss: 0.0122 - mean_absolute_error: 0.0521\n",
      "Epoch 3/200\n",
      "\u001b[1m2645/2645\u001b[0m \u001b[32m━━━━━━━━━━━━━━━━━━━━\u001b[0m\u001b[37m\u001b[0m \u001b[1m11s\u001b[0m 4ms/step - loss: 0.0081 - mean_absolute_error: 0.0418\n",
      "Epoch 4/200\n",
      "\u001b[1m2645/2645\u001b[0m \u001b[32m━━━━━━━━━━━━━━━━━━━━\u001b[0m\u001b[37m\u001b[0m \u001b[1m11s\u001b[0m 4ms/step - loss: 0.0060 - mean_absolute_error: 0.0342\n",
      "Epoch 5/200\n",
      "\u001b[1m2645/2645\u001b[0m \u001b[32m━━━━━━━━━━━━━━━━━━━━\u001b[0m\u001b[37m\u001b[0m \u001b[1m11s\u001b[0m 4ms/step - loss: 0.0049 - mean_absolute_error: 0.0306\n",
      "Epoch 6/200\n",
      "\u001b[1m2645/2645\u001b[0m \u001b[32m━━━━━━━━━━━━━━━━━━━━\u001b[0m\u001b[37m\u001b[0m \u001b[1m11s\u001b[0m 4ms/step - loss: 0.0040 - mean_absolute_error: 0.0268\n",
      "Epoch 7/200\n",
      "\u001b[1m2645/2645\u001b[0m \u001b[32m━━━━━━━━━━━━━━━━━━━━\u001b[0m\u001b[37m\u001b[0m \u001b[1m11s\u001b[0m 4ms/step - loss: 0.0039 - mean_absolute_error: 0.0269\n",
      "Epoch 8/200\n",
      "\u001b[1m2645/2645\u001b[0m \u001b[32m━━━━━━━━━━━━━━━━━━━━\u001b[0m\u001b[37m\u001b[0m \u001b[1m11s\u001b[0m 4ms/step - loss: 0.0033 - mean_absolute_error: 0.0247\n",
      "Epoch 9/200\n",
      "\u001b[1m2645/2645\u001b[0m \u001b[32m━━━━━━━━━━━━━━━━━━━━\u001b[0m\u001b[37m\u001b[0m \u001b[1m11s\u001b[0m 4ms/step - loss: 0.0030 - mean_absolute_error: 0.0231\n",
      "Epoch 10/200\n",
      "\u001b[1m2645/2645\u001b[0m \u001b[32m━━━━━━━━━━━━━━━━━━━━\u001b[0m\u001b[37m\u001b[0m \u001b[1m11s\u001b[0m 4ms/step - loss: 0.0030 - mean_absolute_error: 0.0237\n",
      "Epoch 11/200\n",
      "\u001b[1m2645/2645\u001b[0m \u001b[32m━━━━━━━━━━━━━━━━━━━━\u001b[0m\u001b[37m\u001b[0m \u001b[1m11s\u001b[0m 4ms/step - loss: 0.0027 - mean_absolute_error: 0.0221\n",
      "Epoch 12/200\n",
      "\u001b[1m2645/2645\u001b[0m \u001b[32m━━━━━━━━━━━━━━━━━━━━\u001b[0m\u001b[37m\u001b[0m \u001b[1m11s\u001b[0m 4ms/step - loss: 0.0025 - mean_absolute_error: 0.0217\n",
      "Epoch 13/200\n",
      "\u001b[1m2645/2645\u001b[0m \u001b[32m━━━━━━━━━━━━━━━━━━━━\u001b[0m\u001b[37m\u001b[0m \u001b[1m11s\u001b[0m 4ms/step - loss: 0.0022 - mean_absolute_error: 0.0205\n",
      "Epoch 14/200\n",
      "\u001b[1m2645/2645\u001b[0m \u001b[32m━━━━━━━━━━━━━━━━━━━━\u001b[0m\u001b[37m\u001b[0m \u001b[1m11s\u001b[0m 4ms/step - loss: 0.0021 - mean_absolute_error: 0.0202\n",
      "Epoch 15/200\n",
      "\u001b[1m2645/2645\u001b[0m \u001b[32m━━━━━━━━━━━━━━━━━━━━\u001b[0m\u001b[37m\u001b[0m \u001b[1m11s\u001b[0m 4ms/step - loss: 0.0021 - mean_absolute_error: 0.0201\n",
      "Epoch 16/200\n",
      "\u001b[1m2645/2645\u001b[0m \u001b[32m━━━━━━━━━━━━━━━━━━━━\u001b[0m\u001b[37m\u001b[0m \u001b[1m11s\u001b[0m 4ms/step - loss: 0.0019 - mean_absolute_error: 0.0189\n",
      "Epoch 17/200\n",
      "\u001b[1m2645/2645\u001b[0m \u001b[32m━━━━━━━━━━━━━━━━━━━━\u001b[0m\u001b[37m\u001b[0m \u001b[1m11s\u001b[0m 4ms/step - loss: 0.0018 - mean_absolute_error: 0.0185\n",
      "Epoch 18/200\n",
      "\u001b[1m2645/2645\u001b[0m \u001b[32m━━━━━━━━━━━━━━━━━━━━\u001b[0m\u001b[37m\u001b[0m \u001b[1m10s\u001b[0m 4ms/step - loss: 0.0018 - mean_absolute_error: 0.0187\n",
      "Epoch 19/200\n",
      "\u001b[1m2645/2645\u001b[0m \u001b[32m━━━━━━━━━━━━━━━━━━━━\u001b[0m\u001b[37m\u001b[0m \u001b[1m10s\u001b[0m 4ms/step - loss: 0.0018 - mean_absolute_error: 0.0186\n",
      "Epoch 20/200\n",
      "\u001b[1m2645/2645\u001b[0m \u001b[32m━━━━━━━━━━━━━━━━━━━━\u001b[0m\u001b[37m\u001b[0m \u001b[1m10s\u001b[0m 4ms/step - loss: 0.0018 - mean_absolute_error: 0.0187\n",
      "Epoch 21/200\n",
      "\u001b[1m2645/2645\u001b[0m \u001b[32m━━━━━━━━━━━━━━━━━━━━\u001b[0m\u001b[37m\u001b[0m \u001b[1m11s\u001b[0m 4ms/step - loss: 0.0017 - mean_absolute_error: 0.0187\n",
      "Epoch 22/200\n",
      "\u001b[1m2645/2645\u001b[0m \u001b[32m━━━━━━━━━━━━━━━━━━━━\u001b[0m\u001b[37m\u001b[0m \u001b[1m11s\u001b[0m 4ms/step - loss: 0.0016 - mean_absolute_error: 0.0176\n",
      "Epoch 23/200\n",
      "\u001b[1m2645/2645\u001b[0m \u001b[32m━━━━━━━━━━━━━━━━━━━━\u001b[0m\u001b[37m\u001b[0m \u001b[1m11s\u001b[0m 4ms/step - loss: 0.0014 - mean_absolute_error: 0.0167\n",
      "Epoch 24/200\n",
      "\u001b[1m2645/2645\u001b[0m \u001b[32m━━━━━━━━━━━━━━━━━━━━\u001b[0m\u001b[37m\u001b[0m \u001b[1m11s\u001b[0m 4ms/step - loss: 0.0015 - mean_absolute_error: 0.0169\n",
      "Epoch 25/200\n",
      "\u001b[1m2645/2645\u001b[0m \u001b[32m━━━━━━━━━━━━━━━━━━━━\u001b[0m\u001b[37m\u001b[0m \u001b[1m11s\u001b[0m 4ms/step - loss: 0.0014 - mean_absolute_error: 0.0168\n",
      "Epoch 26/200\n",
      "\u001b[1m2645/2645\u001b[0m \u001b[32m━━━━━━━━━━━━━━━━━━━━\u001b[0m\u001b[37m\u001b[0m \u001b[1m11s\u001b[0m 4ms/step - loss: 0.0014 - mean_absolute_error: 0.0163\n",
      "Epoch 27/200\n",
      "\u001b[1m2645/2645\u001b[0m \u001b[32m━━━━━━━━━━━━━━━━━━━━\u001b[0m\u001b[37m\u001b[0m \u001b[1m11s\u001b[0m 4ms/step - loss: 0.0014 - mean_absolute_error: 0.0167\n",
      "Epoch 28/200\n",
      "\u001b[1m2645/2645\u001b[0m \u001b[32m━━━━━━━━━━━━━━━━━━━━\u001b[0m\u001b[37m\u001b[0m \u001b[1m11s\u001b[0m 4ms/step - loss: 0.0013 - mean_absolute_error: 0.0160\n",
      "Epoch 29/200\n",
      "\u001b[1m2645/2645\u001b[0m \u001b[32m━━━━━━━━━━━━━━━━━━━━\u001b[0m\u001b[37m\u001b[0m \u001b[1m11s\u001b[0m 4ms/step - loss: 0.0013 - mean_absolute_error: 0.0162\n",
      "Epoch 30/200\n",
      "\u001b[1m2645/2645\u001b[0m \u001b[32m━━━━━━━━━━━━━━━━━━━━\u001b[0m\u001b[37m\u001b[0m \u001b[1m11s\u001b[0m 4ms/step - loss: 0.0013 - mean_absolute_error: 0.0158\n",
      "Epoch 31/200\n",
      "\u001b[1m2645/2645\u001b[0m \u001b[32m━━━━━━━━━━━━━━━━━━━━\u001b[0m\u001b[37m\u001b[0m \u001b[1m11s\u001b[0m 4ms/step - loss: 0.0014 - mean_absolute_error: 0.0169\n",
      "Epoch 32/200\n",
      "\u001b[1m2645/2645\u001b[0m \u001b[32m━━━━━━━━━━━━━━━━━━━━\u001b[0m\u001b[37m\u001b[0m \u001b[1m11s\u001b[0m 4ms/step - loss: 0.0012 - mean_absolute_error: 0.0154\n",
      "Epoch 33/200\n",
      "\u001b[1m2645/2645\u001b[0m \u001b[32m━━━━━━━━━━━━━━━━━━━━\u001b[0m\u001b[37m\u001b[0m \u001b[1m11s\u001b[0m 4ms/step - loss: 0.0013 - mean_absolute_error: 0.0163\n",
      "Epoch 34/200\n",
      "\u001b[1m2645/2645\u001b[0m \u001b[32m━━━━━━━━━━━━━━━━━━━━\u001b[0m\u001b[37m\u001b[0m \u001b[1m11s\u001b[0m 4ms/step - loss: 0.0012 - mean_absolute_error: 0.0159\n",
      "Epoch 35/200\n",
      "\u001b[1m2645/2645\u001b[0m \u001b[32m━━━━━━━━━━━━━━━━━━━━\u001b[0m\u001b[37m\u001b[0m \u001b[1m11s\u001b[0m 4ms/step - loss: 0.0012 - mean_absolute_error: 0.0159\n",
      "Epoch 36/200\n",
      "\u001b[1m2645/2645\u001b[0m \u001b[32m━━━━━━━━━━━━━━━━━━━━\u001b[0m\u001b[37m\u001b[0m \u001b[1m11s\u001b[0m 4ms/step - loss: 0.0011 - mean_absolute_error: 0.0145\n",
      "Epoch 37/200\n",
      "\u001b[1m2645/2645\u001b[0m \u001b[32m━━━━━━━━━━━━━━━━━━━━\u001b[0m\u001b[37m\u001b[0m \u001b[1m11s\u001b[0m 4ms/step - loss: 0.0012 - mean_absolute_error: 0.0156\n",
      "Epoch 38/200\n",
      "\u001b[1m2645/2645\u001b[0m \u001b[32m━━━━━━━━━━━━━━━━━━━━\u001b[0m\u001b[37m\u001b[0m \u001b[1m11s\u001b[0m 4ms/step - loss: 0.0011 - mean_absolute_error: 0.0145\n",
      "Epoch 39/200\n",
      "\u001b[1m2645/2645\u001b[0m \u001b[32m━━━━━━━━━━━━━━━━━━━━\u001b[0m\u001b[37m\u001b[0m \u001b[1m11s\u001b[0m 4ms/step - loss: 0.0012 - mean_absolute_error: 0.0153\n",
      "Epoch 40/200\n",
      "\u001b[1m2645/2645\u001b[0m \u001b[32m━━━━━━━━━━━━━━━━━━━━\u001b[0m\u001b[37m\u001b[0m \u001b[1m11s\u001b[0m 4ms/step - loss: 0.0011 - mean_absolute_error: 0.0152\n",
      "Epoch 41/200\n",
      "\u001b[1m2645/2645\u001b[0m \u001b[32m━━━━━━━━━━━━━━━━━━━━\u001b[0m\u001b[37m\u001b[0m \u001b[1m11s\u001b[0m 4ms/step - loss: 0.0011 - mean_absolute_error: 0.0150\n",
      "Epoch 42/200\n",
      "\u001b[1m2645/2645\u001b[0m \u001b[32m━━━━━━━━━━━━━━━━━━━━\u001b[0m\u001b[37m\u001b[0m \u001b[1m11s\u001b[0m 4ms/step - loss: 0.0010 - mean_absolute_error: 0.0146\n",
      "Epoch 43/200\n",
      "\u001b[1m2645/2645\u001b[0m \u001b[32m━━━━━━━━━━━━━━━━━━━━\u001b[0m\u001b[37m\u001b[0m \u001b[1m11s\u001b[0m 4ms/step - loss: 0.0011 - mean_absolute_error: 0.0150\n",
      "Epoch 44/200\n",
      "\u001b[1m2645/2645\u001b[0m \u001b[32m━━━━━━━━━━━━━━━━━━━━\u001b[0m\u001b[37m\u001b[0m \u001b[1m11s\u001b[0m 4ms/step - loss: 0.0010 - mean_absolute_error: 0.0143\n",
      "Epoch 45/200\n",
      "\u001b[1m2645/2645\u001b[0m \u001b[32m━━━━━━━━━━━━━━━━━━━━\u001b[0m\u001b[37m\u001b[0m \u001b[1m10s\u001b[0m 4ms/step - loss: 9.9312e-04 - mean_absolute_error: 0.0144\n",
      "Epoch 46/200\n",
      "\u001b[1m2645/2645\u001b[0m \u001b[32m━━━━━━━━━━━━━━━━━━━━\u001b[0m\u001b[37m\u001b[0m \u001b[1m11s\u001b[0m 4ms/step - loss: 0.0011 - mean_absolute_error: 0.0148\n",
      "Epoch 47/200\n",
      "\u001b[1m2645/2645\u001b[0m \u001b[32m━━━━━━━━━━━━━━━━━━━━\u001b[0m\u001b[37m\u001b[0m \u001b[1m11s\u001b[0m 4ms/step - loss: 0.0010 - mean_absolute_error: 0.0145\n",
      "Epoch 48/200\n",
      "\u001b[1m2645/2645\u001b[0m \u001b[32m━━━━━━━━━━━━━━━━━━━━\u001b[0m\u001b[37m\u001b[0m \u001b[1m11s\u001b[0m 4ms/step - loss: 9.3812e-04 - mean_absolute_error: 0.0140\n",
      "Epoch 49/200\n",
      "\u001b[1m2645/2645\u001b[0m \u001b[32m━━━━━━━━━━━━━━━━━━━━\u001b[0m\u001b[37m\u001b[0m \u001b[1m11s\u001b[0m 4ms/step - loss: 0.0011 - mean_absolute_error: 0.0153\n",
      "Epoch 50/200\n",
      "\u001b[1m2645/2645\u001b[0m \u001b[32m━━━━━━━━━━━━━━━━━━━━\u001b[0m\u001b[37m\u001b[0m \u001b[1m11s\u001b[0m 4ms/step - loss: 0.0011 - mean_absolute_error: 0.0149\n",
      "Epoch 51/200\n",
      "\u001b[1m2645/2645\u001b[0m \u001b[32m━━━━━━━━━━━━━━━━━━━━\u001b[0m\u001b[37m\u001b[0m \u001b[1m11s\u001b[0m 4ms/step - loss: 9.8483e-04 - mean_absolute_error: 0.0141\n",
      "Epoch 52/200\n",
      "\u001b[1m2645/2645\u001b[0m \u001b[32m━━━━━━━━━━━━━━━━━━━━\u001b[0m\u001b[37m\u001b[0m \u001b[1m11s\u001b[0m 4ms/step - loss: 9.7919e-04 - mean_absolute_error: 0.0140\n",
      "Epoch 53/200\n",
      "\u001b[1m2645/2645\u001b[0m \u001b[32m━━━━━━━━━━━━━━━━━━━━\u001b[0m\u001b[37m\u001b[0m \u001b[1m11s\u001b[0m 4ms/step - loss: 9.9780e-04 - mean_absolute_error: 0.0146\n",
      "Epoch 54/200\n",
      "\u001b[1m2645/2645\u001b[0m \u001b[32m━━━━━━━━━━━━━━━━━━━━\u001b[0m\u001b[37m\u001b[0m \u001b[1m11s\u001b[0m 4ms/step - loss: 9.4883e-04 - mean_absolute_error: 0.0143\n",
      "Epoch 55/200\n",
      "\u001b[1m2645/2645\u001b[0m \u001b[32m━━━━━━━━━━━━━━━━━━━━\u001b[0m\u001b[37m\u001b[0m \u001b[1m11s\u001b[0m 4ms/step - loss: 9.7811e-04 - mean_absolute_error: 0.0143\n",
      "Epoch 56/200\n",
      "\u001b[1m2645/2645\u001b[0m \u001b[32m━━━━━━━━━━━━━━━━━━━━\u001b[0m\u001b[37m\u001b[0m \u001b[1m10s\u001b[0m 4ms/step - loss: 8.3076e-04 - mean_absolute_error: 0.0130\n",
      "Epoch 57/200\n",
      "\u001b[1m2645/2645\u001b[0m \u001b[32m━━━━━━━━━━━━━━━━━━━━\u001b[0m\u001b[37m\u001b[0m \u001b[1m11s\u001b[0m 4ms/step - loss: 8.8975e-04 - mean_absolute_error: 0.0139\n",
      "Epoch 58/200\n",
      "\u001b[1m2645/2645\u001b[0m \u001b[32m━━━━━━━━━━━━━━━━━━━━\u001b[0m\u001b[37m\u001b[0m \u001b[1m11s\u001b[0m 4ms/step - loss: 9.7690e-04 - mean_absolute_error: 0.0144\n",
      "Epoch 59/200\n",
      "\u001b[1m2645/2645\u001b[0m \u001b[32m━━━━━━━━━━━━━━━━━━━━\u001b[0m\u001b[37m\u001b[0m \u001b[1m11s\u001b[0m 4ms/step - loss: 9.5961e-04 - mean_absolute_error: 0.0143\n",
      "Epoch 60/200\n",
      "\u001b[1m2645/2645\u001b[0m \u001b[32m━━━━━━━━━━━━━━━━━━━━\u001b[0m\u001b[37m\u001b[0m \u001b[1m11s\u001b[0m 4ms/step - loss: 8.7529e-04 - mean_absolute_error: 0.0135\n",
      "Epoch 61/200\n",
      "\u001b[1m2645/2645\u001b[0m \u001b[32m━━━━━━━━━━━━━━━━━━━━\u001b[0m\u001b[37m\u001b[0m \u001b[1m11s\u001b[0m 4ms/step - loss: 9.5124e-04 - mean_absolute_error: 0.0143\n",
      "Epoch 62/200\n",
      "\u001b[1m2645/2645\u001b[0m \u001b[32m━━━━━━━━━━━━━━━━━━━━\u001b[0m\u001b[37m\u001b[0m \u001b[1m10s\u001b[0m 4ms/step - loss: 8.5224e-04 - mean_absolute_error: 0.0134\n",
      "Epoch 63/200\n",
      "\u001b[1m2645/2645\u001b[0m \u001b[32m━━━━━━━━━━━━━━━━━━━━\u001b[0m\u001b[37m\u001b[0m \u001b[1m11s\u001b[0m 4ms/step - loss: 9.1546e-04 - mean_absolute_error: 0.0141\n",
      "Epoch 64/200\n",
      "\u001b[1m2645/2645\u001b[0m \u001b[32m━━━━━━━━━━━━━━━━━━━━\u001b[0m\u001b[37m\u001b[0m \u001b[1m11s\u001b[0m 4ms/step - loss: 8.9329e-04 - mean_absolute_error: 0.0135\n",
      "Epoch 65/200\n",
      "\u001b[1m2645/2645\u001b[0m \u001b[32m━━━━━━━━━━━━━━━━━━━━\u001b[0m\u001b[37m\u001b[0m \u001b[1m11s\u001b[0m 4ms/step - loss: 9.4577e-04 - mean_absolute_error: 0.0141\n",
      "Epoch 66/200\n",
      "\u001b[1m2645/2645\u001b[0m \u001b[32m━━━━━━━━━━━━━━━━━━━━\u001b[0m\u001b[37m\u001b[0m \u001b[1m11s\u001b[0m 4ms/step - loss: 8.5261e-04 - mean_absolute_error: 0.0133\n",
      "Epoch 67/200\n",
      "\u001b[1m2645/2645\u001b[0m \u001b[32m━━━━━━━━━━━━━━━━━━━━\u001b[0m\u001b[37m\u001b[0m \u001b[1m10s\u001b[0m 4ms/step - loss: 8.7952e-04 - mean_absolute_error: 0.0138\n",
      "Epoch 68/200\n",
      "\u001b[1m2645/2645\u001b[0m \u001b[32m━━━━━━━━━━━━━━━━━━━━\u001b[0m\u001b[37m\u001b[0m \u001b[1m11s\u001b[0m 4ms/step - loss: 8.7189e-04 - mean_absolute_error: 0.0135\n",
      "Epoch 69/200\n",
      "\u001b[1m2645/2645\u001b[0m \u001b[32m━━━━━━━━━━━━━━━━━━━━\u001b[0m\u001b[37m\u001b[0m \u001b[1m11s\u001b[0m 4ms/step - loss: 7.7405e-04 - mean_absolute_error: 0.0130\n",
      "Epoch 70/200\n",
      "\u001b[1m2645/2645\u001b[0m \u001b[32m━━━━━━━━━━━━━━━━━━━━\u001b[0m\u001b[37m\u001b[0m \u001b[1m11s\u001b[0m 4ms/step - loss: 8.1514e-04 - mean_absolute_error: 0.0131\n",
      "Epoch 71/200\n",
      "\u001b[1m2645/2645\u001b[0m \u001b[32m━━━━━━━━━━━━━━━━━━━━\u001b[0m\u001b[37m\u001b[0m \u001b[1m11s\u001b[0m 4ms/step - loss: 8.1876e-04 - mean_absolute_error: 0.0131\n",
      "Epoch 72/200\n",
      "\u001b[1m2645/2645\u001b[0m \u001b[32m━━━━━━━━━━━━━━━━━━━━\u001b[0m\u001b[37m\u001b[0m \u001b[1m10s\u001b[0m 4ms/step - loss: 7.7535e-04 - mean_absolute_error: 0.0128\n",
      "Epoch 73/200\n",
      "\u001b[1m2645/2645\u001b[0m \u001b[32m━━━━━━━━━━━━━━━━━━━━\u001b[0m\u001b[37m\u001b[0m \u001b[1m11s\u001b[0m 4ms/step - loss: 8.1389e-04 - mean_absolute_error: 0.0129\n",
      "Epoch 74/200\n",
      "\u001b[1m2645/2645\u001b[0m \u001b[32m━━━━━━━━━━━━━━━━━━━━\u001b[0m\u001b[37m\u001b[0m \u001b[1m11s\u001b[0m 4ms/step - loss: 8.6478e-04 - mean_absolute_error: 0.0136\n",
      "Epoch 75/200\n",
      "\u001b[1m2645/2645\u001b[0m \u001b[32m━━━━━━━━━━━━━━━━━━━━\u001b[0m\u001b[37m\u001b[0m \u001b[1m11s\u001b[0m 4ms/step - loss: 8.3882e-04 - mean_absolute_error: 0.0135\n",
      "Epoch 76/200\n",
      "\u001b[1m2645/2645\u001b[0m \u001b[32m━━━━━━━━━━━━━━━━━━━━\u001b[0m\u001b[37m\u001b[0m \u001b[1m11s\u001b[0m 4ms/step - loss: 8.1974e-04 - mean_absolute_error: 0.0131\n",
      "Epoch 77/200\n",
      "\u001b[1m2645/2645\u001b[0m \u001b[32m━━━━━━━━━━━━━━━━━━━━\u001b[0m\u001b[37m\u001b[0m \u001b[1m11s\u001b[0m 4ms/step - loss: 8.2688e-04 - mean_absolute_error: 0.0132\n",
      "Epoch 78/200\n",
      "\u001b[1m2645/2645\u001b[0m \u001b[32m━━━━━━━━━━━━━━━━━━━━\u001b[0m\u001b[37m\u001b[0m \u001b[1m11s\u001b[0m 4ms/step - loss: 8.2508e-04 - mean_absolute_error: 0.0133\n",
      "Epoch 79/200\n",
      "\u001b[1m2645/2645\u001b[0m \u001b[32m━━━━━━━━━━━━━━━━━━━━\u001b[0m\u001b[37m\u001b[0m \u001b[1m11s\u001b[0m 4ms/step - loss: 7.9295e-04 - mean_absolute_error: 0.0131\n",
      "Epoch 80/200\n",
      "\u001b[1m2645/2645\u001b[0m \u001b[32m━━━━━━━━━━━━━━━━━━━━\u001b[0m\u001b[37m\u001b[0m \u001b[1m11s\u001b[0m 4ms/step - loss: 8.6285e-04 - mean_absolute_error: 0.0135\n",
      "Epoch 81/200\n",
      "\u001b[1m2645/2645\u001b[0m \u001b[32m━━━━━━━━━━━━━━━━━━━━\u001b[0m\u001b[37m\u001b[0m \u001b[1m11s\u001b[0m 4ms/step - loss: 7.3599e-04 - mean_absolute_error: 0.0124\n",
      "Epoch 82/200\n",
      "\u001b[1m2645/2645\u001b[0m \u001b[32m━━━━━━━━━━━━━━━━━━━━\u001b[0m\u001b[37m\u001b[0m \u001b[1m11s\u001b[0m 4ms/step - loss: 7.9563e-04 - mean_absolute_error: 0.0128\n",
      "Epoch 83/200\n",
      "\u001b[1m2645/2645\u001b[0m \u001b[32m━━━━━━━━━━━━━━━━━━━━\u001b[0m\u001b[37m\u001b[0m \u001b[1m11s\u001b[0m 4ms/step - loss: 6.9169e-04 - mean_absolute_error: 0.0118\n",
      "Epoch 84/200\n",
      "\u001b[1m2645/2645\u001b[0m \u001b[32m━━━━━━━━━━━━━━━━━━━━\u001b[0m\u001b[37m\u001b[0m \u001b[1m11s\u001b[0m 4ms/step - loss: 8.4523e-04 - mean_absolute_error: 0.0132\n",
      "Epoch 85/200\n",
      "\u001b[1m2645/2645\u001b[0m \u001b[32m━━━━━━━━━━━━━━━━━━━━\u001b[0m\u001b[37m\u001b[0m \u001b[1m11s\u001b[0m 4ms/step - loss: 7.6792e-04 - mean_absolute_error: 0.0127\n",
      "Epoch 86/200\n",
      "\u001b[1m2645/2645\u001b[0m \u001b[32m━━━━━━━━━━━━━━━━━━━━\u001b[0m\u001b[37m\u001b[0m \u001b[1m11s\u001b[0m 4ms/step - loss: 7.7174e-04 - mean_absolute_error: 0.0126\n",
      "Epoch 87/200\n",
      "\u001b[1m2645/2645\u001b[0m \u001b[32m━━━━━━━━━━━━━━━━━━━━\u001b[0m\u001b[37m\u001b[0m \u001b[1m11s\u001b[0m 4ms/step - loss: 7.9671e-04 - mean_absolute_error: 0.0132\n",
      "Epoch 88/200\n",
      "\u001b[1m2645/2645\u001b[0m \u001b[32m━━━━━━━━━━━━━━━━━━━━\u001b[0m\u001b[37m\u001b[0m \u001b[1m11s\u001b[0m 4ms/step - loss: 7.6820e-04 - mean_absolute_error: 0.0126\n",
      "Epoch 89/200\n",
      "\u001b[1m2645/2645\u001b[0m \u001b[32m━━━━━━━━━━━━━━━━━━━━\u001b[0m\u001b[37m\u001b[0m \u001b[1m11s\u001b[0m 4ms/step - loss: 7.6110e-04 - mean_absolute_error: 0.0128\n",
      "Epoch 90/200\n",
      "\u001b[1m2645/2645\u001b[0m \u001b[32m━━━━━━━━━━━━━━━━━━━━\u001b[0m\u001b[37m\u001b[0m \u001b[1m11s\u001b[0m 4ms/step - loss: 7.2449e-04 - mean_absolute_error: 0.0124\n",
      "Epoch 91/200\n",
      "\u001b[1m2645/2645\u001b[0m \u001b[32m━━━━━━━━━━━━━━━━━━━━\u001b[0m\u001b[37m\u001b[0m \u001b[1m11s\u001b[0m 4ms/step - loss: 7.4196e-04 - mean_absolute_error: 0.0128\n",
      "Epoch 92/200\n",
      "\u001b[1m2645/2645\u001b[0m \u001b[32m━━━━━━━━━━━━━━━━━━━━\u001b[0m\u001b[37m\u001b[0m \u001b[1m11s\u001b[0m 4ms/step - loss: 7.3509e-04 - mean_absolute_error: 0.0126\n",
      "Epoch 93/200\n",
      "\u001b[1m2645/2645\u001b[0m \u001b[32m━━━━━━━━━━━━━━━━━━━━\u001b[0m\u001b[37m\u001b[0m \u001b[1m11s\u001b[0m 4ms/step - loss: 7.9190e-04 - mean_absolute_error: 0.0129\n",
      "Epoch 94/200\n",
      "\u001b[1m2645/2645\u001b[0m \u001b[32m━━━━━━━━━━━━━━━━━━━━\u001b[0m\u001b[37m\u001b[0m \u001b[1m11s\u001b[0m 4ms/step - loss: 7.4349e-04 - mean_absolute_error: 0.0125\n",
      "Epoch 95/200\n",
      "\u001b[1m2645/2645\u001b[0m \u001b[32m━━━━━━━━━━━━━━━━━━━━\u001b[0m\u001b[37m\u001b[0m \u001b[1m11s\u001b[0m 4ms/step - loss: 7.2293e-04 - mean_absolute_error: 0.0126\n",
      "Epoch 96/200\n",
      "\u001b[1m2645/2645\u001b[0m \u001b[32m━━━━━━━━━━━━━━━━━━━━\u001b[0m\u001b[37m\u001b[0m \u001b[1m11s\u001b[0m 4ms/step - loss: 7.2387e-04 - mean_absolute_error: 0.0121\n",
      "Epoch 97/200\n",
      "\u001b[1m2645/2645\u001b[0m \u001b[32m━━━━━━━━━━━━━━━━━━━━\u001b[0m\u001b[37m\u001b[0m \u001b[1m11s\u001b[0m 4ms/step - loss: 7.1980e-04 - mean_absolute_error: 0.0123\n",
      "Epoch 98/200\n",
      "\u001b[1m2645/2645\u001b[0m \u001b[32m━━━━━━━━━━━━━━━━━━━━\u001b[0m\u001b[37m\u001b[0m \u001b[1m11s\u001b[0m 4ms/step - loss: 7.7597e-04 - mean_absolute_error: 0.0127\n",
      "Epoch 99/200\n",
      "\u001b[1m2645/2645\u001b[0m \u001b[32m━━━━━━━━━━━━━━━━━━━━\u001b[0m\u001b[37m\u001b[0m \u001b[1m11s\u001b[0m 4ms/step - loss: 7.4721e-04 - mean_absolute_error: 0.0126\n",
      "Epoch 100/200\n",
      "\u001b[1m2645/2645\u001b[0m \u001b[32m━━━━━━━━━━━━━━━━━━━━\u001b[0m\u001b[37m\u001b[0m \u001b[1m11s\u001b[0m 4ms/step - loss: 7.1423e-04 - mean_absolute_error: 0.0122\n",
      "Epoch 101/200\n",
      "\u001b[1m2645/2645\u001b[0m \u001b[32m━━━━━━━━━━━━━━━━━━━━\u001b[0m\u001b[37m\u001b[0m \u001b[1m11s\u001b[0m 4ms/step - loss: 8.2043e-04 - mean_absolute_error: 0.0132\n",
      "Epoch 102/200\n",
      "\u001b[1m2645/2645\u001b[0m \u001b[32m━━━━━━━━━━━━━━━━━━━━\u001b[0m\u001b[37m\u001b[0m \u001b[1m11s\u001b[0m 4ms/step - loss: 7.3568e-04 - mean_absolute_error: 0.0126\n",
      "Epoch 103/200\n",
      "\u001b[1m2645/2645\u001b[0m \u001b[32m━━━━━━━━━━━━━━━━━━━━\u001b[0m\u001b[37m\u001b[0m \u001b[1m11s\u001b[0m 4ms/step - loss: 7.4109e-04 - mean_absolute_error: 0.0127\n",
      "Epoch 104/200\n",
      "\u001b[1m2645/2645\u001b[0m \u001b[32m━━━━━━━━━━━━━━━━━━━━\u001b[0m\u001b[37m\u001b[0m \u001b[1m11s\u001b[0m 4ms/step - loss: 6.8176e-04 - mean_absolute_error: 0.0122\n",
      "Epoch 105/200\n",
      "\u001b[1m2645/2645\u001b[0m \u001b[32m━━━━━━━━━━━━━━━━━━━━\u001b[0m\u001b[37m\u001b[0m \u001b[1m11s\u001b[0m 4ms/step - loss: 6.7807e-04 - mean_absolute_error: 0.0119\n",
      "Epoch 106/200\n",
      "\u001b[1m2645/2645\u001b[0m \u001b[32m━━━━━━━━━━━━━━━━━━━━\u001b[0m\u001b[37m\u001b[0m \u001b[1m11s\u001b[0m 4ms/step - loss: 6.6767e-04 - mean_absolute_error: 0.0121\n",
      "Epoch 107/200\n",
      "\u001b[1m2645/2645\u001b[0m \u001b[32m━━━━━━━━━━━━━━━━━━━━\u001b[0m\u001b[37m\u001b[0m \u001b[1m11s\u001b[0m 4ms/step - loss: 7.2058e-04 - mean_absolute_error: 0.0123\n",
      "Epoch 108/200\n",
      "\u001b[1m2645/2645\u001b[0m \u001b[32m━━━━━━━━━━━━━━━━━━━━\u001b[0m\u001b[37m\u001b[0m \u001b[1m11s\u001b[0m 4ms/step - loss: 6.8490e-04 - mean_absolute_error: 0.0122\n",
      "Epoch 109/200\n",
      "\u001b[1m2645/2645\u001b[0m \u001b[32m━━━━━━━━━━━━━━━━━━━━\u001b[0m\u001b[37m\u001b[0m \u001b[1m11s\u001b[0m 4ms/step - loss: 6.8068e-04 - mean_absolute_error: 0.0121\n",
      "Epoch 110/200\n",
      "\u001b[1m2645/2645\u001b[0m \u001b[32m━━━━━━━━━━━━━━━━━━━━\u001b[0m\u001b[37m\u001b[0m \u001b[1m11s\u001b[0m 4ms/step - loss: 7.2952e-04 - mean_absolute_error: 0.0123\n",
      "Epoch 111/200\n",
      "\u001b[1m2645/2645\u001b[0m \u001b[32m━━━━━━━━━━━━━━━━━━━━\u001b[0m\u001b[37m\u001b[0m \u001b[1m11s\u001b[0m 4ms/step - loss: 6.4268e-04 - mean_absolute_error: 0.0115\n",
      "Epoch 112/200\n",
      "\u001b[1m2645/2645\u001b[0m \u001b[32m━━━━━━━━━━━━━━━━━━━━\u001b[0m\u001b[37m\u001b[0m \u001b[1m11s\u001b[0m 4ms/step - loss: 6.2362e-04 - mean_absolute_error: 0.0115\n",
      "Epoch 113/200\n",
      "\u001b[1m2645/2645\u001b[0m \u001b[32m━━━━━━━━━━━━━━━━━━━━\u001b[0m\u001b[37m\u001b[0m \u001b[1m11s\u001b[0m 4ms/step - loss: 7.1713e-04 - mean_absolute_error: 0.0124\n",
      "Epoch 114/200\n",
      "\u001b[1m2645/2645\u001b[0m \u001b[32m━━━━━━━━━━━━━━━━━━━━\u001b[0m\u001b[37m\u001b[0m \u001b[1m11s\u001b[0m 4ms/step - loss: 7.0271e-04 - mean_absolute_error: 0.0122\n",
      "Epoch 115/200\n",
      "\u001b[1m2645/2645\u001b[0m \u001b[32m━━━━━━━━━━━━━━━━━━━━\u001b[0m\u001b[37m\u001b[0m \u001b[1m11s\u001b[0m 4ms/step - loss: 6.9106e-04 - mean_absolute_error: 0.0122\n",
      "Epoch 116/200\n",
      "\u001b[1m2645/2645\u001b[0m \u001b[32m━━━━━━━━━━━━━━━━━━━━\u001b[0m\u001b[37m\u001b[0m \u001b[1m11s\u001b[0m 4ms/step - loss: 6.9608e-04 - mean_absolute_error: 0.0122\n",
      "Epoch 117/200\n",
      "\u001b[1m2645/2645\u001b[0m \u001b[32m━━━━━━━━━━━━━━━━━━━━\u001b[0m\u001b[37m\u001b[0m \u001b[1m11s\u001b[0m 4ms/step - loss: 6.7824e-04 - mean_absolute_error: 0.0121\n",
      "Epoch 118/200\n",
      "\u001b[1m2645/2645\u001b[0m \u001b[32m━━━━━━━━━━━━━━━━━━━━\u001b[0m\u001b[37m\u001b[0m \u001b[1m11s\u001b[0m 4ms/step - loss: 6.8521e-04 - mean_absolute_error: 0.0122\n",
      "Epoch 119/200\n",
      "\u001b[1m2645/2645\u001b[0m \u001b[32m━━━━━━━━━━━━━━━━━━━━\u001b[0m\u001b[37m\u001b[0m \u001b[1m11s\u001b[0m 4ms/step - loss: 6.7661e-04 - mean_absolute_error: 0.0122\n",
      "Epoch 120/200\n",
      "\u001b[1m2645/2645\u001b[0m \u001b[32m━━━━━━━━━━━━━━━━━━━━\u001b[0m\u001b[37m\u001b[0m \u001b[1m11s\u001b[0m 4ms/step - loss: 6.9057e-04 - mean_absolute_error: 0.0119\n",
      "Epoch 121/200\n",
      "\u001b[1m2645/2645\u001b[0m \u001b[32m━━━━━━━━━━━━━━━━━━━━\u001b[0m\u001b[37m\u001b[0m \u001b[1m11s\u001b[0m 4ms/step - loss: 6.9896e-04 - mean_absolute_error: 0.0121\n",
      "Epoch 122/200\n",
      "\u001b[1m2645/2645\u001b[0m \u001b[32m━━━━━━━━━━━━━━━━━━━━\u001b[0m\u001b[37m\u001b[0m \u001b[1m11s\u001b[0m 4ms/step - loss: 6.7384e-04 - mean_absolute_error: 0.0119\n",
      "Epoch 123/200\n",
      "\u001b[1m2645/2645\u001b[0m \u001b[32m━━━━━━━━━━━━━━━━━━━━\u001b[0m\u001b[37m\u001b[0m \u001b[1m11s\u001b[0m 4ms/step - loss: 6.0193e-04 - mean_absolute_error: 0.0112\n",
      "Epoch 124/200\n",
      "\u001b[1m2645/2645\u001b[0m \u001b[32m━━━━━━━━━━━━━━━━━━━━\u001b[0m\u001b[37m\u001b[0m \u001b[1m11s\u001b[0m 4ms/step - loss: 6.5883e-04 - mean_absolute_error: 0.0119\n",
      "Epoch 125/200\n",
      "\u001b[1m2645/2645\u001b[0m \u001b[32m━━━━━━━━━━━━━━━━━━━━\u001b[0m\u001b[37m\u001b[0m \u001b[1m11s\u001b[0m 4ms/step - loss: 5.9975e-04 - mean_absolute_error: 0.0111\n",
      "Epoch 126/200\n",
      "\u001b[1m2645/2645\u001b[0m \u001b[32m━━━━━━━━━━━━━━━━━━━━\u001b[0m\u001b[37m\u001b[0m \u001b[1m11s\u001b[0m 4ms/step - loss: 6.8279e-04 - mean_absolute_error: 0.0122\n",
      "Epoch 127/200\n",
      "\u001b[1m2645/2645\u001b[0m \u001b[32m━━━━━━━━━━━━━━━━━━━━\u001b[0m\u001b[37m\u001b[0m \u001b[1m11s\u001b[0m 4ms/step - loss: 6.3611e-04 - mean_absolute_error: 0.0117\n",
      "Epoch 128/200\n",
      "\u001b[1m2645/2645\u001b[0m \u001b[32m━━━━━━━━━━━━━━━━━━━━\u001b[0m\u001b[37m\u001b[0m \u001b[1m11s\u001b[0m 4ms/step - loss: 6.8998e-04 - mean_absolute_error: 0.0121\n",
      "Epoch 129/200\n",
      "\u001b[1m2645/2645\u001b[0m \u001b[32m━━━━━━━━━━━━━━━━━━━━\u001b[0m\u001b[37m\u001b[0m \u001b[1m11s\u001b[0m 4ms/step - loss: 6.3435e-04 - mean_absolute_error: 0.0115\n",
      "Epoch 130/200\n",
      "\u001b[1m2645/2645\u001b[0m \u001b[32m━━━━━━━━━━━━━━━━━━━━\u001b[0m\u001b[37m\u001b[0m \u001b[1m11s\u001b[0m 4ms/step - loss: 6.7813e-04 - mean_absolute_error: 0.0121\n",
      "Epoch 131/200\n",
      "\u001b[1m2645/2645\u001b[0m \u001b[32m━━━━━━━━━━━━━━━━━━━━\u001b[0m\u001b[37m\u001b[0m \u001b[1m11s\u001b[0m 4ms/step - loss: 7.2424e-04 - mean_absolute_error: 0.0126\n",
      "Epoch 132/200\n",
      "\u001b[1m2645/2645\u001b[0m \u001b[32m━━━━━━━━━━━━━━━━━━━━\u001b[0m\u001b[37m\u001b[0m \u001b[1m11s\u001b[0m 4ms/step - loss: 6.6359e-04 - mean_absolute_error: 0.0117\n",
      "Epoch 133/200\n",
      "\u001b[1m2645/2645\u001b[0m \u001b[32m━━━━━━━━━━━━━━━━━━━━\u001b[0m\u001b[37m\u001b[0m \u001b[1m11s\u001b[0m 4ms/step - loss: 6.5952e-04 - mean_absolute_error: 0.0119\n",
      "Epoch 134/200\n",
      "\u001b[1m2645/2645\u001b[0m \u001b[32m━━━━━━━━━━━━━━━━━━━━\u001b[0m\u001b[37m\u001b[0m \u001b[1m11s\u001b[0m 4ms/step - loss: 6.0425e-04 - mean_absolute_error: 0.0114\n",
      "Epoch 135/200\n",
      "\u001b[1m2645/2645\u001b[0m \u001b[32m━━━━━━━━━━━━━━━━━━━━\u001b[0m\u001b[37m\u001b[0m \u001b[1m11s\u001b[0m 4ms/step - loss: 6.0558e-04 - mean_absolute_error: 0.0113\n",
      "Epoch 136/200\n",
      "\u001b[1m2645/2645\u001b[0m \u001b[32m━━━━━━━━━━━━━━━━━━━━\u001b[0m\u001b[37m\u001b[0m \u001b[1m11s\u001b[0m 4ms/step - loss: 6.5167e-04 - mean_absolute_error: 0.0119\n",
      "Epoch 137/200\n",
      "\u001b[1m2645/2645\u001b[0m \u001b[32m━━━━━━━━━━━━━━━━━━━━\u001b[0m\u001b[37m\u001b[0m \u001b[1m11s\u001b[0m 4ms/step - loss: 6.5562e-04 - mean_absolute_error: 0.0119\n",
      "Epoch 138/200\n",
      "\u001b[1m2645/2645\u001b[0m \u001b[32m━━━━━━━━━━━━━━━━━━━━\u001b[0m\u001b[37m\u001b[0m \u001b[1m11s\u001b[0m 4ms/step - loss: 5.4795e-04 - mean_absolute_error: 0.0109\n",
      "Epoch 139/200\n",
      "\u001b[1m2645/2645\u001b[0m \u001b[32m━━━━━━━━━━━━━━━━━━━━\u001b[0m\u001b[37m\u001b[0m \u001b[1m11s\u001b[0m 4ms/step - loss: 6.0997e-04 - mean_absolute_error: 0.0113\n",
      "Epoch 140/200\n",
      "\u001b[1m2645/2645\u001b[0m \u001b[32m━━━━━━━━━━━━━━━━━━━━\u001b[0m\u001b[37m\u001b[0m \u001b[1m11s\u001b[0m 4ms/step - loss: 5.8898e-04 - mean_absolute_error: 0.0114\n",
      "Epoch 141/200\n",
      "\u001b[1m2645/2645\u001b[0m \u001b[32m━━━━━━━━━━━━━━━━━━━━\u001b[0m\u001b[37m\u001b[0m \u001b[1m10s\u001b[0m 4ms/step - loss: 6.6294e-04 - mean_absolute_error: 0.0120\n",
      "Epoch 142/200\n",
      "\u001b[1m2645/2645\u001b[0m \u001b[32m━━━━━━━━━━━━━━━━━━━━\u001b[0m\u001b[37m\u001b[0m \u001b[1m11s\u001b[0m 4ms/step - loss: 6.6019e-04 - mean_absolute_error: 0.0118\n",
      "Epoch 143/200\n",
      "\u001b[1m2645/2645\u001b[0m \u001b[32m━━━━━━━━━━━━━━━━━━━━\u001b[0m\u001b[37m\u001b[0m \u001b[1m11s\u001b[0m 4ms/step - loss: 6.0185e-04 - mean_absolute_error: 0.0113\n",
      "Epoch 144/200\n",
      "\u001b[1m2645/2645\u001b[0m \u001b[32m━━━━━━━━━━━━━━━━━━━━\u001b[0m\u001b[37m\u001b[0m \u001b[1m11s\u001b[0m 4ms/step - loss: 6.0476e-04 - mean_absolute_error: 0.0114\n",
      "Epoch 145/200\n",
      "\u001b[1m2645/2645\u001b[0m \u001b[32m━━━━━━━━━━━━━━━━━━━━\u001b[0m\u001b[37m\u001b[0m \u001b[1m11s\u001b[0m 4ms/step - loss: 5.8275e-04 - mean_absolute_error: 0.0113\n",
      "Epoch 146/200\n",
      "\u001b[1m2645/2645\u001b[0m \u001b[32m━━━━━━━━━━━━━━━━━━━━\u001b[0m\u001b[37m\u001b[0m \u001b[1m11s\u001b[0m 4ms/step - loss: 6.5111e-04 - mean_absolute_error: 0.0117\n",
      "Epoch 147/200\n",
      "\u001b[1m2645/2645\u001b[0m \u001b[32m━━━━━━━━━━━━━━━━━━━━\u001b[0m\u001b[37m\u001b[0m \u001b[1m11s\u001b[0m 4ms/step - loss: 6.5936e-04 - mean_absolute_error: 0.0122\n",
      "Epoch 148/200\n",
      "\u001b[1m2645/2645\u001b[0m \u001b[32m━━━━━━━━━━━━━━━━━━━━\u001b[0m\u001b[37m\u001b[0m \u001b[1m11s\u001b[0m 4ms/step - loss: 5.8809e-04 - mean_absolute_error: 0.0115\n",
      "Epoch 149/200\n",
      "\u001b[1m2645/2645\u001b[0m \u001b[32m━━━━━━━━━━━━━━━━━━━━\u001b[0m\u001b[37m\u001b[0m \u001b[1m11s\u001b[0m 4ms/step - loss: 6.0621e-04 - mean_absolute_error: 0.0115\n",
      "Epoch 150/200\n",
      "\u001b[1m2645/2645\u001b[0m \u001b[32m━━━━━━━━━━━━━━━━━━━━\u001b[0m\u001b[37m\u001b[0m \u001b[1m11s\u001b[0m 4ms/step - loss: 6.1149e-04 - mean_absolute_error: 0.0115\n",
      "Epoch 151/200\n",
      "\u001b[1m2645/2645\u001b[0m \u001b[32m━━━━━━━━━━━━━━━━━━━━\u001b[0m\u001b[37m\u001b[0m \u001b[1m11s\u001b[0m 4ms/step - loss: 5.9050e-04 - mean_absolute_error: 0.0113\n",
      "Epoch 152/200\n",
      "\u001b[1m2645/2645\u001b[0m \u001b[32m━━━━━━━━━━━━━━━━━━━━\u001b[0m\u001b[37m\u001b[0m \u001b[1m11s\u001b[0m 4ms/step - loss: 6.4211e-04 - mean_absolute_error: 0.0116\n",
      "Epoch 153/200\n",
      "\u001b[1m2645/2645\u001b[0m \u001b[32m━━━━━━━━━━━━━━━━━━━━\u001b[0m\u001b[37m\u001b[0m \u001b[1m11s\u001b[0m 4ms/step - loss: 5.8416e-04 - mean_absolute_error: 0.0113\n",
      "Epoch 154/200\n",
      "\u001b[1m2645/2645\u001b[0m \u001b[32m━━━━━━━━━━━━━━━━━━━━\u001b[0m\u001b[37m\u001b[0m \u001b[1m11s\u001b[0m 4ms/step - loss: 6.5650e-04 - mean_absolute_error: 0.0116\n",
      "Epoch 155/200\n",
      "\u001b[1m2645/2645\u001b[0m \u001b[32m━━━━━━━━━━━━━━━━━━━━\u001b[0m\u001b[37m\u001b[0m \u001b[1m11s\u001b[0m 4ms/step - loss: 6.7185e-04 - mean_absolute_error: 0.0122\n",
      "Epoch 156/200\n",
      "\u001b[1m2645/2645\u001b[0m \u001b[32m━━━━━━━━━━━━━━━━━━━━\u001b[0m\u001b[37m\u001b[0m \u001b[1m11s\u001b[0m 4ms/step - loss: 6.4367e-04 - mean_absolute_error: 0.0120\n",
      "Epoch 157/200\n",
      "\u001b[1m2645/2645\u001b[0m \u001b[32m━━━━━━━━━━━━━━━━━━━━\u001b[0m\u001b[37m\u001b[0m \u001b[1m11s\u001b[0m 4ms/step - loss: 6.2970e-04 - mean_absolute_error: 0.0118\n",
      "Epoch 158/200\n",
      "\u001b[1m2645/2645\u001b[0m \u001b[32m━━━━━━━━━━━━━━━━━━━━\u001b[0m\u001b[37m\u001b[0m \u001b[1m11s\u001b[0m 4ms/step - loss: 6.3768e-04 - mean_absolute_error: 0.0115\n",
      "Epoch 159/200\n",
      "\u001b[1m2645/2645\u001b[0m \u001b[32m━━━━━━━━━━━━━━━━━━━━\u001b[0m\u001b[37m\u001b[0m \u001b[1m11s\u001b[0m 4ms/step - loss: 5.7170e-04 - mean_absolute_error: 0.0113\n",
      "Epoch 160/200\n",
      "\u001b[1m2645/2645\u001b[0m \u001b[32m━━━━━━━━━━━━━━━━━━━━\u001b[0m\u001b[37m\u001b[0m \u001b[1m11s\u001b[0m 4ms/step - loss: 5.6862e-04 - mean_absolute_error: 0.0112\n",
      "Epoch 161/200\n",
      "\u001b[1m2645/2645\u001b[0m \u001b[32m━━━━━━━━━━━━━━━━━━━━\u001b[0m\u001b[37m\u001b[0m \u001b[1m11s\u001b[0m 4ms/step - loss: 6.6928e-04 - mean_absolute_error: 0.0121\n",
      "Epoch 162/200\n",
      "\u001b[1m2645/2645\u001b[0m \u001b[32m━━━━━━━━━━━━━━━━━━━━\u001b[0m\u001b[37m\u001b[0m \u001b[1m11s\u001b[0m 4ms/step - loss: 5.8048e-04 - mean_absolute_error: 0.0110\n",
      "Epoch 163/200\n",
      "\u001b[1m2645/2645\u001b[0m \u001b[32m━━━━━━━━━━━━━━━━━━━━\u001b[0m\u001b[37m\u001b[0m \u001b[1m11s\u001b[0m 4ms/step - loss: 5.1910e-04 - mean_absolute_error: 0.0107\n",
      "Epoch 164/200\n",
      "\u001b[1m2645/2645\u001b[0m \u001b[32m━━━━━━━━━━━━━━━━━━━━\u001b[0m\u001b[37m\u001b[0m \u001b[1m11s\u001b[0m 4ms/step - loss: 6.0019e-04 - mean_absolute_error: 0.0113\n",
      "Epoch 165/200\n",
      "\u001b[1m2645/2645\u001b[0m \u001b[32m━━━━━━━━━━━━━━━━━━━━\u001b[0m\u001b[37m\u001b[0m \u001b[1m11s\u001b[0m 4ms/step - loss: 5.9341e-04 - mean_absolute_error: 0.0116\n",
      "Epoch 166/200\n",
      "\u001b[1m2645/2645\u001b[0m \u001b[32m━━━━━━━━━━━━━━━━━━━━\u001b[0m\u001b[37m\u001b[0m \u001b[1m11s\u001b[0m 4ms/step - loss: 5.4272e-04 - mean_absolute_error: 0.0107\n",
      "Epoch 167/200\n",
      "\u001b[1m2645/2645\u001b[0m \u001b[32m━━━━━━━━━━━━━━━━━━━━\u001b[0m\u001b[37m\u001b[0m \u001b[1m11s\u001b[0m 4ms/step - loss: 5.8719e-04 - mean_absolute_error: 0.0115\n",
      "Epoch 168/200\n",
      "\u001b[1m2645/2645\u001b[0m \u001b[32m━━━━━━━━━━━━━━━━━━━━\u001b[0m\u001b[37m\u001b[0m \u001b[1m11s\u001b[0m 4ms/step - loss: 5.5831e-04 - mean_absolute_error: 0.0112\n",
      "Epoch 169/200\n",
      "\u001b[1m2645/2645\u001b[0m \u001b[32m━━━━━━━━━━━━━━━━━━━━\u001b[0m\u001b[37m\u001b[0m \u001b[1m11s\u001b[0m 4ms/step - loss: 5.8095e-04 - mean_absolute_error: 0.0112\n",
      "Epoch 170/200\n",
      "\u001b[1m2645/2645\u001b[0m \u001b[32m━━━━━━━━━━━━━━━━━━━━\u001b[0m\u001b[37m\u001b[0m \u001b[1m11s\u001b[0m 4ms/step - loss: 5.5191e-04 - mean_absolute_error: 0.0110\n",
      "Epoch 171/200\n",
      "\u001b[1m2645/2645\u001b[0m \u001b[32m━━━━━━━━━━━━━━━━━━━━\u001b[0m\u001b[37m\u001b[0m \u001b[1m11s\u001b[0m 4ms/step - loss: 5.7124e-04 - mean_absolute_error: 0.0113\n",
      "Epoch 172/200\n",
      "\u001b[1m2645/2645\u001b[0m \u001b[32m━━━━━━━━━━━━━━━━━━━━\u001b[0m\u001b[37m\u001b[0m \u001b[1m11s\u001b[0m 4ms/step - loss: 5.8876e-04 - mean_absolute_error: 0.0112\n",
      "Epoch 173/200\n",
      "\u001b[1m2645/2645\u001b[0m \u001b[32m━━━━━━━━━━━━━━━━━━━━\u001b[0m\u001b[37m\u001b[0m \u001b[1m11s\u001b[0m 4ms/step - loss: 6.2371e-04 - mean_absolute_error: 0.0116\n",
      "Epoch 174/200\n",
      "\u001b[1m2645/2645\u001b[0m \u001b[32m━━━━━━━━━━━━━━━━━━━━\u001b[0m\u001b[37m\u001b[0m \u001b[1m11s\u001b[0m 4ms/step - loss: 6.1344e-04 - mean_absolute_error: 0.0116\n",
      "Epoch 175/200\n",
      "\u001b[1m2645/2645\u001b[0m \u001b[32m━━━━━━━━━━━━━━━━━━━━\u001b[0m\u001b[37m\u001b[0m \u001b[1m11s\u001b[0m 4ms/step - loss: 5.7456e-04 - mean_absolute_error: 0.0114\n",
      "Epoch 176/200\n",
      "\u001b[1m2645/2645\u001b[0m \u001b[32m━━━━━━━━━━━━━━━━━━━━\u001b[0m\u001b[37m\u001b[0m \u001b[1m11s\u001b[0m 4ms/step - loss: 6.6726e-04 - mean_absolute_error: 0.0117\n",
      "Epoch 177/200\n",
      "\u001b[1m2645/2645\u001b[0m \u001b[32m━━━━━━━━━━━━━━━━━━━━\u001b[0m\u001b[37m\u001b[0m \u001b[1m11s\u001b[0m 4ms/step - loss: 5.9033e-04 - mean_absolute_error: 0.0112\n",
      "Epoch 178/200\n",
      "\u001b[1m2645/2645\u001b[0m \u001b[32m━━━━━━━━━━━━━━━━━━━━\u001b[0m\u001b[37m\u001b[0m \u001b[1m11s\u001b[0m 4ms/step - loss: 5.7704e-04 - mean_absolute_error: 0.0113\n",
      "Epoch 179/200\n",
      "\u001b[1m2645/2645\u001b[0m \u001b[32m━━━━━━━━━━━━━━━━━━━━\u001b[0m\u001b[37m\u001b[0m \u001b[1m11s\u001b[0m 4ms/step - loss: 5.6277e-04 - mean_absolute_error: 0.0111\n",
      "Epoch 180/200\n",
      "\u001b[1m2645/2645\u001b[0m \u001b[32m━━━━━━━━━━━━━━━━━━━━\u001b[0m\u001b[37m\u001b[0m \u001b[1m11s\u001b[0m 4ms/step - loss: 6.0001e-04 - mean_absolute_error: 0.0115\n",
      "Epoch 181/200\n",
      "\u001b[1m2645/2645\u001b[0m \u001b[32m━━━━━━━━━━━━━━━━━━━━\u001b[0m\u001b[37m\u001b[0m \u001b[1m11s\u001b[0m 4ms/step - loss: 6.4887e-04 - mean_absolute_error: 0.0118\n",
      "Epoch 182/200\n",
      "\u001b[1m2645/2645\u001b[0m \u001b[32m━━━━━━━━━━━━━━━━━━━━\u001b[0m\u001b[37m\u001b[0m \u001b[1m11s\u001b[0m 4ms/step - loss: 5.3062e-04 - mean_absolute_error: 0.0107\n",
      "Epoch 183/200\n",
      "\u001b[1m2645/2645\u001b[0m \u001b[32m━━━━━━━━━━━━━━━━━━━━\u001b[0m\u001b[37m\u001b[0m \u001b[1m11s\u001b[0m 4ms/step - loss: 5.9481e-04 - mean_absolute_error: 0.0115\n",
      "Epoch 184/200\n",
      "\u001b[1m2645/2645\u001b[0m \u001b[32m━━━━━━━━━━━━━━━━━━━━\u001b[0m\u001b[37m\u001b[0m \u001b[1m11s\u001b[0m 4ms/step - loss: 5.5638e-04 - mean_absolute_error: 0.0110\n",
      "Epoch 185/200\n",
      "\u001b[1m2645/2645\u001b[0m \u001b[32m━━━━━━━━━━━━━━━━━━━━\u001b[0m\u001b[37m\u001b[0m \u001b[1m11s\u001b[0m 4ms/step - loss: 5.8161e-04 - mean_absolute_error: 0.0111\n",
      "Epoch 186/200\n",
      "\u001b[1m2645/2645\u001b[0m \u001b[32m━━━━━━━━━━━━━━━━━━━━\u001b[0m\u001b[37m\u001b[0m \u001b[1m11s\u001b[0m 4ms/step - loss: 5.5041e-04 - mean_absolute_error: 0.0110\n",
      "Epoch 187/200\n",
      "\u001b[1m2645/2645\u001b[0m \u001b[32m━━━━━━━━━━━━━━━━━━━━\u001b[0m\u001b[37m\u001b[0m \u001b[1m11s\u001b[0m 4ms/step - loss: 5.7373e-04 - mean_absolute_error: 0.0113\n",
      "Epoch 188/200\n",
      "\u001b[1m2645/2645\u001b[0m \u001b[32m━━━━━━━━━━━━━━━━━━━━\u001b[0m\u001b[37m\u001b[0m \u001b[1m11s\u001b[0m 4ms/step - loss: 5.6940e-04 - mean_absolute_error: 0.0111\n",
      "Epoch 189/200\n",
      "\u001b[1m2645/2645\u001b[0m \u001b[32m━━━━━━━━━━━━━━━━━━━━\u001b[0m\u001b[37m\u001b[0m \u001b[1m11s\u001b[0m 4ms/step - loss: 5.2928e-04 - mean_absolute_error: 0.0107\n",
      "Epoch 190/200\n",
      "\u001b[1m2645/2645\u001b[0m \u001b[32m━━━━━━━━━━━━━━━━━━━━\u001b[0m\u001b[37m\u001b[0m \u001b[1m11s\u001b[0m 4ms/step - loss: 5.5697e-04 - mean_absolute_error: 0.0111\n",
      "Epoch 191/200\n",
      "\u001b[1m2645/2645\u001b[0m \u001b[32m━━━━━━━━━━━━━━━━━━━━\u001b[0m\u001b[37m\u001b[0m \u001b[1m11s\u001b[0m 4ms/step - loss: 6.1390e-04 - mean_absolute_error: 0.0116\n",
      "Epoch 192/200\n",
      "\u001b[1m2645/2645\u001b[0m \u001b[32m━━━━━━━━━━━━━━━━━━━━\u001b[0m\u001b[37m\u001b[0m \u001b[1m11s\u001b[0m 4ms/step - loss: 5.4142e-04 - mean_absolute_error: 0.0110\n",
      "Epoch 193/200\n",
      "\u001b[1m2645/2645\u001b[0m \u001b[32m━━━━━━━━━━━━━━━━━━━━\u001b[0m\u001b[37m\u001b[0m \u001b[1m11s\u001b[0m 4ms/step - loss: 6.9843e-04 - mean_absolute_error: 0.0122\n",
      "Epoch 194/200\n",
      "\u001b[1m2645/2645\u001b[0m \u001b[32m━━━━━━━━━━━━━━━━━━━━\u001b[0m\u001b[37m\u001b[0m \u001b[1m11s\u001b[0m 4ms/step - loss: 5.6956e-04 - mean_absolute_error: 0.0114\n",
      "Epoch 195/200\n",
      "\u001b[1m2645/2645\u001b[0m \u001b[32m━━━━━━━━━━━━━━━━━━━━\u001b[0m\u001b[37m\u001b[0m \u001b[1m11s\u001b[0m 4ms/step - loss: 5.8876e-04 - mean_absolute_error: 0.0114\n",
      "Epoch 196/200\n",
      "\u001b[1m2645/2645\u001b[0m \u001b[32m━━━━━━━━━━━━━━━━━━━━\u001b[0m\u001b[37m\u001b[0m \u001b[1m11s\u001b[0m 4ms/step - loss: 6.0221e-04 - mean_absolute_error: 0.0114\n",
      "Epoch 197/200\n",
      "\u001b[1m2645/2645\u001b[0m \u001b[32m━━━━━━━━━━━━━━━━━━━━\u001b[0m\u001b[37m\u001b[0m \u001b[1m11s\u001b[0m 4ms/step - loss: 5.1888e-04 - mean_absolute_error: 0.0107\n",
      "Epoch 198/200\n",
      "\u001b[1m2645/2645\u001b[0m \u001b[32m━━━━━━━━━━━━━━━━━━━━\u001b[0m\u001b[37m\u001b[0m \u001b[1m11s\u001b[0m 4ms/step - loss: 5.0629e-04 - mean_absolute_error: 0.0106\n",
      "Epoch 199/200\n",
      "\u001b[1m2645/2645\u001b[0m \u001b[32m━━━━━━━━━━━━━━━━━━━━\u001b[0m\u001b[37m\u001b[0m \u001b[1m11s\u001b[0m 4ms/step - loss: 5.5323e-04 - mean_absolute_error: 0.0111\n",
      "Epoch 200/200\n",
      "\u001b[1m2645/2645\u001b[0m \u001b[32m━━━━━━━━━━━━━━━━━━━━\u001b[0m\u001b[37m\u001b[0m \u001b[1m11s\u001b[0m 4ms/step - loss: 6.8725e-04 - mean_absolute_error: 0.0118\n",
      "CPU times: user 54min 55s, sys: 3min 56s, total: 58min 52s\n",
      "Wall time: 36min 9s\n"
     ]
    }
   ],
   "source": [
    "%%time\n",
    "with tf.device(devstr):\n",
    "    # history = model.fit(\n",
    "    #     x_tr,\n",
    "    #     y_tr,\n",
    "    #     epochs=epochs,\n",
    "    #     batch_size=batch_size,\n",
    "    #     shuffle=shuffle,\n",
    "    #     verbose=1,\n",
    "    #     callbacks=[],\n",
    "    # )\n",
    "    history = model.fit(train_gen, epochs=epochs)\n",
    "    history = history.history"
   ]
  },
  {
   "cell_type": "markdown",
   "id": "76396e42-842d-422b-823f-3b33af362a9b",
   "metadata": {},
   "source": [
    "## Parameters"
   ]
  },
  {
   "cell_type": "code",
   "execution_count": 135,
   "id": "fcf378e7-9eca-4c11-811d-e143923eafcd",
   "metadata": {},
   "outputs": [
    {
     "data": {
      "text/html": [
       "<pre style=\"white-space:pre;overflow-x:auto;line-height:normal;font-family:Menlo,'DejaVu Sans Mono',consolas,'Courier New',monospace\"><span style=\"font-weight: bold\">Model: \"sequential_6\"</span>\n",
       "</pre>\n"
      ],
      "text/plain": [
       "\u001b[1mModel: \"sequential_6\"\u001b[0m\n"
      ]
     },
     "metadata": {},
     "output_type": "display_data"
    },
    {
     "data": {
      "text/html": [
       "<pre style=\"white-space:pre;overflow-x:auto;line-height:normal;font-family:Menlo,'DejaVu Sans Mono',consolas,'Courier New',monospace\">┏━━━━━━━━━━━━━━━━━━━━━━━━━━━━━━━━━┳━━━━━━━━━━━━━━━━━━━━━━━━┳━━━━━━━━━━━━━━━┓\n",
       "┃<span style=\"font-weight: bold\"> Layer (type)                    </span>┃<span style=\"font-weight: bold\"> Output Shape           </span>┃<span style=\"font-weight: bold\">       Param # </span>┃\n",
       "┡━━━━━━━━━━━━━━━━━━━━━━━━━━━━━━━━━╇━━━━━━━━━━━━━━━━━━━━━━━━╇━━━━━━━━━━━━━━━┩\n",
       "│ dense_18 (<span style=\"color: #0087ff; text-decoration-color: #0087ff\">Dense</span>)                │ (<span style=\"color: #00d7ff; text-decoration-color: #00d7ff\">None</span>, <span style=\"color: #00af00; text-decoration-color: #00af00\">72</span>)             │         <span style=\"color: #00af00; text-decoration-color: #00af00\">1,368</span> │\n",
       "├─────────────────────────────────┼────────────────────────┼───────────────┤\n",
       "│ dense_19 (<span style=\"color: #0087ff; text-decoration-color: #0087ff\">Dense</span>)                │ (<span style=\"color: #00d7ff; text-decoration-color: #00d7ff\">None</span>, <span style=\"color: #00af00; text-decoration-color: #00af00\">72</span>)             │         <span style=\"color: #00af00; text-decoration-color: #00af00\">5,256</span> │\n",
       "├─────────────────────────────────┼────────────────────────┼───────────────┤\n",
       "│ dense_20 (<span style=\"color: #0087ff; text-decoration-color: #0087ff\">Dense</span>)                │ (<span style=\"color: #00d7ff; text-decoration-color: #00d7ff\">None</span>, <span style=\"color: #00af00; text-decoration-color: #00af00\">256</span>)            │        <span style=\"color: #00af00; text-decoration-color: #00af00\">18,688</span> │\n",
       "└─────────────────────────────────┴────────────────────────┴───────────────┘\n",
       "</pre>\n"
      ],
      "text/plain": [
       "┏━━━━━━━━━━━━━━━━━━━━━━━━━━━━━━━━━┳━━━━━━━━━━━━━━━━━━━━━━━━┳━━━━━━━━━━━━━━━┓\n",
       "┃\u001b[1m \u001b[0m\u001b[1mLayer (type)                   \u001b[0m\u001b[1m \u001b[0m┃\u001b[1m \u001b[0m\u001b[1mOutput Shape          \u001b[0m\u001b[1m \u001b[0m┃\u001b[1m \u001b[0m\u001b[1m      Param #\u001b[0m\u001b[1m \u001b[0m┃\n",
       "┡━━━━━━━━━━━━━━━━━━━━━━━━━━━━━━━━━╇━━━━━━━━━━━━━━━━━━━━━━━━╇━━━━━━━━━━━━━━━┩\n",
       "│ dense_18 (\u001b[38;5;33mDense\u001b[0m)                │ (\u001b[38;5;45mNone\u001b[0m, \u001b[38;5;34m72\u001b[0m)             │         \u001b[38;5;34m1,368\u001b[0m │\n",
       "├─────────────────────────────────┼────────────────────────┼───────────────┤\n",
       "│ dense_19 (\u001b[38;5;33mDense\u001b[0m)                │ (\u001b[38;5;45mNone\u001b[0m, \u001b[38;5;34m72\u001b[0m)             │         \u001b[38;5;34m5,256\u001b[0m │\n",
       "├─────────────────────────────────┼────────────────────────┼───────────────┤\n",
       "│ dense_20 (\u001b[38;5;33mDense\u001b[0m)                │ (\u001b[38;5;45mNone\u001b[0m, \u001b[38;5;34m256\u001b[0m)            │        \u001b[38;5;34m18,688\u001b[0m │\n",
       "└─────────────────────────────────┴────────────────────────┴───────────────┘\n"
      ]
     },
     "metadata": {},
     "output_type": "display_data"
    },
    {
     "data": {
      "text/html": [
       "<pre style=\"white-space:pre;overflow-x:auto;line-height:normal;font-family:Menlo,'DejaVu Sans Mono',consolas,'Courier New',monospace\"><span style=\"font-weight: bold\"> Total params: </span><span style=\"color: #00af00; text-decoration-color: #00af00\">75,938</span> (296.64 KB)\n",
       "</pre>\n"
      ],
      "text/plain": [
       "\u001b[1m Total params: \u001b[0m\u001b[38;5;34m75,938\u001b[0m (296.64 KB)\n"
      ]
     },
     "metadata": {},
     "output_type": "display_data"
    },
    {
     "data": {
      "text/html": [
       "<pre style=\"white-space:pre;overflow-x:auto;line-height:normal;font-family:Menlo,'DejaVu Sans Mono',consolas,'Courier New',monospace\"><span style=\"font-weight: bold\"> Trainable params: </span><span style=\"color: #00af00; text-decoration-color: #00af00\">25,312</span> (98.88 KB)\n",
       "</pre>\n"
      ],
      "text/plain": [
       "\u001b[1m Trainable params: \u001b[0m\u001b[38;5;34m25,312\u001b[0m (98.88 KB)\n"
      ]
     },
     "metadata": {},
     "output_type": "display_data"
    },
    {
     "data": {
      "text/html": [
       "<pre style=\"white-space:pre;overflow-x:auto;line-height:normal;font-family:Menlo,'DejaVu Sans Mono',consolas,'Courier New',monospace\"><span style=\"font-weight: bold\"> Non-trainable params: </span><span style=\"color: #00af00; text-decoration-color: #00af00\">0</span> (0.00 B)\n",
       "</pre>\n"
      ],
      "text/plain": [
       "\u001b[1m Non-trainable params: \u001b[0m\u001b[38;5;34m0\u001b[0m (0.00 B)\n"
      ]
     },
     "metadata": {},
     "output_type": "display_data"
    },
    {
     "data": {
      "text/html": [
       "<pre style=\"white-space:pre;overflow-x:auto;line-height:normal;font-family:Menlo,'DejaVu Sans Mono',consolas,'Courier New',monospace\"><span style=\"font-weight: bold\"> Optimizer params: </span><span style=\"color: #00af00; text-decoration-color: #00af00\">50,626</span> (197.76 KB)\n",
       "</pre>\n"
      ],
      "text/plain": [
       "\u001b[1m Optimizer params: \u001b[0m\u001b[38;5;34m50,626\u001b[0m (197.76 KB)\n"
      ]
     },
     "metadata": {},
     "output_type": "display_data"
    }
   ],
   "source": [
    "model.summary()"
   ]
  },
  {
   "cell_type": "markdown",
   "id": "c0f108f4-f7d8-4953-94b1-3738c8450cd5",
   "metadata": {},
   "source": [
    "## Save model\n",
    "\n",
    "- Save model to NN model directory `../../neural/data` after training.\n",
    "- File name includes loss values, so shouldn't override anything."
   ]
  },
  {
   "cell_type": "markdown",
   "id": "1d88efcd-4876-44f9-bb94-3cbb657eb187",
   "metadata": {},
   "source": [
    "### Get a descriptive filename for the model"
   ]
  },
  {
   "cell_type": "code",
   "execution_count": 139,
   "id": "474e7499-1bcc-4800-a9d7-44f4de890be9",
   "metadata": {},
   "outputs": [],
   "source": [
    "comm = \"test01\"\n",
    "neurons_str = (np.array2string(np.array(neurons)).strip(\"[]\").replace(\" \", \"_\"))\n",
    "source = kdist[12:].strip(\".nc\")\n",
    "fpath_keras = (\"../../neural/data/\" + source + \"_\" + predictand[3:] + \"_\" +\n",
    "               neurons_str + \"_\" + comm + \".h5\")\n",
    "fpath_netcdf = fpath_keras[:-3] + \".nc\""
   ]
  },
  {
   "cell_type": "code",
   "execution_count": 141,
   "id": "9df3c95c-7cbf-49db-83df-10ad2d4d1492",
   "metadata": {},
   "outputs": [
    {
     "data": {
      "text/plain": [
       "'../../neural/data/lw-g128-210809_both_72_72_test01.h5'"
      ]
     },
     "execution_count": 141,
     "metadata": {},
     "output_type": "execute_result"
    }
   ],
   "source": [
    "fpath_keras"
   ]
  },
  {
   "cell_type": "code",
   "execution_count": 140,
   "id": "27529735-f9c8-450e-85ff-a2af4583f644",
   "metadata": {},
   "outputs": [
    {
     "data": {
      "text/plain": [
       "'../../neural/data/lw-g128-210809_both_72_72_test01.nc'"
      ]
     },
     "execution_count": 140,
     "metadata": {},
     "output_type": "execute_result"
    }
   ],
   "source": [
    "fpath_netcdf"
   ]
  },
  {
   "cell_type": "markdown",
   "id": "3dc28cf4-f390-45ab-9359-c9e68f978690",
   "metadata": {},
   "source": [
    "### Saving model in both netCDF and HDF5 format"
   ]
  },
  {
   "cell_type": "code",
   "execution_count": null,
   "id": "48592f67-6c37-4dea-a8ea-fceff19a322e",
   "metadata": {},
   "outputs": [],
   "source": [
    "model.save(fpath_keras, save_format=\"h5\")"
   ]
  },
  {
   "cell_type": "code",
   "execution_count": 42,
   "id": "4ec39ff6-9491-45e3-b892-f17c45131801",
   "metadata": {},
   "outputs": [],
   "source": [
    "save_model_netcdf(fpath_netcdf,\n",
    "                  model,\n",
    "                  activ,\n",
    "                  input_names,\n",
    "                  kdist,\n",
    "                  xmin,\n",
    "                  xmax,\n",
    "                  ymean,\n",
    "                  ystd,\n",
    "                  y_scaling_comment=y_scaling_str,\n",
    "                  x_scaling_comment=x_scaling_str,\n",
    "                  data_comment=data_str,\n",
    "                  model_comment=model_str)"
   ]
  },
  {
   "cell_type": "markdown",
   "id": "c49e90b4-7580-4d8a-a35e-bcbdbb59f602",
   "metadata": {},
   "source": [
    "## References"
   ]
  },
  {
   "cell_type": "markdown",
   "id": "d73c9652-39f2-40e9-becf-249d55e8f188",
   "metadata": {},
   "source": [
    "Ukkonen, P., & Hogan, R. J. (2023). Implementation of a machine-learned gas optics parameterization in the ECMWF Integrated Forecasting System: RRTMGP-NN 2.0. Geoscientific Model Development, 16(11), 3241–3261. https://doi.org/10.5194/gmd-16-3241-2023\n",
    "\n",
    "Ukkonen, P., & Hogan, R. J. (2024). Twelve Times Faster yet Accurate: A New State-Of-The-Art in Radiation Schemes via Performance and Spectral Optimization. Journal of Advances in Modeling Earth Systems, 16(1), e2023MS003932. https://doi.org/10.1029/2023MS003932\n",
    "\n",
    "Ukkonen, P., & Hogan, R. J. (2023). Fast computation of cloud 3D radiative effects in dynamical models by optimizing the ecRad scheme [Preprint]. Preprints. https://doi.org/10.22541/essoar.168298700.07329865/v1\n",
    "\n",
    "Ukkonen, P. (2022). Improving the trade-off between accuracy and efficiency of atmospheric radiative transfer computations by using machine learning and code optimization. http://dx.doi.org/10.13140/RG.2.2.27880.03846\n",
    "\n",
    "Ukkonen, P. (2022). Exploring Pathways to More Accurate Machine Learning Emulation of Atmospheric Radiative Transfer. Journal of Advances in Modeling Earth Systems, 14(4), e2021MS002875. https://doi.org/10.1029/2021MS002875\n",
    "\n",
    "Yao, Y., Zhong, X., Zheng, Y., & Wang, Z. (2023). A Physics-Incorporated Deep Learning Framework for Parameterization of Atmospheric Radiative Transfer. Journal of Advances in Modeling Earth Systems, 15(5), e2022MS003445. https://doi.org/10.1029/2022MS003445"
   ]
  },
  {
   "cell_type": "markdown",
   "id": "e0c15aff-a7b7-4d56-81a4-9b610184f6c8",
   "metadata": {},
   "source": [
    "## Save environment\n",
    "\n",
    "Saves the environment for documentation purposes"
   ]
  },
  {
   "cell_type": "code",
   "execution_count": null,
   "id": "eb3a9a47-5ffb-4c4e-9811-5b625721349a",
   "metadata": {},
   "outputs": [],
   "source": [
    "%%bash\n",
    "source ${HOME}/conda/bin/activate tf2\n",
    "conda export --file ukk23test01-train-02.yml"
   ]
  },
  {
   "cell_type": "markdown",
   "id": "8c0b96f4-f08d-4fc9-befc-3952fca22d51",
   "metadata": {},
   "source": [
    "Data"
   ]
  },
  {
   "cell_type": "code",
   "execution_count": null,
   "id": "1320bfd5-ffd6-4b59-aa70-c10ef02d392d",
   "metadata": {},
   "outputs": [],
   "source": [
    "%%bash\n",
    "ls -1 ukk23test01/neural/data/ > neur_data.txt\n",
    "ls -1 ukk23test01/rrtmgp/data/ > rrtm_data.txt\n",
    "ls -1 ukk23test01/examples/rfmip-clear-sky/data/ > exam_rfmi_data.txt\n",
    "ls -1 ukk23test01/examples/rfmip-clear-sky/output_fluxes/ > exam_rfmi_flux.txt\n",
    "ls -1 ukk23test01/examples/rrtmgp-nn-training/data/ > exam_rrtm_data.txt\n",
    "ls -1 ukk23test01/examples/rrtmgp-nn-training/inputs_to_RRTMGP/ >  exam_rrtm_rrtm.txt"
   ]
  }
 ],
 "metadata": {
  "kernelspec": {
   "display_name": "tf2",
   "language": "python",
   "name": "tf2"
  },
  "language_info": {
   "codemirror_mode": {
    "name": "ipython",
    "version": 3
   },
   "file_extension": ".py",
   "mimetype": "text/x-python",
   "name": "python",
   "nbconvert_exporter": "python",
   "pygments_lexer": "ipython3",
   "version": "3.12.6"
  }
 },
 "nbformat": 4,
 "nbformat_minor": 5
}
