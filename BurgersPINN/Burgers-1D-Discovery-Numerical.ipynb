{
 "cells": [
  {
   "cell_type": "markdown",
   "id": "62aa1e18-e0c3-45cd-a14d-6242817993cb",
   "metadata": {},
   "source": [
    "# 1D Burgers Data-Driven Parameter Discovery Numerical\n",
    "\n",
    "*Last edited: 2024-05-16*"
   ]
  },
  {
   "cell_type": "markdown",
   "id": "5350e838-720b-4db2-ae47-280e07f0d0f3",
   "metadata": {},
   "source": [
    "This work is based on:\n",
    "\n",
    "* *PySINDy* - [Sparse regression package](<https://pysindy.readthedocs.io/en/latest/examples/10_PDEFIND_examples/example.html#Test-PDE-functionality-on-Burgers'-equation>) with several implementations for the Sparse Identification of Nonlinear Dynamical systems (SINDy) method introduced in Brunton et al. (2016)"
   ]
  },
  {
   "cell_type": "code",
   "execution_count": 1,
   "id": "3d7d2bc5-6e7c-432c-a201-fa823154b969",
   "metadata": {},
   "outputs": [],
   "source": [
    "import matplotlib.pyplot as plt\n",
    "from matplotlib.cm import rainbow\n",
    "import matplotlib.gridspec as gridspec\n",
    "from mpl_toolkits.axes_grid1 import make_axes_locatable\n",
    "from mpl_toolkits.mplot3d import Axes3D\n",
    "from scipy.integrate import solve_ivp\n",
    "from scipy.io import loadmat\n",
    "import pysindy as ps\n",
    "from pysindy.utils import linear_damped_SHO\n",
    "from pysindy.utils import cubic_damped_SHO\n",
    "from pysindy.utils import linear_3D\n",
    "from pysindy.utils import hopf\n",
    "from pysindy.utils import lorenz\n",
    "import warnings\n",
    "import numpy as np\n",
    "# Seed for reproducibility\n",
    "np.random.seed(1000)\n",
    "# ignore user warnings\n",
    "warnings.filterwarnings(\"ignore\", category=UserWarning)"
   ]
  },
  {
   "cell_type": "markdown",
   "id": "7ceaf9f4-5dc4-466b-a349-f0ba5b66fd69",
   "metadata": {},
   "source": [
    "Burgers' equation is $u_t = 0.003183 u_{xx} - uu_x$, meaning:\n",
    "\n",
    "$\\displaystyle \\frac{\\partial u}{\\partial t} = 0.003183 \\frac{\\partial^2u}{\\partial x^2} - u \\frac{\\partial u}{\\partial x}$"
   ]
  },
  {
   "cell_type": "markdown",
   "id": "0ec8e908-1482-4982-9b5e-1b6b45dc72fe",
   "metadata": {},
   "source": [
    "The original Burgers equation is\n",
    "\n",
    "$$\n",
    "\\displaystyle \\frac{\\partial u}{\\partial t} = \\nu \\frac{\\partial^2 u}{\\partial x^2} - u \\frac{\\partial u}{\\partial x}\n",
    "$$\n",
    "\n",
    "for -1.0 < $x$ < +1.0\n",
    "\n",
    "and $t$ > 0\n",
    "\n",
    "Initial conditions are $u(x, 0) = - \\sin(\\pi x)$\n",
    "\n",
    "Boundary conditions are $u(-1, t) = u(+1, t) = 0$\n",
    "\n",
    "The viscosity parameter $\\nu$ is taken to be $\\frac{0.01}{\\pi} = 0.003183$"
   ]
  },
  {
   "cell_type": "markdown",
   "id": "1fd620bf-1982-4d79-bf60-ff658d9bb502",
   "metadata": {},
   "source": [
    "The differential operator parameter $\\lambda_1$ (or $u$) is the speed of fluid at the indicated spatial and temporal coordinates, the differential operator parameter $\\lambda_2$ (or $\\nu$) is the kinematic viscosity of fluid, and the subscripts denote partial differentiation in time and space, respectively, as\n",
    "$u_t$ (which denotes $\\frac{du}{dt}$), \n",
    "$u_x$ (which denotes $\\frac{du}{dx}$), and \n",
    "$u_{xx}$ (which denotes $\\frac{d^2u}{dx^2}$)."
   ]
  },
  {
   "cell_type": "markdown",
   "id": "bbea6939-0036-4c91-ad06-55bd2aa4affc",
   "metadata": {},
   "source": [
    "## Methods\n",
    "\n",
    "* *STLSQ* - Sequentially thresholded least squares regression algorithm. Attempts to minimize the objective function by iteratively performing least squares and masking out elements of the weight that are below a given threshold.\n"
   ]
  },
  {
   "cell_type": "markdown",
   "id": "fd287225-c9dc-4235-aea8-c0d746550526",
   "metadata": {},
   "source": [
    "<hr style=\"height:10px;border-width:0;background-color:green\">\n",
    "\n",
    "## Problem 01\n",
    "\n",
    "viscosity = 0.01/np.pi"
   ]
  },
  {
   "cell_type": "markdown",
   "id": "3250ced7-fbe5-4fd8-9924-ab5e24764d81",
   "metadata": {},
   "source": [
    "### 128x64"
   ]
  },
  {
   "cell_type": "markdown",
   "id": "6b7fb851-37b3-4920-aa4b-5cda9fe890ae",
   "metadata": {},
   "source": [
    "The \"burgers_shock.mat\" dataset is the same as that used by Raissi et al. (2019):"
   ]
  },
  {
   "cell_type": "code",
   "execution_count": 47,
   "id": "edd90291-db29-49cd-884c-fe9b8371d3b1",
   "metadata": {
    "scrolled": true
   },
   "outputs": [],
   "source": [
    "# Load data from .mat file\n",
    "#data = loadmat('../data/burgers_shock.mat')\n",
    "data = np.load('../data/burgers128x64.npz')\n",
    "t = np.ravel(data['t'])  # ravel returns a contiguous flattened array\n",
    "x = np.ravel(data['x'])\n",
    "u = np.real(data['usol'])\n",
    "dt = t[1] - t[0]\n",
    "dx = x[1] - x[0]"
   ]
  },
  {
   "cell_type": "markdown",
   "id": "a0598314-b52c-48c3-8fcd-0eb171bae1bf",
   "metadata": {},
   "source": [
    "Show the dataset:"
   ]
  },
  {
   "cell_type": "code",
   "execution_count": 48,
   "id": "a8c76a26-787e-4eb3-88de-b9cb0cb65a73",
   "metadata": {
    "scrolled": true
   },
   "outputs": [
    {
     "data": {
      "image/png": "[encoded data removed]",
      "text/plain": [
       "<Figure size 600x150 with 1 Axes>"
      ]
     },
     "metadata": {},
     "output_type": "display_data"
    }
   ],
   "source": [
    "# Plot u\n",
    "plt.figure(figsize=(6, 1.5))\n",
    "plt.pcolormesh(t, x, u)\n",
    "plt.xlabel('t', fontsize=10)\n",
    "plt.ylabel('x', fontsize=10)\n",
    "plt.title(r'$u(x, t)$', fontsize=10)\n",
    "plt.show()"
   ]
  },
  {
   "cell_type": "code",
   "execution_count": 49,
   "id": "ca08a327-c860-4ab4-9292-c16e5aa8f186",
   "metadata": {
    "tags": []
   },
   "outputs": [
    {
     "data": {
      "image/png": "[encoded data removed]",
      "text/plain": [
       "<Figure size 640x480 with 1 Axes>"
      ]
     },
     "metadata": {},
     "output_type": "display_data"
    }
   ],
   "source": [
    "# u(t,x) slices\n",
    "Exact = u.T\n",
    "gs = gridspec.GridSpec(1, 1)\n",
    "gs.update(top=1 - 1.0 / 3.0 - 0.1,\n",
    "          bottom=1.0 - 2.0 / 3.0,\n",
    "          left=0.1,\n",
    "          right=0.9,\n",
    "          wspace=0.5)\n",
    "ax = plt.subplot(gs[0, 0])\n",
    "ax.plot(x, Exact[50, :], 'b-', linewidth=2, label='Exact')\n",
    "ax.set_xlabel('$x$')\n",
    "ax.set_ylabel('$u(t,x)$')\n",
    "ax.axis('square')\n",
    "ax.set_xlim([-1.1, 1.1])\n",
    "ax.set_ylim([-1.1, 1.1])\n",
    "ax.set_title('$t = 0.50$', fontsize=10)\n",
    "ax.legend(loc='upper center',\n",
    "          bbox_to_anchor=(0.5, -0.35),\n",
    "          ncol=5,\n",
    "          frameon=False)\n",
    "plt.show()"
   ]
  },
  {
   "cell_type": "markdown",
   "id": "0cf0b08f-bdba-467c-9872-47756e6221be",
   "metadata": {},
   "source": [
    "### Solve the equation (inverse problem)"
   ]
  },
  {
   "cell_type": "code",
   "execution_count": 50,
   "id": "d0ecac18-bb9f-4e4c-8788-85556dd60d83",
   "metadata": {},
   "outputs": [
    {
     "name": "stdout",
     "output_type": "stream",
     "text": [
      "Correct PDE: (u)' = 0.003183 u_11 - 1.0 uu_1\n",
      "CPU times: user 880 µs, sys: 0 ns, total: 880 µs\n",
      "Wall time: 830 µs\n"
     ]
    }
   ],
   "source": [
    "%%time\n",
    "\n",
    "u = u.reshape(len(x), len(t), 1)\n",
    "library_functions = [lambda x: x, lambda x: x * x]\n",
    "library_function_names = [lambda x: x, lambda x: x + x]\n",
    "\n",
    "pde_lib = ps.PDELibrary(library_functions=library_functions,\n",
    "                        function_names=library_function_names,\n",
    "                        derivative_order=3,\n",
    "                        spatial_grid=x,\n",
    "                        is_uniform=True)\n",
    "\n",
    "print(\"Correct PDE: (u)' = 0.003183 u_11 - 1.0 uu_1\")"
   ]
  },
  {
   "cell_type": "code",
   "execution_count": 51,
   "id": "9e470940-8f07-46fd-b08c-094d682b228d",
   "metadata": {},
   "outputs": [
    {
     "name": "stdout",
     "output_type": "stream",
     "text": [
      "Identified PDE using the STLSQ model: \n",
      "(u)' = 0.06420 u + 0.00505 u_11 + -1.06304 uu_1 + 0.00469 uuu_11 + -0.00001 uu_111\n",
      "CPU times: user 65.1 ms, sys: 11.8 ms, total: 76.9 ms\n",
      "Wall time: 39.5 ms\n"
     ]
    }
   ],
   "source": [
    "%%time\n",
    "\n",
    "# STQL Sequentially thresholded least squares\n",
    "optimizer = ps.STLSQ(threshold=2, alpha=1e-5, normalize_columns=True)\n",
    "model = ps.SINDy(feature_library=pde_lib,\n",
    "                 optimizer=optimizer,\n",
    "                 feature_names=[\"u\"])\n",
    "model.fit(u, t=dt)\n",
    "print('Identified PDE using the STLSQ model: ')\n",
    "model.print(precision=5)"
   ]
  },
  {
   "cell_type": "code",
   "execution_count": 7,
   "id": "92d3bf4f-1e51-4cdf-9667-c34f4fe17c1a",
   "metadata": {},
   "outputs": [
    {
     "name": "stdout",
     "output_type": "stream",
     "text": [
      "FROLs model: \n",
      "(u)' = -0.418 u\n",
      "CPU times: user 863 ms, sys: 36.6 ms, total: 900 ms\n",
      "Wall time: 186 ms\n"
     ]
    }
   ],
   "source": [
    "%%time\n",
    "\n",
    "# FROL Forward Regression Orthogonal Least-Squares\n",
    "# https://pysindy.readthedocs.io/en/latest/_modules/pysindy/optimizers/frols.html\n",
    "optimizer = ps.FROLS(normalize_columns=True, kappa=1e-3)\n",
    "model = ps.SINDy(feature_library=pde_lib,\n",
    "                 optimizer=optimizer,\n",
    "                 feature_names=[\"u\"])\n",
    "model.fit(u, t=dt)\n",
    "print('FROLs model: ')\n",
    "model.print()"
   ]
  },
  {
   "cell_type": "code",
   "execution_count": 8,
   "id": "bcd05aac-0826-4e98-a1f1-b3eed6e00020",
   "metadata": {},
   "outputs": [
    {
     "name": "stdout",
     "output_type": "stream",
     "text": [
      "SR3 model: \n",
      "(u)' = 0.064 u + 0.005 u_11 + -1.063 uu_1 + 0.005 uuu_11\n",
      "CPU times: user 708 ms, sys: 8.76 ms, total: 717 ms\n",
      "Wall time: 147 ms\n"
     ]
    }
   ],
   "source": [
    "%%time\n",
    "\n",
    "# SR3 Sparse relaxed regularized regression\n",
    "# https://pysindy.readthedocs.io/en/latest/_modules/pysindy/optimizers/sr3.html\n",
    "optimizer = ps.SR3(threshold=2,\n",
    "                   max_iter=10000,\n",
    "                   tol=1e-15,\n",
    "                   nu=1e2,\n",
    "                   thresholder=\"l0\",\n",
    "                   normalize_columns=True)\n",
    "model = ps.SINDy(feature_library=pde_lib,\n",
    "                 optimizer=optimizer,\n",
    "                 feature_names=[\"u\"])\n",
    "model.fit(u, t=dt)\n",
    "print('SR3 model: ')\n",
    "model.print()"
   ]
  },
  {
   "cell_type": "code",
   "execution_count": 9,
   "id": "51aea4df-7eff-45e1-a688-ff6a168466ed",
   "metadata": {},
   "outputs": [
    {
     "name": "stdout",
     "output_type": "stream",
     "text": [
      "SSR model: \n",
      "(u)' = 0.064 u + 0.005 u_11 + -1.063 uu_1 + 0.005 uuu_11\n",
      "CPU times: user 70.5 ms, sys: 0 ns, total: 70.5 ms\n",
      "Wall time: 17 ms\n"
     ]
    }
   ],
   "source": [
    "%%time\n",
    "\n",
    "# SSR Stepwise sparse regression\n",
    "# https://pysindy.readthedocs.io/en/latest/_modules/pysindy/optimizers/ssr.html\n",
    "optimizer = ps.SSR(normalize_columns=True, kappa=1)\n",
    "model = ps.SINDy(feature_library=pde_lib,\n",
    "                 optimizer=optimizer,\n",
    "                 feature_names=[\"u\"])\n",
    "model.fit(u, t=dt)\n",
    "print('SSR model: ')\n",
    "model.print()"
   ]
  },
  {
   "cell_type": "markdown",
   "id": "9e3af2d1-355b-48f1-a9d5-8042283fa555",
   "metadata": {},
   "source": [
    "## 256x128"
   ]
  },
  {
   "cell_type": "code",
   "execution_count": 10,
   "id": "98a43eb4-28b3-4f1a-bfba-cfc8c662aea5",
   "metadata": {
    "scrolled": true
   },
   "outputs": [],
   "source": [
    "# Load data from .mat file\n",
    "#data = loadmat('../data/burgers_shock.mat')\n",
    "data = np.load('../data/burgers256x128.npz')\n",
    "t = np.ravel(data['t'])  # ravel returns a contiguous flattened array\n",
    "x = np.ravel(data['x'])\n",
    "u = np.real(data['usol'])\n",
    "dt = t[1] - t[0]\n",
    "dx = x[1] - x[0]"
   ]
  },
  {
   "cell_type": "code",
   "execution_count": 11,
   "id": "9a331b7f-10eb-4438-8639-120132c87bf4",
   "metadata": {},
   "outputs": [
    {
     "name": "stdout",
     "output_type": "stream",
     "text": [
      "Correct PDE: (u)' = 0.003183 u_11 - 1.0 uu_1\n",
      "CPU times: user 781 µs, sys: 0 ns, total: 781 µs\n",
      "Wall time: 735 µs\n"
     ]
    }
   ],
   "source": [
    "%%time\n",
    "\n",
    "u = u.reshape(len(x), len(t), 1)\n",
    "library_functions = [lambda x: x, lambda x: x * x]\n",
    "library_function_names = [lambda x: x, lambda x: x + x]\n",
    "\n",
    "pde_lib = ps.PDELibrary(library_functions=library_functions,\n",
    "                        function_names=library_function_names,\n",
    "                        derivative_order=3,\n",
    "                        spatial_grid=x,\n",
    "                        is_uniform=True)\n",
    "\n",
    "print(\"Correct PDE: (u)' = 0.003183 u_11 - 1.0 uu_1\")"
   ]
  },
  {
   "cell_type": "code",
   "execution_count": 12,
   "id": "79c89b56-a5d2-4325-bd5f-61a96264d244",
   "metadata": {},
   "outputs": [
    {
     "name": "stdout",
     "output_type": "stream",
     "text": [
      "Identified PDE using the STLSQ model: \n",
      "(u)' = 0.00395 u_11 + -1.00869 uu_1 + 0.00126 uuu_11\n",
      "CPU times: user 81.6 ms, sys: 40.5 ms, total: 122 ms\n",
      "Wall time: 60.8 ms\n"
     ]
    }
   ],
   "source": [
    "%%time\n",
    "\n",
    "# STQL Sequentially thresholded least squares\n",
    "optimizer = ps.STLSQ(threshold=2, alpha=1e-5, normalize_columns=True)\n",
    "model = ps.SINDy(feature_library=pde_lib,\n",
    "                 optimizer=optimizer,\n",
    "                 feature_names=[\"u\"])\n",
    "model.fit(u, t=dt)\n",
    "print('Identified PDE using the STLSQ model: ')\n",
    "model.print(precision=5)"
   ]
  },
  {
   "cell_type": "code",
   "execution_count": 13,
   "id": "765b6714-8459-4f78-b04a-f667aa3f1dca",
   "metadata": {},
   "outputs": [
    {
     "name": "stdout",
     "output_type": "stream",
     "text": [
      "FROLs model: \n",
      "(u)' = 0.015 u + 0.004 u_11 + -1.003 uu_1\n",
      "CPU times: user 354 ms, sys: 5.15 ms, total: 359 ms\n",
      "Wall time: 69.7 ms\n"
     ]
    }
   ],
   "source": [
    "%%time\n",
    "\n",
    "# FROL Forward Regression Orthogonal Least-Squares\n",
    "# https://pysindy.readthedocs.io/en/latest/_modules/pysindy/optimizers/frols.html\n",
    "optimizer = ps.FROLS(normalize_columns=True, kappa=1e-3)\n",
    "model = ps.SINDy(feature_library=pde_lib,\n",
    "                 optimizer=optimizer,\n",
    "                 feature_names=[\"u\"])\n",
    "model.fit(u, t=dt)\n",
    "print('FROLs model: ')\n",
    "model.print()"
   ]
  },
  {
   "cell_type": "code",
   "execution_count": 14,
   "id": "93e69097-3bda-4941-a8ba-551d60d01e14",
   "metadata": {},
   "outputs": [
    {
     "name": "stdout",
     "output_type": "stream",
     "text": [
      "SR3 model: \n",
      "(u)' = 0.004 u_11 + -1.009 uu_1 + 0.001 uuu_11\n",
      "CPU times: user 860 ms, sys: 24.6 ms, total: 884 ms\n",
      "Wall time: 236 ms\n"
     ]
    }
   ],
   "source": [
    "%%time\n",
    "\n",
    "# SR3 Sparse relaxed regularized regression\n",
    "# https://pysindy.readthedocs.io/en/latest/_modules/pysindy/optimizers/sr3.html\n",
    "optimizer = ps.SR3(threshold=2,\n",
    "                   max_iter=10000,\n",
    "                   tol=1e-15,\n",
    "                   nu=1e2,\n",
    "                   thresholder=\"l0\",\n",
    "                   normalize_columns=True)\n",
    "model = ps.SINDy(feature_library=pde_lib,\n",
    "                 optimizer=optimizer,\n",
    "                 feature_names=[\"u\"])\n",
    "model.fit(u, t=dt)\n",
    "print('SR3 model: ')\n",
    "model.print()"
   ]
  },
  {
   "cell_type": "code",
   "execution_count": 15,
   "id": "8e346473-1242-4b30-a173-96264ed565c8",
   "metadata": {},
   "outputs": [
    {
     "name": "stdout",
     "output_type": "stream",
     "text": [
      "SSR model: \n",
      "(u)' = 0.011 u + 0.004 u_11 + -1.011 uu_1 + 0.001 uuu_11\n",
      "CPU times: user 211 ms, sys: 45.5 ms, total: 257 ms\n",
      "Wall time: 42.7 ms\n"
     ]
    }
   ],
   "source": [
    "%%time\n",
    "\n",
    "# SSR Stepwise sparse regression\n",
    "# https://pysindy.readthedocs.io/en/latest/_modules/pysindy/optimizers/ssr.html\n",
    "optimizer = ps.SSR(normalize_columns=True, kappa=1)\n",
    "model = ps.SINDy(feature_library=pde_lib,\n",
    "                 optimizer=optimizer,\n",
    "                 feature_names=[\"u\"])\n",
    "model.fit(u, t=dt)\n",
    "print('SSR model: ')\n",
    "model.print()"
   ]
  },
  {
   "cell_type": "markdown",
   "id": "e1f5087d-2c79-41ac-9c1a-95396834f71e",
   "metadata": {},
   "source": [
    "## 512x256"
   ]
  },
  {
   "cell_type": "code",
   "execution_count": 41,
   "id": "75e04ede-380d-4962-8f38-4b2449ce9c40",
   "metadata": {
    "scrolled": true
   },
   "outputs": [],
   "source": [
    "# Load data from .mat file\n",
    "#data = loadmat('../data/burgers_shock.mat')\n",
    "data = np.load('../data/burgers512x256.npz')\n",
    "t = np.ravel(data['t'])  # ravel returns a contiguous flattened array\n",
    "x = np.ravel(data['x'])\n",
    "u = np.real(data['usol'])\n",
    "dt = t[1] - t[0]\n",
    "dx = x[1] - x[0]"
   ]
  },
  {
   "cell_type": "code",
   "execution_count": 42,
   "id": "0db8ae56-df80-4e1c-8f0d-9e77670bde16",
   "metadata": {},
   "outputs": [
    {
     "name": "stdout",
     "output_type": "stream",
     "text": [
      "Correct PDE: (u)' = 0.003183 u_11 - 1.0 uu_1\n",
      "CPU times: user 446 µs, sys: 0 ns, total: 446 µs\n",
      "Wall time: 401 µs\n"
     ]
    }
   ],
   "source": [
    "%%time\n",
    "\n",
    "u = u.reshape(len(x), len(t), 1)\n",
    "library_functions = [lambda x: x, lambda x: x * x]\n",
    "library_function_names = [lambda x: x, lambda x: x + x]\n",
    "\n",
    "pde_lib = ps.PDELibrary(library_functions=library_functions,\n",
    "                        function_names=library_function_names,\n",
    "                        derivative_order=3,\n",
    "                        spatial_grid=x,\n",
    "                        is_uniform=True)\n",
    "\n",
    "print(\"Correct PDE: (u)' = 0.003183 u_11 - 1.0 uu_1\")"
   ]
  },
  {
   "cell_type": "code",
   "execution_count": 43,
   "id": "6785a60c-2705-4c24-ade1-dbe40fb9acd9",
   "metadata": {},
   "outputs": [
    {
     "name": "stdout",
     "output_type": "stream",
     "text": [
      "Identified PDE using the STLSQ model: \n",
      "(u)' = 0.00339 u_11 + -1.00534 uu_1 + 0.00041 uuu_11\n",
      "CPU times: user 346 ms, sys: 36.1 ms, total: 382 ms\n",
      "Wall time: 118 ms\n"
     ]
    }
   ],
   "source": [
    "%%time\n",
    "\n",
    "# STQL Sequentially thresholded least squares\n",
    "optimizer = ps.STLSQ(threshold=2, alpha=1e-5, normalize_columns=True)\n",
    "model = ps.SINDy(feature_library=pde_lib,\n",
    "                 optimizer=optimizer,\n",
    "                 feature_names=[\"u\"])\n",
    "model.fit(u, t=dt)\n",
    "print('Identified PDE using the STLSQ model: ')\n",
    "model.print(precision=5)"
   ]
  },
  {
   "cell_type": "code",
   "execution_count": 44,
   "id": "7c127604-0c09-46a2-a05c-2c24b430f129",
   "metadata": {},
   "outputs": [
    {
     "name": "stdout",
     "output_type": "stream",
     "text": [
      "FROLs model: \n",
      "(u)' = 0.006 u + 0.004 u_11 + -1.006 uu_1\n",
      "CPU times: user 3.33 s, sys: 94.7 ms, total: 3.42 s\n",
      "Wall time: 632 ms\n"
     ]
    }
   ],
   "source": [
    "%%time\n",
    "\n",
    "# FROL Forward Regression Orthogonal Least-Squares\n",
    "# https://pysindy.readthedocs.io/en/latest/_modules/pysindy/optimizers/frols.html\n",
    "optimizer = ps.FROLS(normalize_columns=True, kappa=1e-3)\n",
    "model = ps.SINDy(feature_library=pde_lib,\n",
    "                 optimizer=optimizer,\n",
    "                 feature_names=[\"u\"])\n",
    "model.fit(u, t=dt)\n",
    "print('FROLs model: ')\n",
    "model.print()"
   ]
  },
  {
   "cell_type": "code",
   "execution_count": 45,
   "id": "72508134-e02c-4d66-ba9a-9a3994d4f29a",
   "metadata": {},
   "outputs": [
    {
     "name": "stdout",
     "output_type": "stream",
     "text": [
      "SR3 model: \n",
      "(u)' = 0.003 u_11 + -1.005 uu_1\n",
      "CPU times: user 339 ms, sys: 35.7 ms, total: 375 ms\n",
      "Wall time: 117 ms\n"
     ]
    }
   ],
   "source": [
    "%%time\n",
    "\n",
    "# SR3 Sparse relaxed regularized regression\n",
    "# https://pysindy.readthedocs.io/en/latest/_modules/pysindy/optimizers/sr3.html\n",
    "optimizer = ps.SR3(threshold=2,\n",
    "                   max_iter=10000,\n",
    "                   tol=1e-15,\n",
    "                   nu=1e2,\n",
    "                   thresholder=\"l0\",\n",
    "                   normalize_columns=True)\n",
    "model = ps.SINDy(feature_library=pde_lib,\n",
    "                 optimizer=optimizer,\n",
    "                 feature_names=[\"u\"])\n",
    "model.fit(u, t=dt)\n",
    "print('SR3 model: ')\n",
    "model.print()"
   ]
  },
  {
   "cell_type": "code",
   "execution_count": 46,
   "id": "f320bb6e-3c3d-440c-9206-2305a235c069",
   "metadata": {},
   "outputs": [
    {
     "name": "stdout",
     "output_type": "stream",
     "text": [
      "SSR model: \n",
      "(u)' = 0.006 u + 0.003 u_11 + -1.007 uu_1\n",
      "CPU times: user 808 ms, sys: 36.5 ms, total: 845 ms\n",
      "Wall time: 196 ms\n"
     ]
    }
   ],
   "source": [
    "%%time\n",
    "\n",
    "# SSR Stepwise sparse regression\n",
    "# https://pysindy.readthedocs.io/en/latest/_modules/pysindy/optimizers/ssr.html\n",
    "optimizer = ps.SSR(normalize_columns=True, kappa=1)\n",
    "model = ps.SINDy(feature_library=pde_lib,\n",
    "                 optimizer=optimizer,\n",
    "                 feature_names=[\"u\"])\n",
    "model.fit(u, t=dt)\n",
    "print('SSR model: ')\n",
    "model.print()"
   ]
  },
  {
   "cell_type": "markdown",
   "id": "92c41e93-9e72-43ae-b89e-f2ac7e0f2c1f",
   "metadata": {},
   "source": [
    "<hr style=\"height:10px;border-width:0;background-color:green\">\n",
    "\n",
    "## Problem 02\n",
    "\n",
    "viscosity = 0.1/np.pi"
   ]
  },
  {
   "cell_type": "markdown",
   "id": "dfbe830f-1572-4ae5-a252-8e51b479d3d0",
   "metadata": {},
   "source": [
    "### 128x64"
   ]
  },
  {
   "cell_type": "code",
   "execution_count": 20,
   "id": "734159dd-6073-4d99-8bfc-5ffc4a7b6887",
   "metadata": {
    "scrolled": true
   },
   "outputs": [],
   "source": [
    "# Load data from .mat file\n",
    "#data = loadmat('../data/burgers-pysindy.mat')\n",
    "data = np.load('../data/burgers128x64-02.npz')\n",
    "t = np.ravel(data['t'])\n",
    "x = np.ravel(data['x'])\n",
    "u = np.real(data['usol'])\n",
    "dt = t[1] - t[0]\n",
    "dx = x[1] - x[0]"
   ]
  },
  {
   "cell_type": "markdown",
   "id": "4c191b2f-b940-4634-a146-3251383eaaad",
   "metadata": {},
   "source": [
    "Show the dataset:"
   ]
  },
  {
   "cell_type": "code",
   "execution_count": 21,
   "id": "1f968521-2bf9-4823-bba5-b55e54796275",
   "metadata": {},
   "outputs": [
    {
     "data": {
      "image/png": "[encoded data removed]",
      "text/plain": [
       "<Figure size 600x300 with 1 Axes>"
      ]
     },
     "metadata": {},
     "output_type": "display_data"
    }
   ],
   "source": [
    "# Plot u\n",
    "plt.figure(figsize=(6, 3))\n",
    "plt.pcolormesh(t, x, u)\n",
    "plt.xlabel('t', fontsize=10)\n",
    "plt.ylabel('x', fontsize=10)\n",
    "plt.title(r'$u(x, t)$', fontsize=10)\n",
    "plt.show()"
   ]
  },
  {
   "cell_type": "code",
   "execution_count": 22,
   "id": "0ef4d737-fd48-421a-b734-9cf5668c2bdf",
   "metadata": {
    "tags": []
   },
   "outputs": [
    {
     "data": {
      "image/png": "[encoded data removed]",
      "text/plain": [
       "<Figure size 640x480 with 1 Axes>"
      ]
     },
     "metadata": {},
     "output_type": "display_data"
    }
   ],
   "source": [
    "# u(t,x) slices\n",
    "Exact = u.T\n",
    "gs = gridspec.GridSpec(1, 1)\n",
    "gs.update(top=1 - 1.0 / 3.0 - 0.1,\n",
    "          bottom=1.0 - 2.0 / 3.0,\n",
    "          left=0.1,\n",
    "          right=0.9,\n",
    "          wspace=0.5)\n",
    "ax = plt.subplot(gs[0, 0])\n",
    "ax.plot(x, Exact[50, :], 'b-', linewidth=2, label='Exact')\n",
    "ax.set_xlabel('$x$')\n",
    "ax.set_ylabel('$u(t,x)$')\n",
    "ax.axis('square')\n",
    "ax.set_xlim([-1.1, 1.1])\n",
    "ax.set_ylim([-1.1, 1.1])\n",
    "ax.set_title('$t = 0.50$', fontsize=10)\n",
    "ax.legend(loc='upper center',\n",
    "          bbox_to_anchor=(0.5, -0.35),\n",
    "          ncol=5,\n",
    "          frameon=False)\n",
    "plt.show()"
   ]
  },
  {
   "cell_type": "code",
   "execution_count": 23,
   "id": "0d6f81db-edef-4380-a565-b844c2c99105",
   "metadata": {},
   "outputs": [
    {
     "name": "stdout",
     "output_type": "stream",
     "text": [
      "Correct PDE: (u)' = 0.03183 u_11 - 1.0 uu_1\n",
      "CPU times: user 741 µs, sys: 94 µs, total: 835 µs\n",
      "Wall time: 785 µs\n"
     ]
    }
   ],
   "source": [
    "%%time\n",
    "\n",
    "u = u.reshape(len(x), len(t), 1)\n",
    "library_functions = [lambda x: x, lambda x: x * x]\n",
    "library_function_names = [lambda x: x, lambda x: x + x]\n",
    "\n",
    "pde_lib = ps.PDELibrary(library_functions=library_functions,\n",
    "                        function_names=library_function_names,\n",
    "                        derivative_order=3,\n",
    "                        spatial_grid=x,\n",
    "                        is_uniform=True)\n",
    "\n",
    "print(\"Correct PDE: (u)' = 0.03183 u_11 - 1.0 uu_1\")"
   ]
  },
  {
   "cell_type": "code",
   "execution_count": 24,
   "id": "92ba06e8-c1a7-4960-8413-1f378fa7931f",
   "metadata": {},
   "outputs": [
    {
     "name": "stdout",
     "output_type": "stream",
     "text": [
      "Identified PDE using the STLSQ model: \n",
      "(u)' = 0.03222 u_11 + -1.00012 uu_1\n",
      "CPU times: user 25.5 ms, sys: 0 ns, total: 25.5 ms\n",
      "Wall time: 10.5 ms\n"
     ]
    }
   ],
   "source": [
    "%%time\n",
    "\n",
    "# STQL Sequentially thresholded least squares\n",
    "optimizer = ps.STLSQ(threshold=2, alpha=1e-5, normalize_columns=True)\n",
    "model = ps.SINDy(feature_library=pde_lib,\n",
    "                 optimizer=optimizer,\n",
    "                 feature_names=[\"u\"])\n",
    "model.fit(u, t=dt)\n",
    "print('Identified PDE using the STLSQ model: ')\n",
    "model.print(precision=5)"
   ]
  },
  {
   "cell_type": "code",
   "execution_count": 25,
   "id": "38b76fb4-36b6-4546-8071-a45c21d214b1",
   "metadata": {},
   "outputs": [
    {
     "name": "stdout",
     "output_type": "stream",
     "text": [
      "FROLs model: \n",
      "(u)' = 0.032 u_11 + -1.000 uu_1\n",
      "CPU times: user 170 ms, sys: 14.3 ms, total: 184 ms\n",
      "Wall time: 39 ms\n"
     ]
    }
   ],
   "source": [
    "%%time\n",
    "\n",
    "# FROL Forward Regression Orthogonal Least-Squares\n",
    "# https://pysindy.readthedocs.io/en/latest/_modules/pysindy/optimizers/frols.html\n",
    "optimizer = ps.FROLS(normalize_columns=True, kappa=1e-3)\n",
    "model = ps.SINDy(feature_library=pde_lib,\n",
    "                 optimizer=optimizer,\n",
    "                 feature_names=[\"u\"])\n",
    "model.fit(u, t=dt)\n",
    "print('FROLs model: ')\n",
    "model.print()"
   ]
  },
  {
   "cell_type": "code",
   "execution_count": 26,
   "id": "0c6f5780-e66f-488a-b41e-7b0d2cd18fa0",
   "metadata": {},
   "outputs": [
    {
     "name": "stdout",
     "output_type": "stream",
     "text": [
      "SR3 model: \n",
      "(u)' = 0.032 u_11 + -1.000 uu_1\n",
      "CPU times: user 18.3 ms, sys: 1.25 ms, total: 19.6 ms\n",
      "Wall time: 6.82 ms\n"
     ]
    }
   ],
   "source": [
    "%%time\n",
    "\n",
    "# SR3 Sparse relaxed regularized regression\n",
    "# https://pysindy.readthedocs.io/en/latest/_modules/pysindy/optimizers/sr3.html\n",
    "optimizer = ps.SR3(threshold=2,\n",
    "                   max_iter=10000,\n",
    "                   tol=1e-15,\n",
    "                   nu=1e2,\n",
    "                   thresholder=\"l0\",\n",
    "                   normalize_columns=True)\n",
    "model = ps.SINDy(feature_library=pde_lib,\n",
    "                 optimizer=optimizer,\n",
    "                 feature_names=[\"u\"])\n",
    "model.fit(u, t=dt)\n",
    "print('SR3 model: ')\n",
    "model.print()"
   ]
  },
  {
   "cell_type": "code",
   "execution_count": 27,
   "id": "57483c97-8260-415a-a45b-75a569ae6aae",
   "metadata": {},
   "outputs": [
    {
     "name": "stdout",
     "output_type": "stream",
     "text": [
      "SSR model: \n",
      "(u)' = 0.003 u + 0.032 u_11 + -1.002 uu_1\n",
      "CPU times: user 273 ms, sys: 3.07 ms, total: 276 ms\n",
      "Wall time: 61.4 ms\n"
     ]
    }
   ],
   "source": [
    "%%time\n",
    "\n",
    "# SSR Stepwise sparse regression\n",
    "# https://pysindy.readthedocs.io/en/latest/_modules/pysindy/optimizers/ssr.html\n",
    "optimizer = ps.SSR(normalize_columns=True, kappa=1)\n",
    "model = ps.SINDy(feature_library=pde_lib,\n",
    "                 optimizer=optimizer,\n",
    "                 feature_names=[\"u\"])\n",
    "model.fit(u, t=dt)\n",
    "print('SSR model: ')\n",
    "model.print()"
   ]
  },
  {
   "cell_type": "markdown",
   "id": "2833ad9a-a7bb-4908-899c-0487b0f2f8d7",
   "metadata": {},
   "source": [
    "## 256x128"
   ]
  },
  {
   "cell_type": "code",
   "execution_count": 28,
   "id": "e0949ca6-72fd-4951-82ed-8e3d792fa88a",
   "metadata": {
    "scrolled": true
   },
   "outputs": [],
   "source": [
    "data = np.load('../data/burgers256x128-02.npz')\n",
    "t = np.ravel(data['t'])\n",
    "x = np.ravel(data['x'])\n",
    "u = np.real(data['usol'])\n",
    "dt = t[1] - t[0]\n",
    "dx = x[1] - x[0]"
   ]
  },
  {
   "cell_type": "code",
   "execution_count": 29,
   "id": "1aae5bc4-6c34-4d9b-a26a-317d565cd927",
   "metadata": {},
   "outputs": [
    {
     "name": "stdout",
     "output_type": "stream",
     "text": [
      "Correct PDE: (u)' = 0.03183 u_11 - 1.0 uu_1\n",
      "CPU times: user 683 µs, sys: 76 µs, total: 759 µs\n",
      "Wall time: 715 µs\n"
     ]
    }
   ],
   "source": [
    "%%time\n",
    "\n",
    "u = u.reshape(len(x), len(t), 1)\n",
    "library_functions = [lambda x: x, lambda x: x * x]\n",
    "library_function_names = [lambda x: x, lambda x: x + x]\n",
    "\n",
    "pde_lib = ps.PDELibrary(library_functions=library_functions,\n",
    "                        function_names=library_function_names,\n",
    "                        derivative_order=3,\n",
    "                        spatial_grid=x,\n",
    "                        is_uniform=True)\n",
    "\n",
    "print(\"Correct PDE: (u)' = 0.03183 u_11 - 1.0 uu_1\")"
   ]
  },
  {
   "cell_type": "code",
   "execution_count": 30,
   "id": "3a9d58f4-50c6-428e-8739-1c721993cf63",
   "metadata": {},
   "outputs": [
    {
     "name": "stdout",
     "output_type": "stream",
     "text": [
      "Identified PDE using the STLSQ model: \n",
      "(u)' = 0.03193 u_11 + -1.00002 uu_1\n",
      "CPU times: user 52.5 ms, sys: 5.38 ms, total: 57.9 ms\n",
      "Wall time: 23.4 ms\n"
     ]
    }
   ],
   "source": [
    "%%time\n",
    "\n",
    "# STQL Sequentially thresholded least squares\n",
    "optimizer = ps.STLSQ(threshold=2, alpha=1e-5, normalize_columns=True)\n",
    "model = ps.SINDy(feature_library=pde_lib,\n",
    "                 optimizer=optimizer,\n",
    "                 feature_names=[\"u\"])\n",
    "model.fit(u, t=dt)\n",
    "print('Identified PDE using the STLSQ model: ')\n",
    "model.print(precision=5)"
   ]
  },
  {
   "cell_type": "code",
   "execution_count": 31,
   "id": "f76f48c0-478a-442e-b4bd-a6f8c130d0f1",
   "metadata": {},
   "outputs": [
    {
     "name": "stdout",
     "output_type": "stream",
     "text": [
      "FROLs model: \n",
      "(u)' = 0.032 u_11 + -1.000 uu_1\n",
      "CPU times: user 382 ms, sys: 6.83 ms, total: 389 ms\n",
      "Wall time: 74.5 ms\n"
     ]
    }
   ],
   "source": [
    "%%time\n",
    "\n",
    "# FROL Forward Regression Orthogonal Least-Squares\n",
    "# https://pysindy.readthedocs.io/en/latest/_modules/pysindy/optimizers/frols.html\n",
    "optimizer = ps.FROLS(normalize_columns=True, kappa=1e-3)\n",
    "model = ps.SINDy(feature_library=pde_lib,\n",
    "                 optimizer=optimizer,\n",
    "                 feature_names=[\"u\"])\n",
    "model.fit(u, t=dt)\n",
    "print('FROLs model: ')\n",
    "model.print()"
   ]
  },
  {
   "cell_type": "code",
   "execution_count": 32,
   "id": "840741de-de97-496b-9261-3431670ff369",
   "metadata": {},
   "outputs": [
    {
     "name": "stdout",
     "output_type": "stream",
     "text": [
      "SR3 model: \n",
      "(u)' = 0.032 u_11 + -1.000 uu_1\n",
      "CPU times: user 82.7 ms, sys: 0 ns, total: 82.7 ms\n",
      "Wall time: 13.8 ms\n"
     ]
    }
   ],
   "source": [
    "%%time\n",
    "\n",
    "# SR3 Sparse relaxed regularized regression\n",
    "# https://pysindy.readthedocs.io/en/latest/_modules/pysindy/optimizers/sr3.html\n",
    "optimizer = ps.SR3(threshold=2,\n",
    "                   max_iter=10000,\n",
    "                   tol=1e-15,\n",
    "                   nu=1e2,\n",
    "                   thresholder=\"l0\",\n",
    "                   normalize_columns=True)\n",
    "model = ps.SINDy(feature_library=pde_lib,\n",
    "                 optimizer=optimizer,\n",
    "                 feature_names=[\"u\"])\n",
    "model.fit(u, t=dt)\n",
    "print('SR3 model: ')\n",
    "model.print()"
   ]
  },
  {
   "cell_type": "code",
   "execution_count": 33,
   "id": "b15e6a0a-e04a-4839-ab95-113b12372952",
   "metadata": {},
   "outputs": [
    {
     "name": "stdout",
     "output_type": "stream",
     "text": [
      "SSR model: \n",
      "(u)' = 0.001 u + 0.032 u_11 + -1.000 uu_1\n",
      "CPU times: user 113 ms, sys: 4.07 ms, total: 117 ms\n",
      "Wall time: 28.4 ms\n"
     ]
    }
   ],
   "source": [
    "%%time\n",
    "\n",
    "# SSR Stepwise sparse regression\n",
    "# https://pysindy.readthedocs.io/en/latest/_modules/pysindy/optimizers/ssr.html\n",
    "optimizer = ps.SSR(normalize_columns=True, kappa=1)\n",
    "model = ps.SINDy(feature_library=pde_lib,\n",
    "                 optimizer=optimizer,\n",
    "                 feature_names=[\"u\"])\n",
    "model.fit(u, t=dt)\n",
    "print('SSR model: ')\n",
    "model.print()"
   ]
  },
  {
   "cell_type": "markdown",
   "id": "7071f49a-bffc-496e-b50f-929bb7b9578e",
   "metadata": {},
   "source": [
    "## 512x256"
   ]
  },
  {
   "cell_type": "code",
   "execution_count": 34,
   "id": "544fe3eb-805b-4ebc-9667-65dcb13ca55f",
   "metadata": {
    "scrolled": true
   },
   "outputs": [],
   "source": [
    "data = np.load('../data/burgers512x256-02.npz')\n",
    "t = np.ravel(data['t'])\n",
    "x = np.ravel(data['x'])\n",
    "u = np.real(data['usol'])\n",
    "dt = t[1] - t[0]\n",
    "dx = x[1] - x[0]"
   ]
  },
  {
   "cell_type": "code",
   "execution_count": 35,
   "id": "e086845c-10c8-42de-b74a-de565c07e45f",
   "metadata": {},
   "outputs": [
    {
     "name": "stdout",
     "output_type": "stream",
     "text": [
      "Correct PDE: (u)' = 0.03183 u_11 - 1.0 uu_1\n",
      "CPU times: user 744 µs, sys: 73 µs, total: 817 µs\n",
      "Wall time: 766 µs\n"
     ]
    }
   ],
   "source": [
    "%%time\n",
    "\n",
    "u = u.reshape(len(x), len(t), 1)\n",
    "library_functions = [lambda x: x, lambda x: x * x]\n",
    "library_function_names = [lambda x: x, lambda x: x + x]\n",
    "\n",
    "pde_lib = ps.PDELibrary(library_functions=library_functions,\n",
    "                        function_names=library_function_names,\n",
    "                        derivative_order=3,\n",
    "                        spatial_grid=x,\n",
    "                        is_uniform=True)\n",
    "\n",
    "print(\"Correct PDE: (u)' = 0.03183 u_11 - 1.0 uu_1\")"
   ]
  },
  {
   "cell_type": "code",
   "execution_count": 36,
   "id": "271d323e-7bea-487e-9dae-da811012a560",
   "metadata": {},
   "outputs": [
    {
     "name": "stdout",
     "output_type": "stream",
     "text": [
      "Identified PDE using the STLSQ model: \n",
      "(u)' = 0.03186 u_11 + -1.00001 uu_1\n",
      "CPU times: user 226 ms, sys: 19 ms, total: 245 ms\n",
      "Wall time: 75.2 ms\n"
     ]
    }
   ],
   "source": [
    "%%time\n",
    "\n",
    "# STQL Sequentially thresholded least squares\n",
    "optimizer = ps.STLSQ(threshold=2, alpha=1e-5, normalize_columns=True)\n",
    "model = ps.SINDy(feature_library=pde_lib,\n",
    "                 optimizer=optimizer,\n",
    "                 feature_names=[\"u\"])\n",
    "model.fit(u, t=dt)\n",
    "print('Identified PDE using the STLSQ model: ')\n",
    "model.print(precision=5)"
   ]
  },
  {
   "cell_type": "code",
   "execution_count": 37,
   "id": "95c04850-ea14-4811-b5aa-81550b1e88dc",
   "metadata": {},
   "outputs": [
    {
     "name": "stdout",
     "output_type": "stream",
     "text": [
      "FROLs model: \n",
      "(u)' = 0.032 u_11 + -1.000 uu_1\n",
      "CPU times: user 3.12 s, sys: 99.5 ms, total: 3.22 s\n",
      "Wall time: 615 ms\n"
     ]
    }
   ],
   "source": [
    "%%time\n",
    "\n",
    "# FROL Forward Regression Orthogonal Least-Squares\n",
    "# https://pysindy.readthedocs.io/en/latest/_modules/pysindy/optimizers/frols.html\n",
    "optimizer = ps.FROLS(normalize_columns=True, kappa=1e-3)\n",
    "model = ps.SINDy(feature_library=pde_lib,\n",
    "                 optimizer=optimizer,\n",
    "                 feature_names=[\"u\"])\n",
    "model.fit(u, t=dt)\n",
    "print('FROLs model: ')\n",
    "model.print()"
   ]
  },
  {
   "cell_type": "code",
   "execution_count": 38,
   "id": "ccea7f47-6ec7-499b-ae28-7cf0558ac449",
   "metadata": {},
   "outputs": [
    {
     "name": "stdout",
     "output_type": "stream",
     "text": [
      "SR3 model: \n",
      "(u)' = 0.032 u_11 + -1.000 uu_1\n",
      "CPU times: user 430 ms, sys: 23.8 ms, total: 454 ms\n",
      "Wall time: 75.5 ms\n"
     ]
    }
   ],
   "source": [
    "%%time\n",
    "\n",
    "# SR3 Sparse relaxed regularized regression\n",
    "# https://pysindy.readthedocs.io/en/latest/_modules/pysindy/optimizers/sr3.html\n",
    "optimizer = ps.SR3(threshold=2,\n",
    "                   max_iter=10000,\n",
    "                   tol=1e-15,\n",
    "                   nu=1e2,\n",
    "                   thresholder=\"l0\",\n",
    "                   normalize_columns=True)\n",
    "model = ps.SINDy(feature_library=pde_lib,\n",
    "                 optimizer=optimizer,\n",
    "                 feature_names=[\"u\"])\n",
    "model.fit(u, t=dt)\n",
    "print('SR3 model: ')\n",
    "model.print()"
   ]
  },
  {
   "cell_type": "code",
   "execution_count": 39,
   "id": "69596311-10c5-4708-9943-529ed186e132",
   "metadata": {},
   "outputs": [
    {
     "name": "stdout",
     "output_type": "stream",
     "text": [
      "SSR model: \n",
      "(u)' = 0.032 u_11 + -1.000 uu_1\n",
      "CPU times: user 1.38 s, sys: 62.5 ms, total: 1.45 s\n",
      "Wall time: 301 ms\n"
     ]
    }
   ],
   "source": [
    "%%time\n",
    "\n",
    "# SSR Stepwise sparse regression\n",
    "# https://pysindy.readthedocs.io/en/latest/_modules/pysindy/optimizers/ssr.html\n",
    "optimizer = ps.SSR(normalize_columns=True, kappa=1)\n",
    "model = ps.SINDy(feature_library=pde_lib,\n",
    "                 optimizer=optimizer,\n",
    "                 feature_names=[\"u\"])\n",
    "model.fit(u, t=dt)\n",
    "print('SSR model: ')\n",
    "model.print()"
   ]
  },
  {
   "cell_type": "markdown",
   "id": "d663f516-ebfb-47c0-b8c6-cc2e8013b8c3",
   "metadata": {},
   "source": [
    "---\n",
    "## References\n",
    "\n",
    "Brunton, S. L., Proctor, J. L., & Kutz, J. N. (2016). Discovering governing equations from data by sparse identification of nonlinear dynamical systems. Proceedings of the National Academy of Sciences, 113(15), 3932–3937. https://doi.org/10.1073/pnas.1517384113\n",
    "\n",
    "Raissi, M., Perdikaris, P., & Karniadakis, G. E. (2019). Physics-informed neural networks: A deep learning framework for solving forward and inverse problems involving nonlinear partial differential equations. Journal of Computational Physics, 378, 686–707. https://doi.org/10.1016/j.jcp.2018.10.045\n"
   ]
  },
  {
   "cell_type": "markdown",
   "id": "e4c6eb65-2bd6-4b47-82f3-1d59d784b99a",
   "metadata": {},
   "source": [
    "<hr style=\"height:10px;border-width:0;background-color:gray\">\n",
    "\n",
    "## Environment"
   ]
  },
  {
   "cell_type": "code",
   "execution_count": 40,
   "id": "04825150-6c0b-48b5-8c4e-be499d28760b",
   "metadata": {},
   "outputs": [],
   "source": [
    "%%bash\n",
    "source $HOME/miniconda3/bin/activate psin\n",
    "conda list --explicit > Burgers-1D-Discovery-Numerical-environment.txt"
   ]
  }
 ],
 "metadata": {
  "kernelspec": {
   "display_name": "psin",
   "language": "python",
   "name": "psin"
  },
  "language_info": {
   "codemirror_mode": {
    "name": "ipython",
    "version": 3
   },
   "file_extension": ".py",
   "mimetype": "text/x-python",
   "name": "python",
   "nbconvert_exporter": "python",
   "pygments_lexer": "ipython3",
   "version": "3.12.2"
  }
 },
 "nbformat": 4,
 "nbformat_minor": 5
}
