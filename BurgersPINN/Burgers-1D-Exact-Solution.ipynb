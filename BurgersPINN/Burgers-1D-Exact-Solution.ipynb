{
 "cells": [
  {
   "cell_type": "markdown",
   "id": "f259e37b-bc5e-444a-a9cd-801ffd3fa093",
   "metadata": {
    "tags": []
   },
   "source": [
    "# 1D Burgers Exact Solution using Gaussian Quadrature Method (GQM)\n",
    "\n",
    "*Last edited: 2024-04-26*\n",
    "\n",
    "Attempt to recreate the exact solution dataset [burgers_shock.mat](https://github.com/maziarraissi/PINNs/blob/master/appendix/Data/burgers_shock.mat) 256x100 used in [Raissi's work](https://github.com/maziarraissi/PINNs). The data uses an n × m grid (e.g., a 256 × 100 grid represents 256 spatial measurements at 100 time points). Other datasets are also generated, 128x128, 256x128, 256x256, 512x256, and 512x512.\n",
    "\n",
    "Based on Burkardt's Python code: https://people.sc.fsu.edu/~jburkardt/py_src/burgers_solution/burgers_solution.py\n",
    "\n",
    "As far I can understand, the exact solutions of the Burgers equation use estimated values calculated using [Hermite's quadrature rule](https://en.wikipedia.org/wiki/Gauss%E2%80%93Hermite_quadrature), as described in the [Basdevant et al. article](https://www.academia.edu/19081708/Spectral_and_finite_difference_solutions_of_the_Burgers_equation). \n",
    "\n",
    "Using [Burkardt's Python code](https://people.sc.fsu.edu/~jburkardt/py_src/burgers_solution/burgers_solution.html) (see below) with parameters vtn=100, vxn=256, nu=0.01/numpy.pi, xlo=-1.0, xhi=1.0, tlo=0.0, thi=0.99, and qn=50 (order of the quadrature rule), it is possible to generate an array containing exact solutions, which passes the test [numpy.allclose](https://numpy.org/doc/stable/reference/generated/numpy.allclose.html) when compared to the original array of solutions contained in *burgers_shock.mat* from Raissi."
   ]
  },
  {
   "cell_type": "code",
   "execution_count": 1,
   "id": "bcce1862-5f2b-4da5-9d7c-c5635a4b53c1",
   "metadata": {},
   "outputs": [],
   "source": [
    "def burgers_solution_test(vxn, vtn, dsname):\n",
    "\n",
    "    #*****************************************************************************80\n",
    "    #\n",
    "    ## burgers_solution_test tests burgers_solution.\n",
    "    #\n",
    "    #  Licensing:\n",
    "    #\n",
    "    #    This code is distributed under the GNU LGPL license.\n",
    "    #\n",
    "    #  Modified:\n",
    "    #\n",
    "    #    27 September 2015\n",
    "    #\n",
    "    #  Author:\n",
    "    #\n",
    "    #    John Burkardt\n",
    "    #\n",
    "    import platform\n",
    "\n",
    "    #print('')\n",
    "    #print('burgers_solution_test():')\n",
    "    #print('  Python version: %s' % (platform.python_version()))\n",
    "    #print('  burgers_solution evaluates exact solutions of the Burgers equation.')\n",
    "\n",
    "    burgers_viscous_time_exact1_test01(vxn, vtn, dsname)\n",
    "\n",
    "    #\n",
    "    #  Terminate.\n",
    "    #\n",
    "    #print('')\n",
    "    #print('burgers_solution_test():')\n",
    "    #print('  Normal end of execution.')\n",
    "    return\n",
    "\n",
    "\n",
    "def burgers_viscous_time_exact1(nu, vxn, vx, vtn, vt):\n",
    "    \"\"\"\n",
    "    Burgers_viscous_time_exact1() evaluates a solution to the Burgers equation.\n",
    "    \n",
    "     Discussion:\n",
    "    \n",
    "       The form of the Burgers equation considered here is\n",
    "    \n",
    "         du       du        d^2 u\n",
    "         -- + u * -- = nu * -----\n",
    "         dt       dx        dx^2\n",
    "    \n",
    "       for -1.0 < x < +1.0, and 0 < t.\n",
    "    \n",
    "       Initial conditions are u(x,0) = - sin(pi*x).  Boundary conditions\n",
    "       are u(-1,t) = u(+1,t) = 0.  The viscosity parameter nu is taken\n",
    "       to be 0.01 / pi, although this is not essential.\n",
    "    \n",
    "       The authors note an integral representation for the solution u(x,t),\n",
    "       and present a better version of the formula that is amenable to\n",
    "       approximation using Hermite quadrature.\n",
    "    \n",
    "       This program library does little more than evaluate the exact solution\n",
    "       at a user-specified set of points, using the quadrature rule.\n",
    "       Internally, the order of this quadrature rule is set to 8, but the\n",
    "       user can easily modify this value if greater accuracy is desired.\n",
    "    \n",
    "     Licensing:\n",
    "    \n",
    "       This code is distributed under the GNU LGPL license.\n",
    "    \n",
    "     Modified:\n",
    "    \n",
    "       24 September 2015\n",
    "    \n",
    "     Author:\n",
    "    \n",
    "       John Burkardt.\n",
    "    \n",
    "     Reference:\n",
    "    \n",
    "       Claude Basdevant, Michel Deville, Pierre Haldenwang, J Lacroix,\n",
    "       J Ouazzani, Roger Peyret, Paolo Orlandi, Anthony Patera,\n",
    "       Spectral and finite difference solutions of the Burgers equation,\n",
    "       Computers and Fluids,\n",
    "       Volume 14, Number 1, 1986, pages 23-41.\n",
    "    \n",
    "     Input:\n",
    "    \n",
    "       real NU, the viscosity.\n",
    "    \n",
    "       integer VXN, the number of spatial grid points.\n",
    "    \n",
    "       real VX(VXN), the spatial grid points.\n",
    "    \n",
    "       integer VTN, the number of time grid points.\n",
    "    \n",
    "       real VT(VTN), the time grid points.\n",
    "    \n",
    "     Output:\n",
    "    \n",
    "       real VU(VXN,VTN), the solution of the Burgers\n",
    "       equation at each space and time grid point.\n",
    "    \"\"\"\n",
    "    \n",
    "    import numpy as np\n",
    "    \n",
    "    #---------------------------------------\n",
    "    # qn = 8   # original value\n",
    "    #qn = 50\n",
    "    print('Quadrature order = %d' % (qn))\n",
    "    #---------------------------------------\n",
    "    \n",
    "    #\n",
    "    #  Compute the rule.\n",
    "    #\n",
    "    qx, qw = hermite_ek_compute(qn)\n",
    "    #\n",
    "    #  Evaluate U(X,T) for later times.\n",
    "    #\n",
    "    vu = np.zeros([vxn, vtn])\n",
    "\n",
    "    for vti in range(0, vtn):\n",
    "\n",
    "        if (vt[vti] == 0.0):\n",
    "\n",
    "            for i in range(0, vxn):\n",
    "                vu[i, vti] = -np.sin(np.pi * vx[i])\n",
    "\n",
    "        else:\n",
    "\n",
    "            for vxi in range(0, vxn):\n",
    "\n",
    "                top = 0.0\n",
    "                bot = 0.0\n",
    "\n",
    "                for qi in range(0, qn):\n",
    "\n",
    "                    c = 2.0 * np.sqrt(nu * vt[vti])\n",
    "\n",
    "                    top = top - qw[qi] * c * np.sin ( np.pi * ( vx[vxi] - c * qx[qi] ) ) \\\n",
    "                      * np.exp ( - np.cos ( np.pi * ( vx[vxi] - c * qx[qi]  ) ) \\\n",
    "                      / ( 2.0 * np.pi * nu ) )\n",
    "\n",
    "                    bot = bot + qw[qi] * c \\\n",
    "                      * np.exp ( - np.cos ( np.pi * ( vx[vxi] - c * qx[qi]  ) ) \\\n",
    "                      / ( 2.0 * np.pi * nu ) )\n",
    "\n",
    "                    vu[vxi, vti] = top / bot\n",
    "\n",
    "    return vu\n",
    "\n",
    "\n",
    "def burgers_viscous_time_exact1_test01(vxn, vtn, dsname):\n",
    "\n",
    "    #*****************************************************************************80\n",
    "    #\n",
    "    ## burgers_viscous_time_exact1_test01() tests sets up a small test case.\n",
    "    #\n",
    "    #  Licensing:\n",
    "    #\n",
    "    #    This code is distributed under the GNU LGPL license.\n",
    "    #\n",
    "    #  Modified:\n",
    "    #\n",
    "    #    24 September 2015\n",
    "    #\n",
    "    #  Author:\n",
    "    #\n",
    "    #    John Burkardt\n",
    "    #\n",
    "    import numpy as np\n",
    "    import platform\n",
    "\n",
    "    #vtn = 100\n",
    "    #vxn = 256\n",
    "    #nu = 0.01 / np.pi\n",
    "    #thi = 3.0 / np.pi\n",
    "    # xlo = -1.0\n",
    "    # xhi = +1.0\n",
    "    # tlo = 0.0\n",
    "    # thi = 0.99\n",
    "\n",
    "    #print('')\n",
    "    #print('burgers_viscous_time_exact1_test01():')\n",
    "    #print('  Python version: %s' % (platform.python_version()))\n",
    "    #print('  burgers_viscous_time_exact1() evaluates solution #1')\n",
    "    #print('  to the Burgers equation.')\n",
    "    #print('')\n",
    "    print('Viscosity NU = %g' % (nu))\n",
    "    print('NX = %d' % (vxn))\n",
    "    print('NT = %d' % (vtn))\n",
    "    \n",
    "    vx = np.linspace(xlo, xhi, vxn)\n",
    "    x_save = vx.flatten()[:, None]\n",
    "    #r8vec_print(vxn, vx, '  X grid points:')\n",
    "    #np.savetxt(\"burgers_solution_x.csv\", vx, delimiter=\",\")\n",
    "\n",
    "    vt = np.linspace(tlo, thi, vtn)\n",
    "    t_save = vt.flatten()[:, None]\n",
    "    #r8vec_print(vtn, vt, '  T grid points:')\n",
    "    #np.savetxt(\"burgers_solution_t.csv\", vt, delimiter=\",\")\n",
    "\n",
    "    vu = burgers_viscous_time_exact1(nu, vxn, vx, vtn, vt)\n",
    "    #np.savetxt(\"burgers_solution_u.csv\", vu, delimiter=\",\")\n",
    "\n",
    "    np.savez_compressed(\"../data/\"+dsname, x=x_save, t=t_save, usol=vu)\n",
    "\n",
    "    #r8mat_print(vxn, vtn, vu, '  U(X,T) at grid points:')\n",
    "    #filename = 'burgers_solution_test01.txt'\n",
    "    #r8mat_write(filename, vxn, vtn, vu)\n",
    "    #print('')\n",
    "    #print('  Data written to file \"%s\"' % (filename))\n",
    "    #\n",
    "    #  Terminate\n",
    "    #\n",
    "    #print('')\n",
    "    #print('burgers_viscous_time_exact1_test01():')\n",
    "    #print('  Normal end of execution.')\n",
    "    return\n",
    "\n",
    "\n",
    "\n",
    "def hermite_ek_compute(n):\n",
    "\n",
    "    #*****************************************************************************80\n",
    "    #\n",
    "    ## hermite_ek_compute() computes a Gauss-Hermite quadrature rule.\n",
    "    #\n",
    "    #  Discussion:\n",
    "    #\n",
    "    #    The code uses an algorithm by Elhay and Kautsky.\n",
    "    #\n",
    "    #    The abscissas are the zeros of the N-th order Hermite polynomial.\n",
    "    #\n",
    "    #    The integral:\n",
    "    #\n",
    "    #      integral ( -oo < x < +oo ) exp ( - x * x ) * f(x) dx\n",
    "    #\n",
    "    #    The quadrature rule:\n",
    "    #\n",
    "    #      sum ( 1 <= i <= n ) w(i) * f ( x(i) )\n",
    "    #\n",
    "    #  Licensing:\n",
    "    #\n",
    "    #    This code is distributed under the GNU LGPL license.\n",
    "    #\n",
    "    #  Modified:\n",
    "    #\n",
    "    #    15 June 2015\n",
    "    #\n",
    "    #  Author:\n",
    "    #\n",
    "    #    John Burkardt.\n",
    "    #\n",
    "    #  Reference:\n",
    "    #\n",
    "    #    Sylvan Elhay, Jaroslav Kautsky,\n",
    "    #    Algorithm 655: IQPACK, FORTRAN Subroutines for the Weights of\n",
    "    #    Interpolatory Quadrature,\n",
    "    #    ACM Transactions on Mathematical Software,\n",
    "    #    Volume 13, Number 4, December 1987, pages 399-415.\n",
    "    #\n",
    "    #  Input:\n",
    "    #\n",
    "    #    integer N, the number of abscissas.\n",
    "    #\n",
    "    #  Output:\n",
    "    #\n",
    "    #    real X(N), the abscissas.\n",
    "    #\n",
    "    #    real W(N), the weights.\n",
    "    #\n",
    "    from scipy.special import gamma\n",
    "    import numpy as np\n",
    "    #\n",
    "    #  Define the zero-th moment.\n",
    "    #\n",
    "    zemu = gamma(0.5)\n",
    "    #\n",
    "    #  Define the Jacobi matrix.\n",
    "    #\n",
    "    bj = np.zeros(n)\n",
    "    for i in range(0, n):\n",
    "        bj[i] = np.sqrt(float(i + 1) / 2.0)\n",
    "\n",
    "    x = np.zeros(n)\n",
    "\n",
    "    w = np.zeros(n)\n",
    "    w[0] = np.sqrt(zemu)\n",
    "    #\n",
    "    #  Diagonalize the Jacobi matrix.\n",
    "    #\n",
    "    x, w = imtqlx(n, x, bj, w)\n",
    "    #\n",
    "    #  If N is odd, force the center X to be exactly 0.\n",
    "    #\n",
    "    if ((n % 2) == 1):\n",
    "        x[(n - 1) // 2] = 0.0\n",
    "\n",
    "    for i in range(0, n):\n",
    "        w[i] = w[i]**2\n",
    "\n",
    "    return x, w"
   ]
  },
  {
   "cell_type": "code",
   "execution_count": 5,
   "id": "5223e5f7-2167-45c3-a0f5-b87ad8d5acf6",
   "metadata": {},
   "outputs": [],
   "source": [
    "def imtqlx(n, d, e, z):\n",
    "    lam = np.zeros(n)\n",
    "    for i in range(0, n):\n",
    "        lam[i] = d[i]\n",
    "    qtz = np.zeros(n)\n",
    "    for i in range(0, n):\n",
    "        qtz[i] = z[i]\n",
    "    if n == 1:\n",
    "        return lam, qtz\n",
    "    itn = 30\n",
    "    epsilon = np.finfo(float).eps\n",
    "    e[n - 1] = 0.0\n",
    "    for l in range(1, n + 1):\n",
    "        j = 0\n",
    "        while True:\n",
    "            for m in range(l, n + 1):\n",
    "                if m == n:\n",
    "                    break\n",
    "                if abs(e[m - 1]) <= epsilon * (abs(lam[m - 1]) + abs(lam[m])):\n",
    "                    break\n",
    "            p = lam[l - 1]\n",
    "            if m == l:\n",
    "                break\n",
    "            if itn <= j:\n",
    "                print(\"\")\n",
    "                print(\"imtqlx - Fatal error!\")\n",
    "                print(\"  Iteration limit exceeded.\")\n",
    "                raise Exception(\"imtqlx - Fatal error!\")\n",
    "            j = j + 1\n",
    "            g = (lam[l] - p) / (2.0 * e[l - 1])\n",
    "            r = np.sqrt(g * g + 1.0)\n",
    "            if g < 0.0:\n",
    "                t = g - r\n",
    "            else:\n",
    "                t = g + r\n",
    "            g = lam[m - 1] - p + e[l - 1] / (g + t)\n",
    "            s = 1.0\n",
    "            c = 1.0\n",
    "            p = 0.0\n",
    "            mml = m - l\n",
    "            for ii in range(1, mml + 1):\n",
    "                i = m - ii\n",
    "                f = s * e[i - 1]\n",
    "                b = c * e[i - 1]\n",
    "                if abs(g) <= abs(f):\n",
    "                    c = g / f\n",
    "                    r = np.sqrt(c * c + 1.0)\n",
    "                    e[i] = f * r\n",
    "                    s = 1.0 / r\n",
    "                    c = c * s\n",
    "                else:\n",
    "                    s = f / g\n",
    "                    r = np.sqrt(s * s + 1.0)\n",
    "                    e[i] = g * r\n",
    "                    c = 1.0 / r\n",
    "                    s = s * c\n",
    "                g = lam[i] - p\n",
    "                r = (lam[i - 1] - g) * s + 2.0 * c * b\n",
    "                p = s * r\n",
    "                lam[i] = g + p\n",
    "                g = c * r - b\n",
    "                f = qtz[i]\n",
    "                qtz[i] = s * qtz[i - 1] + c * f\n",
    "                qtz[i - 1] = c * qtz[i - 1] - s * f\n",
    "            lam[l - 1] = lam[l - 1] - p\n",
    "            e[l - 1] = g\n",
    "            e[m - 1] = 0.0\n",
    "    for ii in range(2, n + 1):\n",
    "        i = ii - 1\n",
    "        k = i\n",
    "        p = lam[i - 1]\n",
    "        for j in range(ii, n + 1):\n",
    "            if lam[j - 1] < p:\n",
    "                k = j\n",
    "                p = lam[j - 1]\n",
    "        if k != i:\n",
    "            lam[k - 1] = lam[i - 1]\n",
    "            lam[i - 1] = p\n",
    "            p = qtz[i - 1]\n",
    "            qtz[i - 1] = qtz[k - 1]\n",
    "            qtz[k - 1] = p\n",
    "    return lam, qtz"
   ]
  },
  {
   "cell_type": "code",
   "execution_count": 6,
   "id": "f02c091d-bff2-4e39-8dbe-bb2566bb98fd",
   "metadata": {},
   "outputs": [],
   "source": [
    "import numpy as np\n",
    "from scipy.io import loadmat"
   ]
  },
  {
   "cell_type": "markdown",
   "id": "e0941ad9-6a7d-4892-bef5-770aa61313c4",
   "metadata": {},
   "source": [
    "---\n",
    "## Problem 01\n",
    "\n",
    "viscosity = 0.01/np.pi"
   ]
  },
  {
   "cell_type": "code",
   "execution_count": 3,
   "id": "edc6b173-4c33-4e84-80e5-0845f378428a",
   "metadata": {},
   "outputs": [],
   "source": [
    "nu = 0.01 / np.pi\n",
    "xlo = -1.0\n",
    "xhi = +1.0\n",
    "tlo = 0.0\n",
    "thi = 0.99\n",
    "qn = 50  # quadrature order. control the accuracy."
   ]
  },
  {
   "cell_type": "code",
   "execution_count": 140,
   "id": "0fbf81c9-7448-40b1-91f6-67f5dda3e459",
   "metadata": {},
   "outputs": [
    {
     "name": "stdout",
     "output_type": "stream",
     "text": [
      "Viscosity NU = 0.0031831\n",
      "NX = 256\n",
      "NT = 100\n",
      "Quadrature order = 50\n",
      "CPU times: user 7.82 s, sys: 0 ns, total: 7.82 s\n",
      "Wall time: 7.82 s\n"
     ]
    }
   ],
   "source": [
    "%%time\n",
    "burgers_solution_test(256, 100, \"burgers256x100\")"
   ]
  },
  {
   "cell_type": "code",
   "execution_count": 17,
   "id": "e3d5c793-2ab8-460e-8560-f8982d2b65e7",
   "metadata": {},
   "outputs": [],
   "source": [
    "npzfile = np.load(\"burgers256x100.npz\")"
   ]
  },
  {
   "cell_type": "code",
   "execution_count": 18,
   "id": "0772e07b-5722-4095-8103-7c337a5cbdfa",
   "metadata": {},
   "outputs": [
    {
     "data": {
      "text/plain": [
       "['x', 't', 'usol']"
      ]
     },
     "execution_count": 18,
     "metadata": {},
     "output_type": "execute_result"
    }
   ],
   "source": [
    "npzfile.files"
   ]
  },
  {
   "cell_type": "code",
   "execution_count": 19,
   "id": "eb3cc1ab-ffc3-4a41-b36d-0ad288674da0",
   "metadata": {},
   "outputs": [
    {
     "data": {
      "text/plain": [
       "(256, 100)"
      ]
     },
     "execution_count": 19,
     "metadata": {},
     "output_type": "execute_result"
    }
   ],
   "source": [
    "npzfile['x'].size, npzfile['t'].size"
   ]
  },
  {
   "cell_type": "code",
   "execution_count": 60,
   "id": "90122ab4-3495-4a8a-bbad-72080bfd99ee",
   "metadata": {
    "scrolled": true
   },
   "outputs": [
    {
     "data": {
      "text/plain": [
       "array([[-1.        ],\n",
       "       [-0.99215686],\n",
       "       [-0.98431373],\n",
       "       [-0.97647059],\n",
       "       [-0.96862745],\n",
       "       [-0.96078431],\n",
       "       [-0.95294118],\n",
       "       [-0.94509804],\n",
       "       [-0.9372549 ],\n",
       "       [-0.92941176],\n",
       "       [-0.92156863],\n",
       "       [-0.91372549],\n",
       "       [-0.90588235],\n",
       "       [-0.89803922],\n",
       "       [-0.89019608],\n",
       "       [-0.88235294],\n",
       "       [-0.8745098 ],\n",
       "       [-0.86666667],\n",
       "       [-0.85882353],\n",
       "       [-0.85098039],\n",
       "       [-0.84313725],\n",
       "       [-0.83529412],\n",
       "       [-0.82745098],\n",
       "       [-0.81960784],\n",
       "       [-0.81176471],\n",
       "       [-0.80392157],\n",
       "       [-0.79607843],\n",
       "       [-0.78823529],\n",
       "       [-0.78039216],\n",
       "       [-0.77254902],\n",
       "       [-0.76470588],\n",
       "       [-0.75686275],\n",
       "       [-0.74901961],\n",
       "       [-0.74117647],\n",
       "       [-0.73333333],\n",
       "       [-0.7254902 ],\n",
       "       [-0.71764706],\n",
       "       [-0.70980392],\n",
       "       [-0.70196078],\n",
       "       [-0.69411765],\n",
       "       [-0.68627451],\n",
       "       [-0.67843137],\n",
       "       [-0.67058824],\n",
       "       [-0.6627451 ],\n",
       "       [-0.65490196],\n",
       "       [-0.64705882],\n",
       "       [-0.63921569],\n",
       "       [-0.63137255],\n",
       "       [-0.62352941],\n",
       "       [-0.61568627],\n",
       "       [-0.60784314],\n",
       "       [-0.6       ],\n",
       "       [-0.59215686],\n",
       "       [-0.58431373],\n",
       "       [-0.57647059],\n",
       "       [-0.56862745],\n",
       "       [-0.56078431],\n",
       "       [-0.55294118],\n",
       "       [-0.54509804],\n",
       "       [-0.5372549 ],\n",
       "       [-0.52941176],\n",
       "       [-0.52156863],\n",
       "       [-0.51372549],\n",
       "       [-0.50588235],\n",
       "       [-0.49803922],\n",
       "       [-0.49019608],\n",
       "       [-0.48235294],\n",
       "       [-0.4745098 ],\n",
       "       [-0.46666667],\n",
       "       [-0.45882353],\n",
       "       [-0.45098039],\n",
       "       [-0.44313725],\n",
       "       [-0.43529412],\n",
       "       [-0.42745098],\n",
       "       [-0.41960784],\n",
       "       [-0.41176471],\n",
       "       [-0.40392157],\n",
       "       [-0.39607843],\n",
       "       [-0.38823529],\n",
       "       [-0.38039216],\n",
       "       [-0.37254902],\n",
       "       [-0.36470588],\n",
       "       [-0.35686275],\n",
       "       [-0.34901961],\n",
       "       [-0.34117647],\n",
       "       [-0.33333333],\n",
       "       [-0.3254902 ],\n",
       "       [-0.31764706],\n",
       "       [-0.30980392],\n",
       "       [-0.30196078],\n",
       "       [-0.29411765],\n",
       "       [-0.28627451],\n",
       "       [-0.27843137],\n",
       "       [-0.27058824],\n",
       "       [-0.2627451 ],\n",
       "       [-0.25490196],\n",
       "       [-0.24705882],\n",
       "       [-0.23921569],\n",
       "       [-0.23137255],\n",
       "       [-0.22352941],\n",
       "       [-0.21568627],\n",
       "       [-0.20784314],\n",
       "       [-0.2       ],\n",
       "       [-0.19215686],\n",
       "       [-0.18431373],\n",
       "       [-0.17647059],\n",
       "       [-0.16862745],\n",
       "       [-0.16078431],\n",
       "       [-0.15294118],\n",
       "       [-0.14509804],\n",
       "       [-0.1372549 ],\n",
       "       [-0.12941176],\n",
       "       [-0.12156863],\n",
       "       [-0.11372549],\n",
       "       [-0.10588235],\n",
       "       [-0.09803922],\n",
       "       [-0.09019608],\n",
       "       [-0.08235294],\n",
       "       [-0.0745098 ],\n",
       "       [-0.06666667],\n",
       "       [-0.05882353],\n",
       "       [-0.05098039],\n",
       "       [-0.04313725],\n",
       "       [-0.03529412],\n",
       "       [-0.02745098],\n",
       "       [-0.01960784],\n",
       "       [-0.01176471],\n",
       "       [-0.00392157],\n",
       "       [ 0.00392157],\n",
       "       [ 0.01176471],\n",
       "       [ 0.01960784],\n",
       "       [ 0.02745098],\n",
       "       [ 0.03529412],\n",
       "       [ 0.04313725],\n",
       "       [ 0.05098039],\n",
       "       [ 0.05882353],\n",
       "       [ 0.06666667],\n",
       "       [ 0.0745098 ],\n",
       "       [ 0.08235294],\n",
       "       [ 0.09019608],\n",
       "       [ 0.09803922],\n",
       "       [ 0.10588235],\n",
       "       [ 0.11372549],\n",
       "       [ 0.12156863],\n",
       "       [ 0.12941176],\n",
       "       [ 0.1372549 ],\n",
       "       [ 0.14509804],\n",
       "       [ 0.15294118],\n",
       "       [ 0.16078431],\n",
       "       [ 0.16862745],\n",
       "       [ 0.17647059],\n",
       "       [ 0.18431373],\n",
       "       [ 0.19215686],\n",
       "       [ 0.2       ],\n",
       "       [ 0.20784314],\n",
       "       [ 0.21568627],\n",
       "       [ 0.22352941],\n",
       "       [ 0.23137255],\n",
       "       [ 0.23921569],\n",
       "       [ 0.24705882],\n",
       "       [ 0.25490196],\n",
       "       [ 0.2627451 ],\n",
       "       [ 0.27058824],\n",
       "       [ 0.27843137],\n",
       "       [ 0.28627451],\n",
       "       [ 0.29411765],\n",
       "       [ 0.30196078],\n",
       "       [ 0.30980392],\n",
       "       [ 0.31764706],\n",
       "       [ 0.3254902 ],\n",
       "       [ 0.33333333],\n",
       "       [ 0.34117647],\n",
       "       [ 0.34901961],\n",
       "       [ 0.35686275],\n",
       "       [ 0.36470588],\n",
       "       [ 0.37254902],\n",
       "       [ 0.38039216],\n",
       "       [ 0.38823529],\n",
       "       [ 0.39607843],\n",
       "       [ 0.40392157],\n",
       "       [ 0.41176471],\n",
       "       [ 0.41960784],\n",
       "       [ 0.42745098],\n",
       "       [ 0.43529412],\n",
       "       [ 0.44313725],\n",
       "       [ 0.45098039],\n",
       "       [ 0.45882353],\n",
       "       [ 0.46666667],\n",
       "       [ 0.4745098 ],\n",
       "       [ 0.48235294],\n",
       "       [ 0.49019608],\n",
       "       [ 0.49803922],\n",
       "       [ 0.50588235],\n",
       "       [ 0.51372549],\n",
       "       [ 0.52156863],\n",
       "       [ 0.52941176],\n",
       "       [ 0.5372549 ],\n",
       "       [ 0.54509804],\n",
       "       [ 0.55294118],\n",
       "       [ 0.56078431],\n",
       "       [ 0.56862745],\n",
       "       [ 0.57647059],\n",
       "       [ 0.58431373],\n",
       "       [ 0.59215686],\n",
       "       [ 0.6       ],\n",
       "       [ 0.60784314],\n",
       "       [ 0.61568627],\n",
       "       [ 0.62352941],\n",
       "       [ 0.63137255],\n",
       "       [ 0.63921569],\n",
       "       [ 0.64705882],\n",
       "       [ 0.65490196],\n",
       "       [ 0.6627451 ],\n",
       "       [ 0.67058824],\n",
       "       [ 0.67843137],\n",
       "       [ 0.68627451],\n",
       "       [ 0.69411765],\n",
       "       [ 0.70196078],\n",
       "       [ 0.70980392],\n",
       "       [ 0.71764706],\n",
       "       [ 0.7254902 ],\n",
       "       [ 0.73333333],\n",
       "       [ 0.74117647],\n",
       "       [ 0.74901961],\n",
       "       [ 0.75686275],\n",
       "       [ 0.76470588],\n",
       "       [ 0.77254902],\n",
       "       [ 0.78039216],\n",
       "       [ 0.78823529],\n",
       "       [ 0.79607843],\n",
       "       [ 0.80392157],\n",
       "       [ 0.81176471],\n",
       "       [ 0.81960784],\n",
       "       [ 0.82745098],\n",
       "       [ 0.83529412],\n",
       "       [ 0.84313725],\n",
       "       [ 0.85098039],\n",
       "       [ 0.85882353],\n",
       "       [ 0.86666667],\n",
       "       [ 0.8745098 ],\n",
       "       [ 0.88235294],\n",
       "       [ 0.89019608],\n",
       "       [ 0.89803922],\n",
       "       [ 0.90588235],\n",
       "       [ 0.91372549],\n",
       "       [ 0.92156863],\n",
       "       [ 0.92941176],\n",
       "       [ 0.9372549 ],\n",
       "       [ 0.94509804],\n",
       "       [ 0.95294118],\n",
       "       [ 0.96078431],\n",
       "       [ 0.96862745],\n",
       "       [ 0.97647059],\n",
       "       [ 0.98431373],\n",
       "       [ 0.99215686],\n",
       "       [ 1.        ]])"
      ]
     },
     "execution_count": 60,
     "metadata": {},
     "output_type": "execute_result"
    }
   ],
   "source": [
    "npzfile['x']"
   ]
  },
  {
   "cell_type": "code",
   "execution_count": 23,
   "id": "eb90c17a-478f-4fe0-9f66-6b48c6febc9b",
   "metadata": {},
   "outputs": [],
   "source": [
    "import scipy.io\n",
    "data = scipy.io.loadmat(\"../data/burgers_shock.mat\")"
   ]
  },
  {
   "cell_type": "code",
   "execution_count": 24,
   "id": "79185cd2-7275-4ee9-8669-a6e240072090",
   "metadata": {},
   "outputs": [
    {
     "data": {
      "text/plain": [
       "(256, 100, 25600)"
      ]
     },
     "execution_count": 24,
     "metadata": {},
     "output_type": "execute_result"
    }
   ],
   "source": [
    "data['x'].size, data['t'].size, data['usol'].size"
   ]
  },
  {
   "cell_type": "code",
   "execution_count": 37,
   "id": "e8a747f6-69bc-4586-aece-e854cf8113fd",
   "metadata": {
    "scrolled": true
   },
   "outputs": [
    {
     "data": {
      "text/plain": [
       "array([[-1.        ],\n",
       "       [-0.99215686],\n",
       "       [-0.98431373],\n",
       "       [-0.97647059],\n",
       "       [-0.96862745],\n",
       "       [-0.96078431],\n",
       "       [-0.95294118],\n",
       "       [-0.94509804],\n",
       "       [-0.9372549 ],\n",
       "       [-0.92941176],\n",
       "       [-0.92156863],\n",
       "       [-0.91372549],\n",
       "       [-0.90588235],\n",
       "       [-0.89803922],\n",
       "       [-0.89019608],\n",
       "       [-0.88235294],\n",
       "       [-0.8745098 ],\n",
       "       [-0.86666667],\n",
       "       [-0.85882353],\n",
       "       [-0.85098039],\n",
       "       [-0.84313725],\n",
       "       [-0.83529412],\n",
       "       [-0.82745098],\n",
       "       [-0.81960784],\n",
       "       [-0.81176471],\n",
       "       [-0.80392157],\n",
       "       [-0.79607843],\n",
       "       [-0.78823529],\n",
       "       [-0.78039216],\n",
       "       [-0.77254902],\n",
       "       [-0.76470588],\n",
       "       [-0.75686275],\n",
       "       [-0.74901961],\n",
       "       [-0.74117647],\n",
       "       [-0.73333333],\n",
       "       [-0.7254902 ],\n",
       "       [-0.71764706],\n",
       "       [-0.70980392],\n",
       "       [-0.70196078],\n",
       "       [-0.69411765],\n",
       "       [-0.68627451],\n",
       "       [-0.67843137],\n",
       "       [-0.67058824],\n",
       "       [-0.6627451 ],\n",
       "       [-0.65490196],\n",
       "       [-0.64705882],\n",
       "       [-0.63921569],\n",
       "       [-0.63137255],\n",
       "       [-0.62352941],\n",
       "       [-0.61568627],\n",
       "       [-0.60784314],\n",
       "       [-0.6       ],\n",
       "       [-0.59215686],\n",
       "       [-0.58431373],\n",
       "       [-0.57647059],\n",
       "       [-0.56862745],\n",
       "       [-0.56078431],\n",
       "       [-0.55294118],\n",
       "       [-0.54509804],\n",
       "       [-0.5372549 ],\n",
       "       [-0.52941176],\n",
       "       [-0.52156863],\n",
       "       [-0.51372549],\n",
       "       [-0.50588235],\n",
       "       [-0.49803922],\n",
       "       [-0.49019608],\n",
       "       [-0.48235294],\n",
       "       [-0.4745098 ],\n",
       "       [-0.46666667],\n",
       "       [-0.45882353],\n",
       "       [-0.45098039],\n",
       "       [-0.44313725],\n",
       "       [-0.43529412],\n",
       "       [-0.42745098],\n",
       "       [-0.41960784],\n",
       "       [-0.41176471],\n",
       "       [-0.40392157],\n",
       "       [-0.39607843],\n",
       "       [-0.38823529],\n",
       "       [-0.38039216],\n",
       "       [-0.37254902],\n",
       "       [-0.36470588],\n",
       "       [-0.35686275],\n",
       "       [-0.34901961],\n",
       "       [-0.34117647],\n",
       "       [-0.33333333],\n",
       "       [-0.3254902 ],\n",
       "       [-0.31764706],\n",
       "       [-0.30980392],\n",
       "       [-0.30196078],\n",
       "       [-0.29411765],\n",
       "       [-0.28627451],\n",
       "       [-0.27843137],\n",
       "       [-0.27058824],\n",
       "       [-0.2627451 ],\n",
       "       [-0.25490196],\n",
       "       [-0.24705882],\n",
       "       [-0.23921569],\n",
       "       [-0.23137255],\n",
       "       [-0.22352941],\n",
       "       [-0.21568627],\n",
       "       [-0.20784314],\n",
       "       [-0.2       ],\n",
       "       [-0.19215686],\n",
       "       [-0.18431373],\n",
       "       [-0.17647059],\n",
       "       [-0.16862745],\n",
       "       [-0.16078431],\n",
       "       [-0.15294118],\n",
       "       [-0.14509804],\n",
       "       [-0.1372549 ],\n",
       "       [-0.12941176],\n",
       "       [-0.12156863],\n",
       "       [-0.11372549],\n",
       "       [-0.10588235],\n",
       "       [-0.09803922],\n",
       "       [-0.09019608],\n",
       "       [-0.08235294],\n",
       "       [-0.0745098 ],\n",
       "       [-0.06666667],\n",
       "       [-0.05882353],\n",
       "       [-0.05098039],\n",
       "       [-0.04313725],\n",
       "       [-0.03529412],\n",
       "       [-0.02745098],\n",
       "       [-0.01960784],\n",
       "       [-0.01176471],\n",
       "       [-0.00392157],\n",
       "       [ 0.00392157],\n",
       "       [ 0.01176471],\n",
       "       [ 0.01960784],\n",
       "       [ 0.02745098],\n",
       "       [ 0.03529412],\n",
       "       [ 0.04313725],\n",
       "       [ 0.05098039],\n",
       "       [ 0.05882353],\n",
       "       [ 0.06666667],\n",
       "       [ 0.0745098 ],\n",
       "       [ 0.08235294],\n",
       "       [ 0.09019608],\n",
       "       [ 0.09803922],\n",
       "       [ 0.10588235],\n",
       "       [ 0.11372549],\n",
       "       [ 0.12156863],\n",
       "       [ 0.12941176],\n",
       "       [ 0.1372549 ],\n",
       "       [ 0.14509804],\n",
       "       [ 0.15294118],\n",
       "       [ 0.16078431],\n",
       "       [ 0.16862745],\n",
       "       [ 0.17647059],\n",
       "       [ 0.18431373],\n",
       "       [ 0.19215686],\n",
       "       [ 0.2       ],\n",
       "       [ 0.20784314],\n",
       "       [ 0.21568627],\n",
       "       [ 0.22352941],\n",
       "       [ 0.23137255],\n",
       "       [ 0.23921569],\n",
       "       [ 0.24705882],\n",
       "       [ 0.25490196],\n",
       "       [ 0.2627451 ],\n",
       "       [ 0.27058824],\n",
       "       [ 0.27843137],\n",
       "       [ 0.28627451],\n",
       "       [ 0.29411765],\n",
       "       [ 0.30196078],\n",
       "       [ 0.30980392],\n",
       "       [ 0.31764706],\n",
       "       [ 0.3254902 ],\n",
       "       [ 0.33333333],\n",
       "       [ 0.34117647],\n",
       "       [ 0.34901961],\n",
       "       [ 0.35686275],\n",
       "       [ 0.36470588],\n",
       "       [ 0.37254902],\n",
       "       [ 0.38039216],\n",
       "       [ 0.38823529],\n",
       "       [ 0.39607843],\n",
       "       [ 0.40392157],\n",
       "       [ 0.41176471],\n",
       "       [ 0.41960784],\n",
       "       [ 0.42745098],\n",
       "       [ 0.43529412],\n",
       "       [ 0.44313725],\n",
       "       [ 0.45098039],\n",
       "       [ 0.45882353],\n",
       "       [ 0.46666667],\n",
       "       [ 0.4745098 ],\n",
       "       [ 0.48235294],\n",
       "       [ 0.49019608],\n",
       "       [ 0.49803922],\n",
       "       [ 0.50588235],\n",
       "       [ 0.51372549],\n",
       "       [ 0.52156863],\n",
       "       [ 0.52941176],\n",
       "       [ 0.5372549 ],\n",
       "       [ 0.54509804],\n",
       "       [ 0.55294118],\n",
       "       [ 0.56078431],\n",
       "       [ 0.56862745],\n",
       "       [ 0.57647059],\n",
       "       [ 0.58431373],\n",
       "       [ 0.59215686],\n",
       "       [ 0.6       ],\n",
       "       [ 0.60784314],\n",
       "       [ 0.61568627],\n",
       "       [ 0.62352941],\n",
       "       [ 0.63137255],\n",
       "       [ 0.63921569],\n",
       "       [ 0.64705882],\n",
       "       [ 0.65490196],\n",
       "       [ 0.6627451 ],\n",
       "       [ 0.67058824],\n",
       "       [ 0.67843137],\n",
       "       [ 0.68627451],\n",
       "       [ 0.69411765],\n",
       "       [ 0.70196078],\n",
       "       [ 0.70980392],\n",
       "       [ 0.71764706],\n",
       "       [ 0.7254902 ],\n",
       "       [ 0.73333333],\n",
       "       [ 0.74117647],\n",
       "       [ 0.74901961],\n",
       "       [ 0.75686275],\n",
       "       [ 0.76470588],\n",
       "       [ 0.77254902],\n",
       "       [ 0.78039216],\n",
       "       [ 0.78823529],\n",
       "       [ 0.79607843],\n",
       "       [ 0.80392157],\n",
       "       [ 0.81176471],\n",
       "       [ 0.81960784],\n",
       "       [ 0.82745098],\n",
       "       [ 0.83529412],\n",
       "       [ 0.84313725],\n",
       "       [ 0.85098039],\n",
       "       [ 0.85882353],\n",
       "       [ 0.86666667],\n",
       "       [ 0.8745098 ],\n",
       "       [ 0.88235294],\n",
       "       [ 0.89019608],\n",
       "       [ 0.89803922],\n",
       "       [ 0.90588235],\n",
       "       [ 0.91372549],\n",
       "       [ 0.92156863],\n",
       "       [ 0.92941176],\n",
       "       [ 0.9372549 ],\n",
       "       [ 0.94509804],\n",
       "       [ 0.95294118],\n",
       "       [ 0.96078431],\n",
       "       [ 0.96862745],\n",
       "       [ 0.97647059],\n",
       "       [ 0.98431373],\n",
       "       [ 0.99215686],\n",
       "       [ 1.        ]])"
      ]
     },
     "execution_count": 37,
     "metadata": {},
     "output_type": "execute_result"
    }
   ],
   "source": [
    "data['x']"
   ]
  },
  {
   "cell_type": "code",
   "execution_count": 61,
   "id": "63ccbab8-1ceb-42e6-93a2-be586855e38f",
   "metadata": {},
   "outputs": [
    {
     "data": {
      "text/plain": [
       "array([[ 1.22464680e-16,  2.95362215e-17,  1.08470836e-16, ...,\n",
       "         3.57297976e-16,  2.61833228e-16,  9.39536897e-17],\n",
       "       [ 2.46374492e-02,  2.38801772e-02,  2.31684474e-02, ...,\n",
       "         6.07646192e-03,  6.02971754e-03,  5.98368729e-03],\n",
       "       [ 4.92599411e-02,  4.77471404e-02,  4.63251758e-02, ...,\n",
       "         1.21528662e-02,  1.20593792e-02,  1.19673204e-02],\n",
       "       ...,\n",
       "       [-4.92599411e-02, -4.77471404e-02, -4.63251758e-02, ...,\n",
       "        -1.21528662e-02, -1.20593792e-02, -1.19673204e-02],\n",
       "       [-2.46374492e-02, -2.38801772e-02, -2.31684474e-02, ...,\n",
       "        -6.07646192e-03, -6.02971754e-03, -5.98368729e-03],\n",
       "       [-1.22464680e-16, -1.08544418e-16, -1.29376253e-16, ...,\n",
       "         1.04877526e-16,  2.17508692e-16,  1.12388795e-16]])"
      ]
     },
     "execution_count": 61,
     "metadata": {},
     "output_type": "execute_result"
    }
   ],
   "source": [
    "data['usol']"
   ]
  },
  {
   "cell_type": "code",
   "execution_count": 62,
   "id": "bcf239be-1894-4eaf-a821-b84349343f88",
   "metadata": {},
   "outputs": [
    {
     "data": {
      "text/plain": [
       "array([[ 1.22464680e-16,  2.16583317e-16,  1.16508266e-16, ...,\n",
       "         1.04168654e-16,  7.11914489e-17, -6.49341278e-17],\n",
       "       [ 2.46374492e-02,  2.38801772e-02,  2.31684474e-02, ...,\n",
       "         6.07646188e-03,  6.02971749e-03,  5.98368723e-03],\n",
       "       [ 4.92599411e-02,  4.77471404e-02,  4.63251758e-02, ...,\n",
       "         1.21528662e-02,  1.20593792e-02,  1.19673204e-02],\n",
       "       ...,\n",
       "       [-4.92599411e-02, -4.77471404e-02, -4.63251758e-02, ...,\n",
       "        -1.21528662e-02, -1.20593792e-02, -1.19673204e-02],\n",
       "       [-2.46374492e-02, -2.38801772e-02, -2.31684474e-02, ...,\n",
       "        -6.07646188e-03, -6.02971749e-03, -5.98368723e-03],\n",
       "       [-1.22464680e-16, -1.77233302e-16, -1.54342007e-16, ...,\n",
       "        -6.56160778e-17,  6.20360074e-17, -6.64620655e-18]])"
      ]
     },
     "execution_count": 62,
     "metadata": {},
     "output_type": "execute_result"
    }
   ],
   "source": [
    "npzfile['usol']"
   ]
  },
  {
   "cell_type": "code",
   "execution_count": null,
   "id": "ab12988b-8dfb-4ec7-a5dc-18346fb44b0d",
   "metadata": {},
   "outputs": [],
   "source": []
  },
  {
   "cell_type": "code",
   "execution_count": null,
   "id": "0cf738e0-d734-4ffc-8180-59e090215283",
   "metadata": {},
   "outputs": [],
   "source": []
  },
  {
   "cell_type": "code",
   "execution_count": 7,
   "id": "2df71e7b-750e-41f9-b846-753fda82292c",
   "metadata": {},
   "outputs": [
    {
     "name": "stdout",
     "output_type": "stream",
     "text": [
      "Viscosity NU = 0.0031831\n",
      "NX = 128\n",
      "NT = 64\n",
      "Quadrature order = 50\n",
      "CPU times: user 2.09 s, sys: 0 ns, total: 2.09 s\n",
      "Wall time: 2.12 s\n"
     ]
    }
   ],
   "source": [
    "%%time\n",
    "burgers_solution_test(128, 64, \"burgers128x64\")"
   ]
  },
  {
   "cell_type": "code",
   "execution_count": 75,
   "id": "1db6c95a-e083-4860-b3b2-f90897a11004",
   "metadata": {},
   "outputs": [
    {
     "name": "stdout",
     "output_type": "stream",
     "text": [
      "  Viscosity NU = 0.0031831\n",
      "  NX = 128\n",
      "  NT = 128\n",
      "  Quadrature order = 50\n",
      "CPU times: user 4.54 s, sys: 3.9 ms, total: 4.54 s\n",
      "Wall time: 4.54 s\n"
     ]
    }
   ],
   "source": [
    "%%time\n",
    "burgers_solution_test(128, 128, \"burgers128x128\")"
   ]
  },
  {
   "cell_type": "code",
   "execution_count": 80,
   "id": "fb94cf87-917e-41a4-af38-d7d184bb191b",
   "metadata": {},
   "outputs": [
    {
     "name": "stdout",
     "output_type": "stream",
     "text": [
      "  Viscosity NU = 0.0031831\n",
      "  NX = 256\n",
      "  NT = 128\n",
      "  Quadrature order = 50\n",
      "CPU times: user 10.4 s, sys: 3.89 ms, total: 10.4 s\n",
      "Wall time: 10.4 s\n"
     ]
    }
   ],
   "source": [
    "%%time\n",
    "burgers_solution_test(256, 128, \"burgers256x128\")"
   ]
  },
  {
   "cell_type": "code",
   "execution_count": 81,
   "id": "386568ed-7474-4457-b55c-62090a6ae0b8",
   "metadata": {},
   "outputs": [
    {
     "name": "stdout",
     "output_type": "stream",
     "text": [
      "  Viscosity NU = 0.0031831\n",
      "  NX = 256\n",
      "  NT = 256\n",
      "  Quadrature order = 50\n",
      "CPU times: user 21.4 s, sys: 3.87 ms, total: 21.4 s\n",
      "Wall time: 21.4 s\n"
     ]
    }
   ],
   "source": [
    "%%time\n",
    "burgers_solution_test(256, 256, \"burgers256x256\")"
   ]
  },
  {
   "cell_type": "code",
   "execution_count": 82,
   "id": "d231157e-c4bf-4ccf-9c8e-dcd890da9351",
   "metadata": {},
   "outputs": [
    {
     "name": "stdout",
     "output_type": "stream",
     "text": [
      "  Viscosity NU = 0.0031831\n",
      "  NX = 512\n",
      "  NT = 256\n",
      "  Quadrature order = 50\n",
      "CPU times: user 42.2 s, sys: 11.8 ms, total: 42.2 s\n",
      "Wall time: 42.2 s\n"
     ]
    }
   ],
   "source": [
    "%%time\n",
    "burgers_solution_test(512, 256, \"burgers512x256\")"
   ]
  },
  {
   "cell_type": "code",
   "execution_count": 83,
   "id": "e7f432b5-6767-4400-9ed8-ec2dea750a90",
   "metadata": {},
   "outputs": [
    {
     "name": "stdout",
     "output_type": "stream",
     "text": [
      "  Viscosity NU = 0.0031831\n",
      "  NX = 512\n",
      "  NT = 512\n",
      "  Quadrature order = 50\n",
      "CPU times: user 1min 24s, sys: 3.83 ms, total: 1min 24s\n",
      "Wall time: 1min 25s\n"
     ]
    }
   ],
   "source": [
    "%%time\n",
    "burgers_solution_test(512, 512, \"burgers512x512\")"
   ]
  },
  {
   "cell_type": "code",
   "execution_count": null,
   "id": "f0066ebc-036d-4ba9-b169-6f1af6bf7a8e",
   "metadata": {},
   "outputs": [],
   "source": []
  },
  {
   "cell_type": "markdown",
   "id": "8696cf90-320c-4393-9603-ee6259b1c7d5",
   "metadata": {},
   "source": [
    "---\n",
    "## Problem 02\n",
    "\n",
    "viscosity = 0.1/np.pi"
   ]
  },
  {
   "cell_type": "code",
   "execution_count": 16,
   "id": "2c6a7e17-1ee0-4e67-b1df-385e0b94d6d2",
   "metadata": {
    "scrolled": true
   },
   "outputs": [],
   "source": [
    "nu = 0.1/np.pi\n",
    "xlo = -1.0\n",
    "xhi = +1.0\n",
    "tlo = 0.0\n",
    "thi = 0.99\n",
    "qn = 50  # quadrature order"
   ]
  },
  {
   "cell_type": "code",
   "execution_count": 12,
   "id": "8708d263-9bdc-4eca-aacc-a0e65d2101d8",
   "metadata": {
    "scrolled": true
   },
   "outputs": [
    {
     "name": "stdout",
     "output_type": "stream",
     "text": [
      "Viscosity NU = 0.031831\n",
      "NX = 256\n",
      "NT = 101\n",
      "Quadrature order = 50\n",
      "CPU times: user 7.37 s, sys: 0 ns, total: 7.37 s\n",
      "Wall time: 7.37 s\n"
     ]
    }
   ],
   "source": [
    "%%time\n",
    "dsname = \"burgers256x100-02.npz\"\n",
    "burgers_solution_test(256, 101, \"../data/\"+dsname)"
   ]
  },
  {
   "cell_type": "code",
   "execution_count": 134,
   "id": "506cfb33-31a3-4d3a-a9e5-118b70cdf78c",
   "metadata": {
    "scrolled": true
   },
   "outputs": [],
   "source": [
    "npzfile = np.load(\"../data/burgers256x100-02.npz\")\n",
    "t = np.ravel(npzfile['t'])  # ravel returns a contiguous flattened array\n",
    "x = np.ravel(npzfile['x'])\n",
    "u = np.real(npzfile['usol'])"
   ]
  },
  {
   "cell_type": "code",
   "execution_count": 135,
   "id": "1e6f49b0-1d66-4f0f-9a6f-89601c1ca7a2",
   "metadata": {
    "scrolled": true
   },
   "outputs": [
    {
     "data": {
      "text/plain": [
       "['x', 't', 'usol']"
      ]
     },
     "execution_count": 135,
     "metadata": {},
     "output_type": "execute_result"
    }
   ],
   "source": [
    "npzfile.files"
   ]
  },
  {
   "cell_type": "code",
   "execution_count": 136,
   "id": "f0edb49c-5597-471e-b758-f5abd96e1b88",
   "metadata": {
    "scrolled": true
   },
   "outputs": [
    {
     "data": {
      "text/plain": [
       "(256, 101)"
      ]
     },
     "execution_count": 136,
     "metadata": {},
     "output_type": "execute_result"
    }
   ],
   "source": [
    "npzfile['x'].size, npzfile['t'].size"
   ]
  },
  {
   "cell_type": "code",
   "execution_count": null,
   "id": "cdd03d49-6712-456c-9793-e885b9e2477c",
   "metadata": {},
   "outputs": [],
   "source": []
  },
  {
   "cell_type": "code",
   "execution_count": 13,
   "id": "9991ddfa-42f4-489a-adfc-667fa8b853d9",
   "metadata": {},
   "outputs": [
    {
     "name": "stdout",
     "output_type": "stream",
     "text": [
      "Viscosity NU = 0.031831\n",
      "NX = 128\n",
      "NT = 64\n",
      "Quadrature order = 50\n",
      "CPU times: user 2.13 s, sys: 0 ns, total: 2.13 s\n",
      "Wall time: 2.13 s\n"
     ]
    }
   ],
   "source": [
    "%%time\n",
    "burgers_solution_test(128, 64, \"burgers128x64-02\")"
   ]
  },
  {
   "cell_type": "code",
   "execution_count": 17,
   "id": "aac7200c-5bcf-4795-be81-e564fa4e73b5",
   "metadata": {},
   "outputs": [
    {
     "name": "stdout",
     "output_type": "stream",
     "text": [
      "Viscosity NU = 0.031831\n",
      "NX = 256\n",
      "NT = 128\n",
      "Quadrature order = 50\n",
      "CPU times: user 9.55 s, sys: 0 ns, total: 9.55 s\n",
      "Wall time: 9.55 s\n"
     ]
    }
   ],
   "source": [
    "%%time\n",
    "burgers_solution_test(256, 128, \"burgers256x128-02\")"
   ]
  },
  {
   "cell_type": "code",
   "execution_count": 18,
   "id": "7d160810-31f4-4757-ac5c-99a756b68a80",
   "metadata": {},
   "outputs": [
    {
     "name": "stdout",
     "output_type": "stream",
     "text": [
      "Viscosity NU = 0.031831\n",
      "NX = 512\n",
      "NT = 256\n",
      "Quadrature order = 50\n",
      "CPU times: user 41.2 s, sys: 0 ns, total: 41.2 s\n",
      "Wall time: 41.2 s\n"
     ]
    }
   ],
   "source": [
    "%%time\n",
    "burgers_solution_test(512, 256, \"burgers512x256-02\")"
   ]
  },
  {
   "cell_type": "markdown",
   "id": "f1b149bb-8743-4dc7-bad1-d6201a497397",
   "metadata": {},
   "source": [
    "---\n",
    "## Problem 03\n",
    "\n",
    "viscosity = 0.001/np.pi"
   ]
  },
  {
   "cell_type": "code",
   "execution_count": 144,
   "id": "8acafc60-b215-4692-bfb0-c1daac3fcde1",
   "metadata": {},
   "outputs": [
    {
     "data": {
      "text/plain": [
       "0.0003183098861837907"
      ]
     },
     "execution_count": 144,
     "metadata": {},
     "output_type": "execute_result"
    }
   ],
   "source": [
    "0.001/np.pi"
   ]
  },
  {
   "cell_type": "code",
   "execution_count": 145,
   "id": "ebf6841c-60a9-4433-ab63-b5e365885c54",
   "metadata": {
    "scrolled": true
   },
   "outputs": [],
   "source": [
    "nu = 0.001/np.pi\n",
    "xlo = -1.0\n",
    "xhi = +1.0\n",
    "tlo = 0.0\n",
    "thi = 0.99\n",
    "qn = 50  # quadrature order"
   ]
  },
  {
   "cell_type": "code",
   "execution_count": 146,
   "id": "06da0be8-4a6b-402b-a041-d05138cb1f5a",
   "metadata": {
    "scrolled": true
   },
   "outputs": [
    {
     "name": "stdout",
     "output_type": "stream",
     "text": [
      "Viscosity NU = 0.00031831\n",
      "NX = 256\n",
      "NT = 101\n",
      "Quadrature order = 50\n",
      "CPU times: user 7.66 s, sys: 0 ns, total: 7.66 s\n",
      "Wall time: 7.68 s\n"
     ]
    }
   ],
   "source": [
    "%%time\n",
    "dsname = \"burgers256x100-03.npz\"\n",
    "burgers_solution_test(256, 101, \"../data/\"+dsname)"
   ]
  },
  {
   "cell_type": "markdown",
   "id": "8fbcc42f-a909-4e41-bae0-c08220733ed1",
   "metadata": {},
   "source": [
    "---\n",
    "## References\n",
    "\n",
    "Raissi, M., Perdikaris, P., & Karniadakis, G. E. (2019). Physics-informed neural networks: A deep learning framework for solving forward and inverse problems involving nonlinear partial differential equations. Journal of Computational Physics, 378, 686–707. https://doi.org/10.1016/j.jcp.2018.10.045\n",
    "\n",
    "Basdevant, C., Deville, M., Haldenwang, P., Lacroix, J. M., Ouazzani, J., Peyret, R., Orlandi, P., & Patera, A. T. (1986). Spectral and finite difference solutions of the Burgers equation. Computers & Fluids, 14(1), Article 1. https://doi.org/10.1016/0045-7930(86)90036-8\n",
    "\n",
    "Burkardt, J. (2013). Investigating Uncertain Parameters in the Burgers Equation. Mathematics Department, Ajou University, Suwon, Korea. https://people.sc.fsu.edu/~jburkardt/presentations/burgers_2013_ajou.pdf"
   ]
  },
  {
   "cell_type": "markdown",
   "id": "4bf4f3d7-0378-49cf-86d0-3e482558c7da",
   "metadata": {},
   "source": [
    "<hr style=\"height:10px;border-width:0;background-color:gray\">\n",
    "\n",
    "## Environment"
   ]
  },
  {
   "cell_type": "code",
   "execution_count": 1,
   "id": "25e1ff85-a0f5-4171-a0af-499b65be7931",
   "metadata": {},
   "outputs": [],
   "source": [
    "%%bash\n",
    "source $HOME/miniconda3/bin/activate psin\n",
    "conda list --explicit > Burgers-1D-Exact-Solution-environment.txt"
   ]
  },
  {
   "cell_type": "code",
   "execution_count": null,
   "id": "d5087a5d-e1e8-4133-9d58-5a04404c3430",
   "metadata": {},
   "outputs": [],
   "source": []
  }
 ],
 "metadata": {
  "kernelspec": {
   "display_name": "psin",
   "language": "python",
   "name": "psin"
  },
  "language_info": {
   "codemirror_mode": {
    "name": "ipython",
    "version": 3
   },
   "file_extension": ".py",
   "mimetype": "text/x-python",
   "name": "python",
   "nbconvert_exporter": "python",
   "pygments_lexer": "ipython3",
   "version": "3.12.2"
  }
 },
 "nbformat": 4,
 "nbformat_minor": 5
}
